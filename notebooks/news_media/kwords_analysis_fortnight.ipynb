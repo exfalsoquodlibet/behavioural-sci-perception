{
 "cells": [
  {
   "cell_type": "markdown",
   "metadata": {},
   "source": [
    "# Aim"
   ]
  },
  {
   "cell_type": "markdown",
   "metadata": {},
   "source": [
    "In this notebook, we look at the trend over time of:\n",
    "- keyword prominence in the press\n",
    "- sentiment expressed toward the keyword (as manually annoted by researchers)"
   ]
  },
  {
   "cell_type": "markdown",
   "metadata": {},
   "source": [
    "We will report both basic summary measures and charts. \n",
    "\n",
    "We will do it by keyword."
   ]
  },
  {
   "cell_type": "markdown",
   "metadata": {},
   "source": [
    "## Keyword prominence\n",
    "\n",
    "A timeline of the covid19 pandemic is here: https://en.wikipedia.org/wiki/Timeline_of_the_COVID-19_pandemic_in_the_United_Kingdom\n",
    "and here: https://inews.co.uk/news/politics/lockdown-rules-easing-coronavirus-uk-measures-lifted-when-start-453497\n",
    "\n",
    "Key dates we will be looking at:\n",
    "\n",
    "- (week including) 11-03-2020: \"herd immunity\" approach is mentioned on BBC, generating controversy. \n",
    "- (week including) 23-03-2020: the UK enters strict lockdown\n",
    "- (week including) 10-05-2020: Govt's message changes from \"stay at home\" to \"stay alert\", and a roadmap to ease lockdown is issued\n",
    "\n",
    "Note: our corpus consists of articles from the top-15 UK newspaper filtered on the basis of containing at least one of a set of pre-selected keywords (\"pre-filtered articles\" from now on).\n",
    "\n",
    "#### Measures \n",
    "\n",
    "- **normalised keyword frequencies (week or fortnight)**: (nkf) a keyword's raw count of occurrences in a week (fortnight) devided by the total word count that week (fortnight) (across all published pre-filtered articles). Word count only include count of nouns.\n",
    "\n",
    "- **relative document frequency (week or fortnight)**: (rdf) the number of pre-filtered articles in a week (fortnight) that contain the keyword devided by the total number of pre-filtered articles published that week (fortnight).\n",
    "\n",
    "- **nkf x rdf**: nkf * rdf (our final metric)\n",
    "\n"
   ]
  },
  {
   "cell_type": "markdown",
   "metadata": {},
   "source": [
    "## Sentiment\n",
    "\n",
    "For each keyword occurrence, we extracted the sentence in which the keyword occurred (\"opinoin context\"). Sentiment expressed in the sentence toward the keyword was manually coded on a -2 to +2 range."
   ]
  },
  {
   "cell_type": "code",
   "execution_count": null,
   "metadata": {},
   "outputs": [],
   "source": []
  },
  {
   "cell_type": "code",
   "execution_count": null,
   "metadata": {},
   "outputs": [],
   "source": []
  },
  {
   "cell_type": "markdown",
   "metadata": {},
   "source": [
    "# Set up and get data"
   ]
  },
  {
   "cell_type": "code",
   "execution_count": null,
   "metadata": {},
   "outputs": [],
   "source": [
    "import os\n",
    "import pickle"
   ]
  },
  {
   "cell_type": "code",
   "execution_count": null,
   "metadata": {},
   "outputs": [],
   "source": [
    "import numpy as np\n",
    "import pandas as pd"
   ]
  },
  {
   "cell_type": "code",
   "execution_count": null,
   "metadata": {},
   "outputs": [],
   "source": [
    "import psutil"
   ]
  },
  {
   "cell_type": "code",
   "execution_count": null,
   "metadata": {},
   "outputs": [],
   "source": [
    "import seaborn as sns\n",
    "import matplotlib.pyplot as plt"
   ]
  },
  {
   "cell_type": "code",
   "execution_count": null,
   "metadata": {},
   "outputs": [],
   "source": [
    "%matplotlib inline"
   ]
  },
  {
   "cell_type": "code",
   "execution_count": null,
   "metadata": {},
   "outputs": [],
   "source": [
    "import plotly.express as px\n",
    "import chart_studio.plotly as py\n",
    "import plotly.graph_objects as go\n",
    "import plotly.offline as pyo\n",
    "pyo.init_notebook_mode()"
   ]
  },
  {
   "cell_type": "code",
   "execution_count": null,
   "metadata": {},
   "outputs": [],
   "source": [
    "pd.set_option('display.max_colwidth', None)"
   ]
  },
  {
   "cell_type": "markdown",
   "metadata": {},
   "source": [
    "### Constant"
   ]
  },
  {
   "cell_type": "code",
   "execution_count": null,
   "metadata": {},
   "outputs": [],
   "source": [
    "DIR_DATA = os.environ.get(\"DIR_DATA_INTERIM\")"
   ]
  },
  {
   "cell_type": "code",
   "execution_count": null,
   "metadata": {},
   "outputs": [],
   "source": [
    "DIR_DATA_EXTRA = os.environ.get(\"DIR_DATA_EXTRA\")"
   ]
  },
  {
   "cell_type": "code",
   "execution_count": null,
   "metadata": {},
   "outputs": [],
   "source": [
    "# prominence\n",
    "term_freqs_nm = \"kword_rawfreq_2W-MON.csv\"\n",
    "doc_freqs_nm = \"kword_docfreq_2W-MON.csv\"\n",
    "metrics_nm = \"kword_rfrdf_2W-MON.csv\""
   ]
  },
  {
   "cell_type": "code",
   "execution_count": null,
   "metadata": {
    "scrolled": true
   },
   "outputs": [],
   "source": [
    "# sentiment\n",
    "sentiment_nm = \"preproc_kword_sent.pickle\""
   ]
  },
  {
   "cell_type": "code",
   "execution_count": null,
   "metadata": {},
   "outputs": [],
   "source": [
    "# keywords to be excluded because of low frequency in the corpus\n",
    "EXCLUDE_KWORDS = ['behav_insight', 'behavioural_economist', 'behav_analysis', 'chater', 'american_behav_scientists']\n",
    "NON_KWORDS = ['herd_immunity', 'behavioural_fatigue']"
   ]
  },
  {
   "cell_type": "markdown",
   "metadata": {},
   "source": [
    "## Import data"
   ]
  },
  {
   "cell_type": "code",
   "execution_count": null,
   "metadata": {},
   "outputs": [],
   "source": [
    "doc_freqs = pd.read_csv(os.path.join(DIR_DATA, doc_freqs_nm))"
   ]
  },
  {
   "cell_type": "code",
   "execution_count": null,
   "metadata": {},
   "outputs": [],
   "source": [
    "term_freqs = pd.read_csv(os.path.join(DIR_DATA, term_freqs_nm))"
   ]
  },
  {
   "cell_type": "code",
   "execution_count": null,
   "metadata": {},
   "outputs": [],
   "source": [
    "metrics = pd.read_csv(os.path.join(DIR_DATA, metrics_nm))"
   ]
  },
  {
   "cell_type": "code",
   "execution_count": null,
   "metadata": {},
   "outputs": [],
   "source": [
    "with open(os.path.join(DIR_DATA, sentiment_nm), \"rb\") as input_file:\n",
    "        sentiments = pickle.load(input_file)"
   ]
  },
  {
   "cell_type": "markdown",
   "metadata": {},
   "source": [
    "## Exclude words"
   ]
  },
  {
   "cell_type": "code",
   "execution_count": null,
   "metadata": {},
   "outputs": [],
   "source": [
    "EXCLUDE_LIST = EXCLUDE_KWORDS + NON_KWORDS"
   ]
  },
  {
   "cell_type": "code",
   "execution_count": null,
   "metadata": {},
   "outputs": [],
   "source": [
    "doc_freqs.drop(EXCLUDE_LIST, axis=1, inplace=True)"
   ]
  },
  {
   "cell_type": "code",
   "execution_count": null,
   "metadata": {},
   "outputs": [],
   "source": [
    "term_freqs.drop(EXCLUDE_LIST, axis=1, inplace=True)"
   ]
  },
  {
   "cell_type": "code",
   "execution_count": null,
   "metadata": {},
   "outputs": [],
   "source": [
    "metrics = metrics[~metrics.kword.isin(EXCLUDE_LIST)].copy()"
   ]
  },
  {
   "cell_type": "code",
   "execution_count": null,
   "metadata": {},
   "outputs": [],
   "source": [
    "sentiments = sentiments[~sentiments.kword.isin(EXCLUDE_LIST)].copy()"
   ]
  },
  {
   "cell_type": "code",
   "execution_count": null,
   "metadata": {},
   "outputs": [],
   "source": []
  },
  {
   "cell_type": "code",
   "execution_count": null,
   "metadata": {},
   "outputs": [],
   "source": [
    "term_freqs"
   ]
  },
  {
   "cell_type": "markdown",
   "metadata": {},
   "source": [
    "## Preprocessing of prominence/frequency data"
   ]
  },
  {
   "cell_type": "code",
   "execution_count": null,
   "metadata": {},
   "outputs": [],
   "source": [
    "def wide2long(df: pd.DataFrame, new_value_var: str, time_var: str ='fortnight_starting', new_group_var:str = 'kword') -> pd.DataFrame:\n",
    "    \n",
    "    return pd.melt(df,\n",
    "    id_vars=time_var,\n",
    "    var_name=new_group_var,\n",
    "    value_name=new_value_var)"
   ]
  },
  {
   "cell_type": "code",
   "execution_count": null,
   "metadata": {},
   "outputs": [],
   "source": [
    "doc_freqs"
   ]
  },
  {
   "cell_type": "code",
   "execution_count": null,
   "metadata": {},
   "outputs": [],
   "source": [
    "doc_freqs_l = wide2long(doc_freqs.drop(\"article_count\", axis=1), new_value_var='doc_freq')\n"
   ]
  },
  {
   "cell_type": "code",
   "execution_count": null,
   "metadata": {},
   "outputs": [],
   "source": [
    "term_freqs_l = wide2long(term_freqs.drop(\"word_count\", axis=1), new_value_var='term_freq')\n"
   ]
  },
  {
   "cell_type": "code",
   "execution_count": null,
   "metadata": {},
   "outputs": [],
   "source": [
    "prominence_df = metrics.merge(doc_freqs_l, on=['fortnight_starting', 'kword']).merge(term_freqs_l, on=['fortnight_starting', 'kword'])\n"
   ]
  },
  {
   "cell_type": "code",
   "execution_count": null,
   "metadata": {},
   "outputs": [],
   "source": [
    "prominence_df"
   ]
  },
  {
   "cell_type": "code",
   "execution_count": null,
   "metadata": {},
   "outputs": [],
   "source": [
    "prominence_df.drop(\"Unnamed: 0\", axis=1, inplace=True)"
   ]
  },
  {
   "cell_type": "markdown",
   "metadata": {},
   "source": [
    "#### Expressed normalised frequency (and so prominance) per 10,000 words"
   ]
  },
  {
   "cell_type": "code",
   "execution_count": null,
   "metadata": {},
   "outputs": [],
   "source": [
    "prominence_df['rkf'] = prominence_df.rkf * 10000"
   ]
  },
  {
   "cell_type": "code",
   "execution_count": null,
   "metadata": {},
   "outputs": [],
   "source": [
    "prominence_df['rkf*rdf'] = prominence_df['rkf*rdf'] * 10000"
   ]
  },
  {
   "cell_type": "code",
   "execution_count": null,
   "metadata": {},
   "outputs": [],
   "source": [
    "prominence_df"
   ]
  },
  {
   "cell_type": "code",
   "execution_count": null,
   "metadata": {},
   "outputs": [],
   "source": []
  },
  {
   "cell_type": "markdown",
   "metadata": {},
   "source": [
    "## Preprocessing of sentiment data"
   ]
  },
  {
   "cell_type": "markdown",
   "metadata": {},
   "source": [
    "Only keep the relevant columns"
   ]
  },
  {
   "cell_type": "code",
   "execution_count": null,
   "metadata": {},
   "outputs": [],
   "source": [
    "cols_to_keep = ['pub_date_dt', 'kword', 'opinion_context_id', 'keyword_sentiment', 'refers_to_gov', 'gov_sentiment']"
   ]
  },
  {
   "cell_type": "code",
   "execution_count": null,
   "metadata": {},
   "outputs": [],
   "source": [
    "sentiments = sentiments[cols_to_keep].copy()"
   ]
  },
  {
   "cell_type": "code",
   "execution_count": null,
   "metadata": {},
   "outputs": [],
   "source": [
    "sentiments"
   ]
  },
  {
   "cell_type": "markdown",
   "metadata": {},
   "source": [
    "Assign one unique id to each keyword-sentiment pair"
   ]
  },
  {
   "cell_type": "code",
   "execution_count": null,
   "metadata": {},
   "outputs": [],
   "source": [
    "sentiments['id'] = range(1, sentiments.shape[0]+1)"
   ]
  },
  {
   "cell_type": "code",
   "execution_count": null,
   "metadata": {},
   "outputs": [],
   "source": [
    "sentiments.id.count()"
   ]
  },
  {
   "cell_type": "markdown",
   "metadata": {},
   "source": [
    "### Code sentiment scores as labels: 'pos' and 'neg'"
   ]
  },
  {
   "cell_type": "code",
   "execution_count": null,
   "metadata": {},
   "outputs": [],
   "source": [
    "int2labels = {\n",
    "    -2: 'neg',\n",
    "    -1: 'neg',\n",
    "    0: 'neu',\n",
    "    1: 'pos',\n",
    "    2: 'pos'\n",
    "}"
   ]
  },
  {
   "cell_type": "code",
   "execution_count": null,
   "metadata": {},
   "outputs": [],
   "source": [
    "sentiments['kword_sent_label'] = [int2labels.get(score) for score in sentiments.keyword_sentiment]"
   ]
  },
  {
   "cell_type": "code",
   "execution_count": null,
   "metadata": {},
   "outputs": [],
   "source": [
    "sentiments['gov_sent_label'] = [int2labels.get(score) for score in sentiments.gov_sentiment]"
   ]
  },
  {
   "cell_type": "code",
   "execution_count": null,
   "metadata": {},
   "outputs": [],
   "source": [
    "sentiments"
   ]
  },
  {
   "cell_type": "markdown",
   "metadata": {},
   "source": [
    "## Aggregate sentiments\n",
    "\n",
    "We will report:\n",
    "- the number of positive vs. neutral vs. negative sentiments expressed in a fortnight toward a keyword\n",
    "- the corresponding proportions\n",
    "- the change in number from fornight-to-fortnight as % change\n",
    "\n",
    "There are fortnights where very few sentences expression a sentiment toward a given keyword. So % changes must be interpreted carefully."
   ]
  },
  {
   "cell_type": "code",
   "execution_count": null,
   "metadata": {},
   "outputs": [],
   "source": [
    "sentiments['kword_sent_cat'] = sentiments['kword_sent_label'].astype('category')"
   ]
  },
  {
   "cell_type": "code",
   "execution_count": null,
   "metadata": {},
   "outputs": [],
   "source": [
    "sent_counts = sentiments.set_index('pub_date_dt').groupby(['kword', 'kword_sent_cat', pd.Grouper(freq=\"2W-MON\", closed=\"left\", label=\"left\")]).agg(\n",
    "    {'id':\"count\",'refers_to_gov':'count'})"
   ]
  },
  {
   "cell_type": "code",
   "execution_count": null,
   "metadata": {},
   "outputs": [],
   "source": [
    "sent_counts"
   ]
  },
  {
   "cell_type": "code",
   "execution_count": null,
   "metadata": {},
   "outputs": [],
   "source": [
    "sent_counts.index.names = ['kword', 'kword_sent_cat', 'fortnight_starting']\n",
    "sent_counts.rename(columns={'id': 'sentiment_count', 'refers_to_gov': 'refers_to_gov_count'}, inplace=True)"
   ]
  },
  {
   "cell_type": "code",
   "execution_count": null,
   "metadata": {},
   "outputs": [],
   "source": [
    "sent_counts"
   ]
  },
  {
   "cell_type": "code",
   "execution_count": null,
   "metadata": {},
   "outputs": [],
   "source": [
    "sent_counts = sent_counts.reset_index(level=\"kword_sent_cat\").merge(sent_counts.groupby(['kword', 'fortnight_starting'], observed=False)['sentiment_count'].sum(),\n",
    "                                                           left_index=True, right_index=True).rename(columns={'sentiment_count_x': 'sentiment_count', \n",
    "                                                                                                              'sentiment_count_y': 'tot_counts'})"
   ]
  },
  {
   "cell_type": "markdown",
   "metadata": {},
   "source": [
    "Calculate proportions per keyword/week of each sentiment type."
   ]
  },
  {
   "cell_type": "code",
   "execution_count": null,
   "metadata": {},
   "outputs": [],
   "source": [
    "sent_counts['prop_sentiments'] = round(sent_counts['sentiment_count'] / sent_counts['tot_counts'],2)"
   ]
  },
  {
   "cell_type": "code",
   "execution_count": null,
   "metadata": {},
   "outputs": [],
   "source": [
    "sent_counts"
   ]
  },
  {
   "cell_type": "code",
   "execution_count": null,
   "metadata": {},
   "outputs": [],
   "source": [
    "# reset axis\n",
    "sent_counts.reset_index([\"kword\", \"fortnight_starting\"], inplace=True)"
   ]
  },
  {
   "cell_type": "code",
   "execution_count": null,
   "metadata": {},
   "outputs": [],
   "source": [
    "from datetime import datetime"
   ]
  },
  {
   "cell_type": "code",
   "execution_count": null,
   "metadata": {},
   "outputs": [],
   "source": [
    "date2num = {\n",
    "    datetime.strptime('2020-01-27', '%Y-%m-%d'): -4, \n",
    "    datetime.strptime('2020-02-10', '%Y-%m-%d'): -3, \n",
    "    datetime.strptime('2020-02-24', '%Y-%m-%d'): -2, \n",
    "    datetime.strptime('2020-03-09', '%Y-%m-%d'): -1,\n",
    "    datetime.strptime('2020-03-23', '%Y-%m-%d'): 0, \n",
    "    datetime.strptime('2020-04-06', '%Y-%m-%d'): 1, \n",
    "    datetime.strptime('2020-04-20', '%Y-%m-%d'): 2, \n",
    "    datetime.strptime('2020-05-04', '%Y-%m-%d'): 3, \n",
    "    datetime.strptime('2020-05-18', '%Y-%m-%d'): 4, \n",
    "    datetime.strptime('2020-06-01', '%Y-%m-%d'): 5, \n",
    "    datetime.strptime('2020-06-15', '%Y-%m-%d'): 6, \n",
    "    datetime.strptime('2020-06-29', '%Y-%m-%d'): 7\n",
    "}\n",
    "\n",
    "datestr2num = {\n",
    "    '2020-01-27': -4, \n",
    "    '2020-02-10': -3, \n",
    "    '2020-02-24': -2, \n",
    "    '2020-03-09': -1,\n",
    "    '2020-03-23': 0, \n",
    "    '2020-04-06': 1, \n",
    "    '2020-04-20': 2, \n",
    "    '2020-05-04': 3, \n",
    "    '2020-05-18': 4, \n",
    "    '2020-06-01': 5, \n",
    "    '2020-06-15': 6, \n",
    "    '2020-06-29': 7\n",
    "}"
   ]
  },
  {
   "cell_type": "code",
   "execution_count": null,
   "metadata": {},
   "outputs": [],
   "source": [
    "sent_counts['fortnight_to_lockdown'] = [date2num.get(fortnight) for fortnight in sent_counts.fortnight_starting]"
   ]
  },
  {
   "cell_type": "code",
   "execution_count": null,
   "metadata": {},
   "outputs": [],
   "source": [
    "prominence_df['fortnight_to_lockdown'] = [datestr2num.get(fortnight) for fortnight in \n",
    "                                          prominence_df.fortnight_starting]"
   ]
  },
  {
   "cell_type": "markdown",
   "metadata": {},
   "source": [
    "## Save data"
   ]
  },
  {
   "cell_type": "code",
   "execution_count": null,
   "metadata": {},
   "outputs": [],
   "source": [
    "#sent_counts.to_csv(os.path.join(DIR_DATA_EXTRA, \"kwords_sentiments_fortnight.csv\"))\n",
    "#prominence_df.to_csv(os.path.join(DIR_DATA_EXTRA, \"kwords_prominence_fortnight.csv\"))"
   ]
  },
  {
   "cell_type": "code",
   "execution_count": null,
   "metadata": {
    "scrolled": true
   },
   "outputs": [],
   "source": [
    "sent_counts"
   ]
  },
  {
   "cell_type": "markdown",
   "metadata": {},
   "source": [
    "### Settings for charts and tables"
   ]
  },
  {
   "cell_type": "code",
   "execution_count": null,
   "metadata": {},
   "outputs": [],
   "source": [
    "from plotly.subplots import make_subplots\n",
    "import plotly.graph_objects as go\n"
   ]
  },
  {
   "cell_type": "code",
   "execution_count": null,
   "metadata": {},
   "outputs": [],
   "source": []
  },
  {
   "cell_type": "code",
   "execution_count": null,
   "metadata": {
    "scrolled": true
   },
   "outputs": [],
   "source": [
    "fortnights = ['2020-01-27', '2020-02-10', '2020-02-24', '2020-03-09','2020-03-23', '2020-04-06', '2020-04-20', \n",
    " '2020-05-04', '2020-05-18', '2020-06-01', '2020-06-15', '2020-06-29']"
   ]
  },
  {
   "cell_type": "code",
   "execution_count": null,
   "metadata": {},
   "outputs": [],
   "source": [
    "fortnights_around_lockdown = [-4, -3, -2, -1, 0, 1, 2, 3, 4, 5, 6, 7]"
   ]
  },
  {
   "cell_type": "code",
   "execution_count": null,
   "metadata": {},
   "outputs": [],
   "source": [
    "from typing import List\n",
    "\n",
    "def draw_plot_combo(keyword:str,\n",
    "                    x_axis_var = \"fortnight_to_lockdown\",\n",
    "                    x_axis_tickvals = fortnights_around_lockdown,\n",
    "                    x_axis_title=\"Time (lockdown at 0)\",\n",
    "                    y_axis_range = List[float],\n",
    "                    y2_title_text=\"<b>Polarity of sentiment</b>\",\n",
    "                    y1_title_text=\"Salience\",\n",
    "                    font_size=28,\n",
    "                    sent_df: pd.DataFrame = sent_counts, \n",
    "                    prominence_df: pd.DataFrame = prominence_df,\n",
    "                    y2_showticklabels=True,\n",
    "                    y1_showticklabels=True,\n",
    "                    y1_color = \"white\", \n",
    "                    y2_color = \"white\",\n",
    "                    x_showticklabels=True\n",
    "             ):\n",
    "    \n",
    "    # subset datasets \n",
    "    sent_df = sent_df[(sent_df.kword == keyword)].copy()\n",
    "    prominence_df = prominence_df[prominence_df.kword == keyword].copy()\n",
    "    \n",
    "    fig = make_subplots(specs=[[{\"secondary_y\": True}]])\n",
    "    \n",
    "    sent2fillcol = {\n",
    "        \"neg\": \"red\",\n",
    "        \"neu\": \"white\",\n",
    "        \"pos\": \"darkgreen\"\n",
    "    }\n",
    "    \n",
    "    bubble_fillcols = [sent2fillcol.get(sent) for sent in sent_df['kword_sent_cat']]\n",
    "    \n",
    "    sent2linecol = {\n",
    "        \"neg\": \"red\",\n",
    "        \"neu\": \"black\",\n",
    "        \"pos\": \"darkgreen\"\n",
    "    }\n",
    "\n",
    "    bubble_linecols = [sent2linecol.get(sent) for sent in sent_df['kword_sent_cat']]\n",
    "    \n",
    "    # customise text of sentiment label\n",
    "    sent_df['kword_sent_cat'] = [\" \" + str(label) for label in sent_df['kword_sent_cat']]\n",
    "    sent_df['kword_sent_cat'] = sent_df['kword_sent_cat'].astype('category')\n",
    "    \n",
    "    \n",
    "    trace1 = go.Scatter(\n",
    "        x=prominence_df[x_axis_var], \n",
    "        y=prominence_df['salience'],\n",
    "        line=dict(color='black'),\n",
    "        name=\"Prominence (RKF * RDF)\" \n",
    "    )\n",
    "    \n",
    "    trace2 = go.Scatter(\n",
    "        x=sent_df[x_axis_var],\n",
    "        y=sent_df['kword_sent_cat'],\n",
    "        mode='markers',\n",
    "        name=\"Polarity of sentiment\",\n",
    "        yaxis='y2',\n",
    "        marker=dict(\n",
    "            color=bubble_fillcols,\n",
    "            line={\"color\":bubble_linecols},\n",
    "            size=sent_df['sentiment_count'],\n",
    "            sizemode='area',\n",
    "            # sizeref=2.*max(sent_df['sentiment_count'])/(50.**2),\n",
    "            sizeref=2.*20/(50.**2),\n",
    "            sizemin=2,\n",
    "        ))\n",
    "\n",
    "    fig.add_trace(trace1)\n",
    "    fig.add_trace(trace2,secondary_y=True)\n",
    "    \n",
    "    # Set x-axis title\n",
    "    fig.update_xaxes(\n",
    "        showgrid=False,\n",
    "        zeroline=False,\n",
    "        showline=True, linewidth=1, linecolor='black', mirror=True,\n",
    "        # tickangle =-45,\n",
    "        tickvals= x_axis_tickvals,\n",
    "        title_text=x_axis_title,\n",
    "    showticklabels=x_showticklabels)\n",
    "\n",
    "    # Set y-axes titles\n",
    "    fig.update_yaxes(title_text=y2_title_text, showgrid=False, zeroline=False, secondary_y=True,\n",
    "                    showticklabels=y2_showticklabels,\n",
    "                    tickfont=dict(color=y2_color))\n",
    "    fig.update_yaxes(title_text=y1_title_text, range=y_axis_range, showgrid=False, zeroline=False, secondary_y=False,\n",
    "                    showticklabels=y1_showticklabels,\n",
    "                    tickfont=dict(color=y1_color))\n",
    "\n",
    "    fig.update_shapes(dict(xref='x', yref='y'))\n",
    "    fig.update_layout(height=700, width=1000,\n",
    "                  #title_text=f'{keyword}',\n",
    "                      showlegend=False,\n",
    "                      paper_bgcolor='rgba(0,0,0,0)',\n",
    "                      plot_bgcolor='rgba(0,0, 0,0)',\n",
    "                      yaxis=dict(showline=True, linewidth=1, linecolor='black', mirror=True),\n",
    "                      font=dict(\n",
    "                        family=\"Helvetica\",\n",
    "                        size=font_size,\n",
    "                        color=\"black\"\n",
    "                        ),\n",
    "                      margin=dict(l=5, r=5, t=5, b=5),\n",
    "                      shapes=[\n",
    "        # 1st highlight during March 23 - May 10\n",
    "        dict(\n",
    "            type=\"rect\",\n",
    "            # x-reference is assigned to the x-values\n",
    "            xref=\"x\",\n",
    "            # y-reference is assigned to the plot paper [0,1]\n",
    "            yref=\"paper\",\n",
    "            x0=0,\n",
    "            #x0=\"2020-03-23\",\n",
    "            y0=0,\n",
    "            x1=3,\n",
    "            #x1=\"2020-05-04\",\n",
    "            y1=1,\n",
    "            fillcolor='rgba(30,30,30,0.4)', \n",
    "            opacity=0.2,\n",
    "            layer=\"below\",\n",
    "            line_width=0)])\n",
    "\n",
    "    return pyo.iplot(fig)"
   ]
  },
  {
   "cell_type": "code",
   "execution_count": null,
   "metadata": {},
   "outputs": [],
   "source": []
  },
  {
   "cell_type": "markdown",
   "metadata": {},
   "source": [
    "### Table of sentiment (function)"
   ]
  },
  {
   "cell_type": "code",
   "execution_count": null,
   "metadata": {},
   "outputs": [],
   "source": [
    "def table_sentiment(df: pd.DataFrame, kword:str) -> pd.DataFrame:\n",
    "    \n",
    "    fortnight_to_lockdown = [-4,-3,-2,-1,0,1,2,3,4,5,6,7]\n",
    "    #assert all(['fortnight_starting', 'kword_sent_cat', 'sentiment_count', 'prop_sentiments', 'fortnight_to_lockdown']) in df.columns\n",
    "    \n",
    "    df = df.reset_index()\n",
    "    pivott = df[df.kword == kword].pivot(index='fortnight_starting', \n",
    "                                         columns='kword_sent_cat', \n",
    "                                         values=['sentiment_count', 'prop_sentiments'])\n",
    "    pivott.columns\n",
    "    pivott.sentiment_count = pivott.sentiment_count.astype('int')\n",
    "    \n",
    "    pivott.set_index([pivott.index, fortnight_to_lockdown], inplace=True)\n",
    "    pivott.index.names = ['fortnight_starting', 'fortnight_to_lockdown']\n",
    "    \n",
    "    return pivott"
   ]
  },
  {
   "cell_type": "markdown",
   "metadata": {},
   "source": [
    "#### Crate and save table for all keywords"
   ]
  },
  {
   "cell_type": "code",
   "execution_count": null,
   "metadata": {},
   "outputs": [],
   "source": [
    "sent_table = pd.DataFrame()"
   ]
  },
  {
   "cell_type": "code",
   "execution_count": null,
   "metadata": {},
   "outputs": [],
   "source": [
    "for kw in sent_counts.kword.unique():\n",
    "    subdata = table_sentiment(df=sent_counts, kword=kw)\n",
    "    \n",
    "    kw_list = [kw] * subdata.shape[0]\n",
    "    subdata.set_index([subdata.index, kw_list], inplace=True)\n",
    "    \n",
    "    #subdata['kword'] = kw\n",
    "    sent_table = sent_table.append(subdata)\n",
    "    \n",
    "    "
   ]
  },
  {
   "cell_type": "code",
   "execution_count": null,
   "metadata": {},
   "outputs": [],
   "source": [
    "#sent_table"
   ]
  },
  {
   "cell_type": "code",
   "execution_count": null,
   "metadata": {},
   "outputs": [],
   "source": [
    "sent_table.to_csv(os.path.join(DIR_DATA_EXTRA, \"news_sentiment_table.csv\"))"
   ]
  },
  {
   "cell_type": "code",
   "execution_count": null,
   "metadata": {},
   "outputs": [],
   "source": []
  },
  {
   "cell_type": "code",
   "execution_count": null,
   "metadata": {},
   "outputs": [],
   "source": []
  },
  {
   "cell_type": "markdown",
   "metadata": {},
   "source": [
    "## Prepare prominence tables"
   ]
  },
  {
   "cell_type": "code",
   "execution_count": null,
   "metadata": {
    "scrolled": true
   },
   "outputs": [],
   "source": [
    "prominence_df.columns"
   ]
  },
  {
   "cell_type": "code",
   "execution_count": null,
   "metadata": {},
   "outputs": [],
   "source": [
    "prominence_df.rename(columns={'rkf*rdf':'salience', 'rkf':'normTF', \n",
    "                             'rdf':'relDF', 'term_freq': 'TF', 'doc_freq':'DF'}, inplace=True)"
   ]
  },
  {
   "cell_type": "code",
   "execution_count": null,
   "metadata": {},
   "outputs": [],
   "source": [
    "prominence_df = prominence_df[['kword', 'fortnight_starting', 'fortnight_to_lockdown', 'salience', 'normTF', \n",
    "                               'relDF', 'TF', 'DF']].copy()"
   ]
  },
  {
   "cell_type": "code",
   "execution_count": null,
   "metadata": {},
   "outputs": [],
   "source": []
  },
  {
   "cell_type": "markdown",
   "metadata": {},
   "source": [
    "### Calculate the difference in salience between adjacent time points"
   ]
  },
  {
   "cell_type": "code",
   "execution_count": null,
   "metadata": {},
   "outputs": [],
   "source": [
    "prominence_df['salience_diff'] = prominence_df.groupby(\"kword\")['salience'].diff(1)"
   ]
  },
  {
   "cell_type": "code",
   "execution_count": null,
   "metadata": {},
   "outputs": [],
   "source": [
    "prominence_df = prominence_df[['kword', 'fortnight_starting', 'fortnight_to_lockdown', 'salience', 'salience_diff', 'normTF', \n",
    "                               'relDF', 'TF', 'DF']]"
   ]
  },
  {
   "cell_type": "code",
   "execution_count": null,
   "metadata": {},
   "outputs": [],
   "source": [
    "# check\n",
    "prominence_df[prominence_df.kword == \"michie\"]"
   ]
  },
  {
   "cell_type": "code",
   "execution_count": null,
   "metadata": {},
   "outputs": [],
   "source": [
    "max_salience = max(prominence_df[prominence_df.kword != 'behav_science'].salience) + 0.5"
   ]
  },
  {
   "cell_type": "code",
   "execution_count": null,
   "metadata": {},
   "outputs": [],
   "source": [
    "print(max_salience)"
   ]
  },
  {
   "cell_type": "code",
   "execution_count": null,
   "metadata": {},
   "outputs": [],
   "source": []
  },
  {
   "cell_type": "markdown",
   "metadata": {},
   "source": [
    "# Named key actors"
   ]
  },
  {
   "cell_type": "markdown",
   "metadata": {},
   "source": [
    "Here we look at the main named key actors:\n",
    "- halpern\n",
    "- michie\n",
    "- spi-b\n",
    "- behavioural_insights_team / nudge_unit\n",
    "- american_behavioural_scientist (thaler, sunstein, kahneman)"
   ]
  },
  {
   "cell_type": "markdown",
   "metadata": {},
   "source": [
    "## Michie"
   ]
  },
  {
   "cell_type": "markdown",
   "metadata": {},
   "source": [
    "### Prominence"
   ]
  },
  {
   "cell_type": "code",
   "execution_count": null,
   "metadata": {},
   "outputs": [],
   "source": [
    "prominence_df[prominence_df.kword == \"michie\"]"
   ]
  },
  {
   "cell_type": "markdown",
   "metadata": {},
   "source": [
    "### Sentiment"
   ]
  },
  {
   "cell_type": "code",
   "execution_count": null,
   "metadata": {
    "scrolled": true
   },
   "outputs": [],
   "source": [
    "table_sentiment(df=sent_counts, kword=\"michie\")"
   ]
  },
  {
   "cell_type": "code",
   "execution_count": null,
   "metadata": {
    "scrolled": true
   },
   "outputs": [],
   "source": [
    "draw_plot_combo(keyword=\"michie\", y_axis_range=[-0.1, max_salience],\n",
    "                x_axis_var = \"fortnight_to_lockdown\",\n",
    "                    x_axis_tickvals = fortnights_around_lockdown,\n",
    "                    x_axis_title=\"\",\n",
    "                    y2_title_text=\"\",\n",
    "                    y1_title_text=\"\",\n",
    "                    sent_df=sent_counts, \n",
    "                    prominence_df= prominence_df,\n",
    "                    y2_color=\"white\",\n",
    "                    y1_color=\"black\",\n",
    "                    x_showticklabels=True)"
   ]
  },
  {
   "cell_type": "code",
   "execution_count": null,
   "metadata": {},
   "outputs": [],
   "source": []
  },
  {
   "cell_type": "markdown",
   "metadata": {},
   "source": [
    "## Halpern"
   ]
  },
  {
   "cell_type": "markdown",
   "metadata": {},
   "source": [
    "### Prominence"
   ]
  },
  {
   "cell_type": "code",
   "execution_count": null,
   "metadata": {},
   "outputs": [],
   "source": [
    "prominence_df[prominence_df.kword == \"halpern\"]"
   ]
  },
  {
   "cell_type": "markdown",
   "metadata": {},
   "source": [
    "### Sentiment"
   ]
  },
  {
   "cell_type": "code",
   "execution_count": null,
   "metadata": {},
   "outputs": [],
   "source": [
    "table_sentiment(df=sent_counts, kword=\"halpern\")"
   ]
  },
  {
   "cell_type": "code",
   "execution_count": null,
   "metadata": {},
   "outputs": [],
   "source": [
    "draw_plot_combo(keyword=\"halpern\", y_axis_range=[-0.1, max_salience],\n",
    "                x_axis_var = \"fortnight_to_lockdown\",\n",
    "                    x_axis_tickvals = fortnights_around_lockdown,\n",
    "                    x_axis_title=\"\",\n",
    "                    y2_title_text=\"\",\n",
    "                    y1_title_text=\"\",\n",
    "                    sent_df=sent_counts, \n",
    "                    prominence_df= prominence_df,\n",
    "                    y2_color=\"white\",\n",
    "                    y1_color=\"white\",\n",
    "                    x_showticklabels=True)"
   ]
  },
  {
   "cell_type": "code",
   "execution_count": null,
   "metadata": {},
   "outputs": [],
   "source": []
  },
  {
   "cell_type": "markdown",
   "metadata": {},
   "source": [
    "## Behavioural Insight Team / Nudge Unit "
   ]
  },
  {
   "cell_type": "markdown",
   "metadata": {},
   "source": [
    "### Prominence"
   ]
  },
  {
   "cell_type": "code",
   "execution_count": null,
   "metadata": {},
   "outputs": [],
   "source": [
    "prominence_df[prominence_df.kword == \"behav_insights_team\"]"
   ]
  },
  {
   "cell_type": "markdown",
   "metadata": {},
   "source": [
    "### Sentiment"
   ]
  },
  {
   "cell_type": "code",
   "execution_count": null,
   "metadata": {},
   "outputs": [],
   "source": [
    "table_sentiment(df=sent_counts, kword=\"behav_insights_team\")"
   ]
  },
  {
   "cell_type": "code",
   "execution_count": null,
   "metadata": {},
   "outputs": [],
   "source": [
    "draw_plot_combo(keyword=\"behav_insights_team\", y_axis_range=[-0.1, max_salience],\n",
    "                x_axis_var = \"fortnight_to_lockdown\",\n",
    "                    x_axis_tickvals = fortnights_around_lockdown,\n",
    "                    x_axis_title=\"\",\n",
    "                    y2_title_text=\"\",\n",
    "                    y1_title_text=\"\",\n",
    "                    sent_df=sent_counts, \n",
    "                    prominence_df= prominence_df,\n",
    "                    y2_color=\"white\",\n",
    "                    y1_color=\"white\",\n",
    "                    x_showticklabels=True)"
   ]
  },
  {
   "cell_type": "code",
   "execution_count": null,
   "metadata": {},
   "outputs": [],
   "source": []
  },
  {
   "cell_type": "markdown",
   "metadata": {},
   "source": [
    "## SPI-B"
   ]
  },
  {
   "cell_type": "markdown",
   "metadata": {},
   "source": [
    "### Prominence"
   ]
  },
  {
   "cell_type": "code",
   "execution_count": null,
   "metadata": {},
   "outputs": [],
   "source": [
    "prominence_df[prominence_df.kword == \"spi-b\"]"
   ]
  },
  {
   "cell_type": "markdown",
   "metadata": {},
   "source": [
    "### Sentiment"
   ]
  },
  {
   "cell_type": "code",
   "execution_count": null,
   "metadata": {},
   "outputs": [],
   "source": [
    "table_sentiment(df=sent_counts, kword=\"spi-b\")"
   ]
  },
  {
   "cell_type": "code",
   "execution_count": null,
   "metadata": {},
   "outputs": [],
   "source": [
    "draw_plot_combo(keyword=\"spi-b\", y_axis_range=[-0.1, max_salience],\n",
    "                x_axis_var = \"fortnight_to_lockdown\",\n",
    "                    x_axis_tickvals = fortnights_around_lockdown,\n",
    "                    x_axis_title=\"\",\n",
    "                    y2_title_text=\"\",\n",
    "                    y1_title_text=\"\",\n",
    "                    sent_df=sent_counts, \n",
    "                    prominence_df= prominence_df,\n",
    "                    y2_color=\"white\",\n",
    "                    y1_color=\"white\",\n",
    "                    x_showticklabels=True)"
   ]
  },
  {
   "cell_type": "code",
   "execution_count": null,
   "metadata": {},
   "outputs": [],
   "source": []
  },
  {
   "cell_type": "markdown",
   "metadata": {},
   "source": [
    "## American behavioural scientists "
   ]
  },
  {
   "cell_type": "markdown",
   "metadata": {},
   "source": [
    "### Prominence"
   ]
  },
  {
   "cell_type": "code",
   "execution_count": null,
   "metadata": {},
   "outputs": [],
   "source": [
    "#prominence_df[prominence_df.kword == \"american_behav_scientists\"]"
   ]
  },
  {
   "cell_type": "markdown",
   "metadata": {},
   "source": [
    "## Sentiment"
   ]
  },
  {
   "cell_type": "code",
   "execution_count": null,
   "metadata": {},
   "outputs": [],
   "source": [
    "#table_sentiment(df=sent_counts, kword=\"american_behav_scientists\")"
   ]
  },
  {
   "cell_type": "code",
   "execution_count": null,
   "metadata": {
    "scrolled": true
   },
   "outputs": [],
   "source": [
    "#draw_plot_combo(keyword=\"american_behav_scientists\", y_axis_range=[-.00003, 0.0017])"
   ]
  },
  {
   "cell_type": "code",
   "execution_count": null,
   "metadata": {},
   "outputs": [],
   "source": []
  },
  {
   "cell_type": "code",
   "execution_count": null,
   "metadata": {},
   "outputs": [],
   "source": []
  },
  {
   "cell_type": "markdown",
   "metadata": {},
   "source": [
    "# General actors"
   ]
  },
  {
   "cell_type": "markdown",
   "metadata": {},
   "source": [
    "## Behavioural scientist"
   ]
  },
  {
   "cell_type": "markdown",
   "metadata": {},
   "source": [
    "### Prominence"
   ]
  },
  {
   "cell_type": "code",
   "execution_count": null,
   "metadata": {},
   "outputs": [],
   "source": [
    "prominence_df[prominence_df.kword == \"behav_scientist\"]"
   ]
  },
  {
   "cell_type": "markdown",
   "metadata": {},
   "source": [
    "### Sentiment"
   ]
  },
  {
   "cell_type": "code",
   "execution_count": null,
   "metadata": {},
   "outputs": [],
   "source": [
    "table_sentiment(df=sent_counts, kword=\"behav_scientist\")"
   ]
  },
  {
   "cell_type": "code",
   "execution_count": null,
   "metadata": {},
   "outputs": [],
   "source": [
    "draw_plot_combo(keyword=\"behav_scientist\", y_axis_range=[-0.1, max_salience],\n",
    "                x_axis_var = \"fortnight_to_lockdown\",\n",
    "                    x_axis_tickvals = fortnights_around_lockdown,\n",
    "                    x_axis_title=\"\",\n",
    "                    y2_title_text=\"\",\n",
    "                    y1_title_text=\"\",\n",
    "                    sent_df=sent_counts, \n",
    "                    prominence_df= prominence_df,\n",
    "                    y2_color=\"white\",\n",
    "                    y1_color=\"white\",\n",
    "                    x_showticklabels=True)"
   ]
  },
  {
   "cell_type": "code",
   "execution_count": null,
   "metadata": {},
   "outputs": [],
   "source": [
    "prominence_df.kword.unique()"
   ]
  },
  {
   "cell_type": "code",
   "execution_count": null,
   "metadata": {},
   "outputs": [],
   "source": []
  },
  {
   "cell_type": "markdown",
   "metadata": {},
   "source": [
    "## Psychologist"
   ]
  },
  {
   "cell_type": "markdown",
   "metadata": {},
   "source": [
    "### Prominence"
   ]
  },
  {
   "cell_type": "code",
   "execution_count": null,
   "metadata": {},
   "outputs": [],
   "source": [
    "prominence_df[prominence_df.kword == \"psychologist\"]"
   ]
  },
  {
   "cell_type": "markdown",
   "metadata": {},
   "source": [
    "### Sentiment"
   ]
  },
  {
   "cell_type": "code",
   "execution_count": null,
   "metadata": {},
   "outputs": [],
   "source": [
    "table_sentiment(df=sent_counts, kword=\"psychologist\")"
   ]
  },
  {
   "cell_type": "code",
   "execution_count": null,
   "metadata": {},
   "outputs": [],
   "source": [
    "draw_plot_combo(keyword=\"psychologist\", y_axis_range=[-0.1, max_salience],\n",
    "               x_axis_var = \"fortnight_to_lockdown\",\n",
    "                    x_axis_tickvals = fortnights_around_lockdown,\n",
    "                    x_axis_title=\"\",\n",
    "                    y2_title_text=\"\",\n",
    "                    y1_title_text=\"\",\n",
    "                    sent_df=sent_counts, \n",
    "                    prominence_df= prominence_df,\n",
    "                    y2_color=\"white\",\n",
    "                    y1_color=\"white\",\n",
    "                    x_showticklabels=True)"
   ]
  },
  {
   "cell_type": "code",
   "execution_count": null,
   "metadata": {},
   "outputs": [],
   "source": []
  },
  {
   "cell_type": "markdown",
   "metadata": {},
   "source": [
    "# Disciplines"
   ]
  },
  {
   "cell_type": "markdown",
   "metadata": {},
   "source": [
    "## Behavioural science"
   ]
  },
  {
   "cell_type": "markdown",
   "metadata": {},
   "source": [
    "### Prominence"
   ]
  },
  {
   "cell_type": "code",
   "execution_count": null,
   "metadata": {
    "scrolled": true
   },
   "outputs": [],
   "source": [
    "prominence_df[prominence_df.kword == \"behav_science\"]"
   ]
  },
  {
   "cell_type": "markdown",
   "metadata": {},
   "source": [
    "### Sentiment"
   ]
  },
  {
   "cell_type": "code",
   "execution_count": null,
   "metadata": {},
   "outputs": [],
   "source": [
    "table_sentiment(df=sent_counts, kword=\"behav_science\")"
   ]
  },
  {
   "cell_type": "code",
   "execution_count": null,
   "metadata": {
    "scrolled": true
   },
   "outputs": [],
   "source": [
    "draw_plot_combo(keyword=\"behav_science\", y_axis_range=[-0.1, 38],\n",
    "               x_axis_var = \"fortnight_to_lockdown\",\n",
    "                    x_axis_tickvals = fortnights_around_lockdown,\n",
    "                    #x_axis_title=\"Time of 2-week periods (gray area covers strict lockdown)\",\n",
    "                    y2_title_text=\"Sentiment\",\n",
    "                    y1_title_text=\"Salience\",\n",
    "                font_size=28,\n",
    "                    sent_df=sent_counts, \n",
    "                    prominence_df= prominence_df,\n",
    "                    y2_showticklabels=True,\n",
    "                    y1_showticklabels=True,\n",
    "                    y1_color = \"black\", \n",
    "                    y2_color = \"black\",\n",
    "                    x_showticklabels=True)"
   ]
  },
  {
   "cell_type": "code",
   "execution_count": null,
   "metadata": {},
   "outputs": [],
   "source": []
  },
  {
   "cell_type": "markdown",
   "metadata": {},
   "source": [
    "## Psychology"
   ]
  },
  {
   "cell_type": "markdown",
   "metadata": {},
   "source": [
    "### Prominence"
   ]
  },
  {
   "cell_type": "code",
   "execution_count": null,
   "metadata": {},
   "outputs": [],
   "source": [
    "prominence_df[prominence_df.kword == \"psychology\"]"
   ]
  },
  {
   "cell_type": "markdown",
   "metadata": {},
   "source": [
    "### Sentiment"
   ]
  },
  {
   "cell_type": "code",
   "execution_count": null,
   "metadata": {},
   "outputs": [],
   "source": [
    "table_sentiment(df=sent_counts, kword=\"psychology\")"
   ]
  },
  {
   "cell_type": "code",
   "execution_count": null,
   "metadata": {},
   "outputs": [],
   "source": [
    "draw_plot_combo(keyword=\"psychology\", y_axis_range=[-0.1, max_salience],\n",
    "               x_axis_var = \"fortnight_to_lockdown\",\n",
    "                    x_axis_tickvals = fortnights_around_lockdown,\n",
    "                    x_axis_title=\"\",\n",
    "                    y2_title_text=\"\",\n",
    "                    y1_title_text=\"\",\n",
    "                    sent_df=sent_counts, \n",
    "                    prominence_df= prominence_df,\n",
    "                    y2_color=\"white\",\n",
    "                    y1_color=\"white\",\n",
    "                    x_showticklabels=True)"
   ]
  },
  {
   "cell_type": "code",
   "execution_count": null,
   "metadata": {},
   "outputs": [],
   "source": []
  },
  {
   "cell_type": "markdown",
   "metadata": {},
   "source": [
    "## Behavioural economics"
   ]
  },
  {
   "cell_type": "markdown",
   "metadata": {},
   "source": [
    "### Prominence"
   ]
  },
  {
   "cell_type": "code",
   "execution_count": null,
   "metadata": {
    "scrolled": true
   },
   "outputs": [],
   "source": [
    "prominence_df[prominence_df.kword == \"behav_econ\"]"
   ]
  },
  {
   "cell_type": "markdown",
   "metadata": {},
   "source": [
    "### Sentiment"
   ]
  },
  {
   "cell_type": "code",
   "execution_count": null,
   "metadata": {},
   "outputs": [],
   "source": [
    "table_sentiment(df=sent_counts, kword=\"behav_econ\")"
   ]
  },
  {
   "cell_type": "code",
   "execution_count": null,
   "metadata": {},
   "outputs": [],
   "source": [
    "draw_plot_combo(keyword=\"behav_econ\", y_axis_range=[-0.1, max_salience],\n",
    "               x_axis_var = \"fortnight_to_lockdown\",\n",
    "                    x_axis_tickvals = fortnights_around_lockdown,\n",
    "                    x_axis_title=\"\",\n",
    "                    y2_title_text=\"\",\n",
    "                    y1_title_text=\"\",\n",
    "                    sent_df=sent_counts, \n",
    "                    prominence_df= prominence_df,\n",
    "                    y2_color=\"white\",\n",
    "                    y1_color=\"white\",\n",
    "                    x_showticklabels=True)"
   ]
  },
  {
   "cell_type": "code",
   "execution_count": null,
   "metadata": {},
   "outputs": [],
   "source": []
  },
  {
   "cell_type": "markdown",
   "metadata": {},
   "source": [
    "# Key concepts and techniques"
   ]
  },
  {
   "cell_type": "markdown",
   "metadata": {},
   "source": [
    "## Nudge"
   ]
  },
  {
   "cell_type": "markdown",
   "metadata": {},
   "source": [
    "### Prominence"
   ]
  },
  {
   "cell_type": "code",
   "execution_count": null,
   "metadata": {
    "scrolled": true
   },
   "outputs": [],
   "source": [
    "prominence_df[prominence_df.kword == \"nudge\"]"
   ]
  },
  {
   "cell_type": "markdown",
   "metadata": {},
   "source": [
    "### Sentiment"
   ]
  },
  {
   "cell_type": "code",
   "execution_count": null,
   "metadata": {
    "scrolled": false
   },
   "outputs": [],
   "source": [
    "table_sentiment(df=sent_counts, kword=\"nudge\")"
   ]
  },
  {
   "cell_type": "code",
   "execution_count": null,
   "metadata": {},
   "outputs": [],
   "source": [
    "draw_plot_combo(keyword=\"nudge\", y_axis_range=[-0.1, max_salience],\n",
    "               x_axis_var = \"fortnight_to_lockdown\",\n",
    "                    x_axis_tickvals = fortnights_around_lockdown,\n",
    "                    x_axis_title=\"\",\n",
    "                    y2_title_text=\"\",\n",
    "                    y1_title_text=\"\",\n",
    "                    sent_df=sent_counts, \n",
    "                    prominence_df= prominence_df,\n",
    "                    y2_color=\"white\",\n",
    "                    y1_color=\"white\",\n",
    "                    x_showticklabels=True)"
   ]
  },
  {
   "cell_type": "code",
   "execution_count": null,
   "metadata": {},
   "outputs": [],
   "source": []
  },
  {
   "cell_type": "markdown",
   "metadata": {},
   "source": [
    "## Behavioural change"
   ]
  },
  {
   "cell_type": "markdown",
   "metadata": {},
   "source": [
    "### Prominence"
   ]
  },
  {
   "cell_type": "code",
   "execution_count": null,
   "metadata": {
    "scrolled": true
   },
   "outputs": [],
   "source": [
    "prominence_df[prominence_df.kword == \"behav_change\"]"
   ]
  },
  {
   "cell_type": "markdown",
   "metadata": {},
   "source": [
    "### Sentiment"
   ]
  },
  {
   "cell_type": "code",
   "execution_count": null,
   "metadata": {
    "scrolled": true
   },
   "outputs": [],
   "source": [
    "table_sentiment(df=sent_counts, kword=\"behav_change\")"
   ]
  },
  {
   "cell_type": "code",
   "execution_count": null,
   "metadata": {},
   "outputs": [],
   "source": [
    "draw_plot_combo(keyword=\"behav_change\", y_axis_range=[-0.1, max_salience],\n",
    "               x_axis_var = \"fortnight_to_lockdown\",\n",
    "                    x_axis_tickvals = fortnights_around_lockdown,\n",
    "                    x_axis_title=\"\",\n",
    "                    y2_title_text=\"\",\n",
    "                    y1_title_text=\"\",\n",
    "                    sent_df=sent_counts, \n",
    "                    prominence_df= prominence_df,\n",
    "                    y2_color=\"white\",\n",
    "                    y1_color=\"black\",\n",
    "                    x_showticklabels=True)"
   ]
  },
  {
   "cell_type": "markdown",
   "metadata": {},
   "source": []
  },
  {
   "cell_type": "code",
   "execution_count": null,
   "metadata": {},
   "outputs": [],
   "source": []
  },
  {
   "cell_type": "code",
   "execution_count": null,
   "metadata": {},
   "outputs": [],
   "source": []
  },
  {
   "cell_type": "code",
   "execution_count": null,
   "metadata": {},
   "outputs": [],
   "source": []
  },
  {
   "cell_type": "markdown",
   "metadata": {},
   "source": [
    "## Muses"
   ]
  },
  {
   "cell_type": "markdown",
   "metadata": {},
   "source": [
    "### Kendall's Tau"
   ]
  },
  {
   "cell_type": "markdown",
   "metadata": {},
   "source": [
    "Correlatio between the corpus sub-periods (time as sequence) and a keyword'' salience:\n",
    "\n",
    " - 0 = absence of trend\n",
    " - 1 or -1 passage of time correlated with increase / decreasse in salience"
   ]
  },
  {
   "cell_type": "code",
   "execution_count": null,
   "metadata": {},
   "outputs": [],
   "source": []
  },
  {
   "cell_type": "code",
   "execution_count": null,
   "metadata": {},
   "outputs": [],
   "source": []
  },
  {
   "cell_type": "code",
   "execution_count": null,
   "metadata": {},
   "outputs": [],
   "source": [
    "from scipy.stats import kendalltau "
   ]
  },
  {
   "cell_type": "code",
   "execution_count": null,
   "metadata": {},
   "outputs": [],
   "source": [
    "michie_salience = prominence_df[prominence_df.kword == \"michie\"].salience.to_list()"
   ]
  },
  {
   "cell_type": "code",
   "execution_count": null,
   "metadata": {},
   "outputs": [],
   "source": [
    "time_series = list(range(1, prominence_df.fortnight_to_lockdown.nunique() + 1))"
   ]
  },
  {
   "cell_type": "code",
   "execution_count": null,
   "metadata": {},
   "outputs": [],
   "source": [
    "michie_salience"
   ]
  },
  {
   "cell_type": "code",
   "execution_count": null,
   "metadata": {},
   "outputs": [],
   "source": [
    "time_series"
   ]
  },
  {
   "cell_type": "code",
   "execution_count": null,
   "metadata": {},
   "outputs": [],
   "source": [
    "# Calculating Kendall Rank correlation \n",
    "corr, _ = kendalltau(time_series, michie_salience) \n",
    "print(f'Kendall Rank correlation: {corr}') "
   ]
  },
  {
   "cell_type": "code",
   "execution_count": null,
   "metadata": {},
   "outputs": [],
   "source": [
    "halpern_salience = prominence_df[prominence_df.kword == \"halpern\"].salience.to_list()"
   ]
  },
  {
   "cell_type": "code",
   "execution_count": null,
   "metadata": {},
   "outputs": [],
   "source": [
    "halpern_salience"
   ]
  },
  {
   "cell_type": "code",
   "execution_count": null,
   "metadata": {},
   "outputs": [],
   "source": [
    "# Calculating Kendall Rank correlation \n",
    "corr, _ = kendalltau(time_series, halpern_salience) \n",
    "print(f'Kendall Rank correlation: {corr}') "
   ]
  },
  {
   "cell_type": "code",
   "execution_count": null,
   "metadata": {},
   "outputs": [],
   "source": [
    "beh_science_salience = prominence_df[prominence_df.kword == \"behav_science\"].salience.to_list()"
   ]
  },
  {
   "cell_type": "code",
   "execution_count": null,
   "metadata": {},
   "outputs": [],
   "source": [
    "# Calculating Kendall Rank correlation \n",
    "corr, _ = kendalltau(time_series, beh_science_salience) \n",
    "print(f'Kendall Rank correlation: {corr}') "
   ]
  },
  {
   "cell_type": "code",
   "execution_count": null,
   "metadata": {},
   "outputs": [],
   "source": [
    "spib_salience = prominence_df[prominence_df.kword == \"spi-b\"].salience.to_list()"
   ]
  },
  {
   "cell_type": "code",
   "execution_count": null,
   "metadata": {},
   "outputs": [],
   "source": [
    "spib_salience"
   ]
  },
  {
   "cell_type": "code",
   "execution_count": null,
   "metadata": {
    "scrolled": true
   },
   "outputs": [],
   "source": [
    "# Calculating Kendall Rank correlation \n",
    "corr, _ = kendalltau(time_series, spib_salience) \n",
    "print(f'Kendall Rank correlation: {corr}') "
   ]
  },
  {
   "cell_type": "code",
   "execution_count": null,
   "metadata": {},
   "outputs": [],
   "source": [
    "behav_science_salience = prominence_df[prominence_df.kword == \"behav_science\"].salience.to_list()\n",
    "behav_science_salience"
   ]
  },
  {
   "cell_type": "code",
   "execution_count": null,
   "metadata": {},
   "outputs": [],
   "source": []
  }
 ],
 "metadata": {
  "kernelspec": {
   "display_name": "Python 3.8.1 64-bit ('venv': venv)",
   "language": "python",
   "name": "python38164bitvenvvenvdde169c8e66848db85d258e4e769d548"
  },
  "language_info": {
   "codemirror_mode": {
    "name": "ipython",
    "version": 3
   },
   "file_extension": ".py",
   "mimetype": "text/x-python",
   "name": "python",
   "nbconvert_exporter": "python",
   "pygments_lexer": "ipython3",
   "version": "3.8.1"
  }
 },
 "nbformat": 4,
 "nbformat_minor": 4
}
