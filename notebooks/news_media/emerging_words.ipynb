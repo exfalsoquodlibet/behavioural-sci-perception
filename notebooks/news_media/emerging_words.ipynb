{
 "cells": [
  {
   "cell_type": "markdown",
   "metadata": {},
   "source": [
    "# This notebook"
   ]
  },
  {
   "cell_type": "markdown",
   "metadata": {},
   "source": [
    "In this notebook, we exlore which words - other than our keywords - have emerged during the months under analysis as those words that frequenctly occurred in the articles we have pre-filtered as focusing on behavioural science topics."
   ]
  },
  {
   "cell_type": "markdown",
   "metadata": {},
   "source": [
    "## Settings"
   ]
  },
  {
   "cell_type": "code",
   "execution_count": 1,
   "metadata": {},
   "outputs": [],
   "source": [
    "import os"
   ]
  },
  {
   "cell_type": "code",
   "execution_count": 2,
   "metadata": {},
   "outputs": [],
   "source": [
    "import numpy as np"
   ]
  },
  {
   "cell_type": "code",
   "execution_count": 3,
   "metadata": {},
   "outputs": [],
   "source": [
    "from math import log2"
   ]
  },
  {
   "cell_type": "code",
   "execution_count": 4,
   "metadata": {},
   "outputs": [],
   "source": [
    "import seaborn as sns\n",
    "import matplotlib.pyplot as plt"
   ]
  },
  {
   "cell_type": "code",
   "execution_count": 5,
   "metadata": {},
   "outputs": [],
   "source": [
    "import networkx as nx\n",
    "from operator import itemgetter"
   ]
  },
  {
   "cell_type": "code",
   "execution_count": 6,
   "metadata": {},
   "outputs": [],
   "source": [
    "%matplotlib inline"
   ]
  },
  {
   "cell_type": "code",
   "execution_count": 7,
   "metadata": {},
   "outputs": [
    {
     "name": "stdout",
     "output_type": "stream",
     "text": [
      "/Users/alessiatosi/DS_projects/behavioural-sci-perception/docs/ext/keywords.yaml has been successfully loaded as a dict\n",
      "/Users/alessiatosi/DS_projects/behavioural-sci-perception/docs/ext/subkw_to_kw_map.yaml has been successfully loaded as a dict\n"
     ]
    }
   ],
   "source": [
    "from src.news_media.get_keywords_trend import *"
   ]
  },
  {
   "cell_type": "code",
   "execution_count": 8,
   "metadata": {},
   "outputs": [],
   "source": [
    "pd.set_option('display.max_colwidth', None)"
   ]
  },
  {
   "cell_type": "markdown",
   "metadata": {},
   "source": [
    "The config file"
   ]
  },
  {
   "cell_type": "code",
   "execution_count": 9,
   "metadata": {},
   "outputs": [
    {
     "data": {
      "text/plain": [
       "dict_keys(['NgramRange', 'Actors', 'BehavSci', 'Behav_ins', 'Behav_chan', 'Behav_pol', 'Behav_anal', 'Psych', 'Econ_behav', 'Econ_irrational', 'Nudge', 'Nudge_choice', 'Nudge_pater', 'Covid', 'Fatigue', 'Immunity'])"
      ]
     },
     "execution_count": 9,
     "metadata": {},
     "output_type": "execute_result"
    }
   ],
   "source": [
    "CONFIG.keys()"
   ]
  },
  {
   "cell_type": "markdown",
   "metadata": {},
   "source": [
    "## Import UK's news articles"
   ]
  },
  {
   "cell_type": "code",
   "execution_count": 10,
   "metadata": {},
   "outputs": [],
   "source": [
    "news_uk = NewsArticles(country=\"uk\")"
   ]
  },
  {
   "cell_type": "markdown",
   "metadata": {},
   "source": [
    "`news_uk` is a `NewsArticles` class instance, with the following public attributes and methods:"
   ]
  },
  {
   "cell_type": "code",
   "execution_count": 11,
   "metadata": {},
   "outputs": [
    {
     "data": {
      "text/plain": [
       "['allwords_raw_tf',\n",
       " 'country',\n",
       " 'data',\n",
       " 'dates',\n",
       " 'expand_dict',\n",
       " 'get_kword_docfreq_week',\n",
       " 'get_kword_rawfreq_week',\n",
       " 'get_num_ngrams',\n",
       " 'kword_docfreq_week',\n",
       " 'kword_rawfreq',\n",
       " 'kword_rawfreq_week',\n",
       " 'kword_reldocfreq_week',\n",
       " 'kword_relfreq_week',\n",
       " 'kword_rfrdf_week',\n",
       " 'kword_yn_occurrence',\n",
       " 'subkword_raw_tf',\n",
       " 'unigram_count_perdoc']"
      ]
     },
     "execution_count": 11,
     "metadata": {},
     "output_type": "execute_result"
    }
   ],
   "source": [
    "[d for d in dir(news_uk) if not d.startswith(\"_\")]"
   ]
  },
  {
   "cell_type": "markdown",
   "metadata": {},
   "source": [
    "`news_uk.data` contains the original dataset of articles:"
   ]
  },
  {
   "cell_type": "code",
   "execution_count": 12,
   "metadata": {},
   "outputs": [
    {
     "data": {
      "text/plain": [
       "(700, 13)"
      ]
     },
     "execution_count": 12,
     "metadata": {},
     "output_type": "execute_result"
    }
   ],
   "source": [
    "news_uk.data.shape"
   ]
  },
  {
   "cell_type": "code",
   "execution_count": 13,
   "metadata": {},
   "outputs": [],
   "source": [
    "## Extract data needed for analysis"
   ]
  },
  {
   "cell_type": "code",
   "execution_count": 14,
   "metadata": {},
   "outputs": [],
   "source": [
    "allwords_freqs = news_uk.allwords_raw_tf.copy()"
   ]
  },
  {
   "cell_type": "markdown",
   "metadata": {},
   "source": [
    "Top 50 most frequent words"
   ]
  },
  {
   "cell_type": "code",
   "execution_count": 69,
   "metadata": {},
   "outputs": [
    {
     "data": {
      "text/plain": [
       "people          4229\n",
       "government      2527\n",
       "health          1974\n",
       "coronavirus     1891\n",
       "virus           1379\n",
       "time            1206\n",
       "covid-19        1140\n",
       "johnson         1041\n",
       "measures         942\n",
       "lockdown         922\n",
       "home             910\n",
       "sage             866\n",
       "advice           863\n",
       "governments      836\n",
       "week             811\n",
       "cases            796\n",
       "group            780\n",
       "minister         774\n",
       "number           771\n",
       "professor        768\n",
       "pandemic         724\n",
       "cent             722\n",
       "risk             719\n",
       "day              707\n",
       "ministers        704\n",
       "uk               692\n",
       "weeks            670\n",
       "way              651\n",
       "care             618\n",
       "scientists       615\n",
       "deaths           601\n",
       "crisis           597\n",
       "march            597\n",
       "university       588\n",
       "distancing       570\n",
       "country          553\n",
       "schools          551\n",
       "days             548\n",
       "cummings         537\n",
       "disease          532\n",
       "restrictions     532\n",
       "experts          527\n",
       "data             524\n",
       "evidence         517\n",
       "countries        511\n",
       "world            497\n",
       "public           485\n",
       "england          484\n",
       "strategy         479\n",
       "today            465\n",
       "dtype: int64"
      ]
     },
     "execution_count": 69,
     "metadata": {},
     "output_type": "execute_result"
    }
   ],
   "source": [
    "allwords_freqs.sum().sort_values(ascending=False)[:50]"
   ]
  },
  {
   "cell_type": "code",
   "execution_count": 16,
   "metadata": {},
   "outputs": [
    {
     "data": {
      "text/html": [
       "<div>\n",
       "<style scoped>\n",
       "    .dataframe tbody tr th:only-of-type {\n",
       "        vertical-align: middle;\n",
       "    }\n",
       "\n",
       "    .dataframe tbody tr th {\n",
       "        vertical-align: top;\n",
       "    }\n",
       "\n",
       "    .dataframe thead th {\n",
       "        text-align: right;\n",
       "    }\n",
       "</style>\n",
       "<table border=\"1\" class=\"dataframe\">\n",
       "  <thead>\n",
       "    <tr style=\"text-align: right;\">\n",
       "      <th></th>\n",
       "      <th>full_text</th>\n",
       "      <th>preproc_text</th>\n",
       "    </tr>\n",
       "  </thead>\n",
       "  <tbody>\n",
       "    <tr>\n",
       "      <th>0</th>\n",
       "      <td>Dominic Cummings started 2020 with a job ad containing an eccentric set of skills for shaking up government forecasting and decision-making. Is this pure disruption, or do those topics and technologies offer a clue to his plans?The keywords lay a very specific trail of breadcrumbs. Prediction science, cognitive technologies, Cialdini, Pearl's calculus of causation. Agent-based models, storytelling, the Neo4j database his programmers will use. What could this collection of buzzwords mean?I have a pretty good idea, because the expertise Dom wants is a near-perfect description of my work. But I'm unlikely to apply.For a decade I've used exactly this combination of mathematical, economic and computing disciplines to model the economy and the human imagination, giving me a distinctive insight into what Cummings might be up to. I believe he has two ambitious plans - but a critical third step is missing.The first is advanced data science. Finding cause-and-effect levers in huge datasets; approximating when perfect decisions aren't possible. Programming languages, machine learning: essential tools of modern life. Nothing wrong with the civil service getting better at that.The second step is less neutral. Agent-based models are a tool (which I endorse) for running computer simulations of society and testing new policies. Behavioural economics and persuasion technology can sell ideas to a sceptical population: this is what made Cummings famous.But ten years of doing this has taught me a third component is indispensable. It's absent from Silicon Valley's move-fast-break-things philosophy, and from Dom's blog post. The third element is values.For humans, values are our motivation to solve problems and a measure of whether we've succeeded. AI has motivations too. Nudge theory says 'there is no neutral choice architecture', and there is no neutral goal for an algorithm. If you don't give it values, it will inherit them by default.Programmers and economists (I've been both) prefer simple values. The greatest happiness for the greatest number: the perfect algorithmic principle? Until you start to ask: are UK-resident, taxpaying EU nationals included in \"the greatest number\", or only British citizens? If someone needs £30,000 for mobility support or cancer treatment, how is that weighed against the 30 people who'll give up £1,000 to provide it?Until we give values to machines, they can't apply the good judgement that is essential to policy design.Traditional economics seeks the best way for people to get what they want. Dom's ideas will optimise that process. The next step needs cognitive economics: the study of how our brains decide what we want, before we ask how to get it. We are just starting to answer that for humans, let alone AI.To give values to algorithms, we must agree on those values. That means democratic debate, not civil service rules. Only then can we let AI loose on running the country. Policy is not just an optimisation problem, it's a set of choices about the society we want to live in. And until Cummings - and his boss - have shown us what their values are, I'm not ready to help implement them.                   Leigh Caldwell is a cognitive economist and partner at                   Irrational Agency                   Irrational Agency                   . He blogs at                   www.knowingandmaking.com                              www.knowingandmaking.com                    and tweets at @leighblue.</td>\n",
       "      <td>cummings job ad set skills government forecasting decision-making disruption topics technologies clue plans keywords trail breadcrumbs prediction science technologies cialdini calculus causation models database programmers collection buzzwords idea expertise dom description work decade ive combination disciplines economy imagination insight cummings believe plans step data science levers datasets decisions programming languages machine learning tools life nothing service step models tool computer simulations society policies behavioural_economics persuasion technology ideas population cummings years component absent valleys move-fast-break-things philosophy doms blog element values humans values motivation problems measure weve ai motivations nudge_theory choice_architecture goal algorithm default programmers economists values happiness number principle nationals number citizens someone mobility support cancer treatment people values machines judgement policy design economics way people doms ideas process step economics study brains humans values values debate service rules country policy optimisation problem set choices society cummings boss values caldwell economist partner agency agency www com www com tweets leighblue</td>\n",
       "    </tr>\n",
       "  </tbody>\n",
       "</table>\n",
       "</div>"
      ],
      "text/plain": [
       "                                                                                                                                                                                                                                                                                                                                                                                                                                                                                                                                                                                                                                                                                                                                                                                                                                                                                                                                                                                                                                                                                                                                                                                                                                                                                                                                                                                                                                                                                                                                                                                                                                                                                                                                                                                                                                                                                                                                                                                                                                                                                                                                                                                                                                                                                                                                                                                                                                                                                                                                                                                                                                                                                                                                                                                                                                                                                                                                                                                                                                                                                                                                                                                                                                                                                                                                                                                                                                                                                                                                                                                                                           full_text  \\\n",
       "0  Dominic Cummings started 2020 with a job ad containing an eccentric set of skills for shaking up government forecasting and decision-making. Is this pure disruption, or do those topics and technologies offer a clue to his plans?The keywords lay a very specific trail of breadcrumbs. Prediction science, cognitive technologies, Cialdini, Pearl's calculus of causation. Agent-based models, storytelling, the Neo4j database his programmers will use. What could this collection of buzzwords mean?I have a pretty good idea, because the expertise Dom wants is a near-perfect description of my work. But I'm unlikely to apply.For a decade I've used exactly this combination of mathematical, economic and computing disciplines to model the economy and the human imagination, giving me a distinctive insight into what Cummings might be up to. I believe he has two ambitious plans - but a critical third step is missing.The first is advanced data science. Finding cause-and-effect levers in huge datasets; approximating when perfect decisions aren't possible. Programming languages, machine learning: essential tools of modern life. Nothing wrong with the civil service getting better at that.The second step is less neutral. Agent-based models are a tool (which I endorse) for running computer simulations of society and testing new policies. Behavioural economics and persuasion technology can sell ideas to a sceptical population: this is what made Cummings famous.But ten years of doing this has taught me a third component is indispensable. It's absent from Silicon Valley's move-fast-break-things philosophy, and from Dom's blog post. The third element is values.For humans, values are our motivation to solve problems and a measure of whether we've succeeded. AI has motivations too. Nudge theory says 'there is no neutral choice architecture', and there is no neutral goal for an algorithm. If you don't give it values, it will inherit them by default.Programmers and economists (I've been both) prefer simple values. The greatest happiness for the greatest number: the perfect algorithmic principle? Until you start to ask: are UK-resident, taxpaying EU nationals included in \"the greatest number\", or only British citizens? If someone needs £30,000 for mobility support or cancer treatment, how is that weighed against the 30 people who'll give up £1,000 to provide it?Until we give values to machines, they can't apply the good judgement that is essential to policy design.Traditional economics seeks the best way for people to get what they want. Dom's ideas will optimise that process. The next step needs cognitive economics: the study of how our brains decide what we want, before we ask how to get it. We are just starting to answer that for humans, let alone AI.To give values to algorithms, we must agree on those values. That means democratic debate, not civil service rules. Only then can we let AI loose on running the country. Policy is not just an optimisation problem, it's a set of choices about the society we want to live in. And until Cummings - and his boss - have shown us what their values are, I'm not ready to help implement them.                   Leigh Caldwell is a cognitive economist and partner at                   Irrational Agency                   Irrational Agency                   . He blogs at                   www.knowingandmaking.com                              www.knowingandmaking.com                    and tweets at @leighblue.                    \n",
       "\n",
       "                                                                                                                                                                                                                                                                                                                                                                                                                                                                                                                                                                                                                                                                                                                                                                                                                                                                                                                                                                                                                                                                                                                                                                                                                                                                                preproc_text  \n",
       "0  cummings job ad set skills government forecasting decision-making disruption topics technologies clue plans keywords trail breadcrumbs prediction science technologies cialdini calculus causation models database programmers collection buzzwords idea expertise dom description work decade ive combination disciplines economy imagination insight cummings believe plans step data science levers datasets decisions programming languages machine learning tools life nothing service step models tool computer simulations society policies behavioural_economics persuasion technology ideas population cummings years component absent valleys move-fast-break-things philosophy doms blog element values humans values motivation problems measure weve ai motivations nudge_theory choice_architecture goal algorithm default programmers economists values happiness number principle nationals number citizens someone mobility support cancer treatment people values machines judgement policy design economics way people doms ideas process step economics study brains humans values values debate service rules country policy optimisation problem set choices society cummings boss values caldwell economist partner agency agency www com www com tweets leighblue  "
      ]
     },
     "execution_count": 16,
     "metadata": {},
     "output_type": "execute_result"
    }
   ],
   "source": [
    "news_uk.data[['full_text', 'preproc_text']][:1]"
   ]
  },
  {
   "cell_type": "code",
   "execution_count": null,
   "metadata": {},
   "outputs": [],
   "source": []
  },
  {
   "cell_type": "markdown",
   "metadata": {},
   "source": [
    "### Word embeddings and semantic clustering of emerging words "
   ]
  },
  {
   "cell_type": "markdown",
   "metadata": {},
   "source": [
    "We will use word embeddings to represent the semantics of these emerging words in vector space and see how they cluster using PCA. To this purpose, we will use BioWordVec, biomedical word embeddings obtained with fastText (https://github.com/ncbi-nlp/BioSentVec)."
   ]
  },
  {
   "cell_type": "markdown",
   "metadata": {},
   "source": [
    "### 1. Settings"
   ]
  },
  {
   "cell_type": "code",
   "execution_count": 17,
   "metadata": {},
   "outputs": [],
   "source": [
    "from gensim.models import Word2Vec\n",
    "from gensim.models import KeyedVectors"
   ]
  },
  {
   "cell_type": "code",
   "execution_count": null,
   "metadata": {},
   "outputs": [],
   "source": []
  },
  {
   "cell_type": "markdown",
   "metadata": {},
   "source": [
    "### 2. Load word2vec pretrained embedding"
   ]
  },
  {
   "cell_type": "code",
   "execution_count": 18,
   "metadata": {},
   "outputs": [],
   "source": [
    "MODELS_LOCATION = os.environ.get(\"DIR_MODELS\")\n",
    "W2V_MODEL_PATH = os.path.join(MODELS_LOCATION, \"BioWordVec_PubMed_MIMICIII_d200.vec.bin\")"
   ]
  },
  {
   "cell_type": "code",
   "execution_count": 19,
   "metadata": {},
   "outputs": [
    {
     "data": {
      "text/plain": [
       "'/Users/alessiatosi/DS_projects/behavioural-sci-perception/docs/ext/models'"
      ]
     },
     "execution_count": 19,
     "metadata": {},
     "output_type": "execute_result"
    }
   ],
   "source": [
    "os.environ.get(\"DIR_MODELS\")"
   ]
  },
  {
   "cell_type": "code",
   "execution_count": 20,
   "metadata": {
    "scrolled": true
   },
   "outputs": [
    {
     "name": "stdout",
     "output_type": "stream",
     "text": [
      "embeddings successfully loaded\n"
     ]
    }
   ],
   "source": [
    "try:\n",
    "    w2v_embeddings = KeyedVectors.load_word2vec_format(W2V_MODEL_PATH, binary=True)\n",
    "except Exception as e:\n",
    "    print(e)\n",
    "print('embeddings successfully loaded')"
   ]
  },
  {
   "cell_type": "markdown",
   "metadata": {},
   "source": [
    "### 3. Retrieve emerging words' vectors"
   ]
  },
  {
   "cell_type": "markdown",
   "metadata": {},
   "source": [
    "First, let's check whether all the top-50 emerging words have a word2vec representation (this depends on the data on which the word2vec model was trained)."
   ]
  },
  {
   "cell_type": "code",
   "execution_count": 21,
   "metadata": {},
   "outputs": [],
   "source": [
    "emerging_words = allwords_freqs.sum().sort_values(ascending=False)[:50].index.to_list()"
   ]
  },
  {
   "cell_type": "code",
   "execution_count": 22,
   "metadata": {},
   "outputs": [
    {
     "data": {
      "text/plain": [
       "['covid-19']"
      ]
     },
     "execution_count": 22,
     "metadata": {},
     "output_type": "execute_result"
    }
   ],
   "source": [
    "[word for word in emerging_words if not word in w2v_embeddings.vocab]"
   ]
  },
  {
   "cell_type": "markdown",
   "metadata": {},
   "source": [
    "Let's recode:\n",
    "`covid-19` as `coronavirus` (present in the list and in the word2vec model)\n",
    "`herd_immunity` as `immunity`"
   ]
  },
  {
   "cell_type": "code",
   "execution_count": 23,
   "metadata": {},
   "outputs": [],
   "source": [
    "emerging_words = [\"immunity\" if elem==\"herd_immunity\" else elem for elem in emerging_words]"
   ]
  },
  {
   "cell_type": "markdown",
   "metadata": {},
   "source": [
    "Retrieve embeddings"
   ]
  },
  {
   "cell_type": "code",
   "execution_count": 24,
   "metadata": {},
   "outputs": [],
   "source": [
    "words_embeddings = {word: w2v_embeddings[word] for word in emerging_words if word in w2v_embeddings.vocab}"
   ]
  },
  {
   "cell_type": "code",
   "execution_count": 25,
   "metadata": {},
   "outputs": [
    {
     "data": {
      "text/plain": [
       "array([ 0.36402  ,  0.46335  ,  0.6096   ,  0.87538  , -0.14334  ,\n",
       "        0.035163 ,  0.30361  , -0.39785  ,  0.93503  ,  0.20384  ,\n",
       "       -0.07153  ,  1.5519   ,  0.11822  , -0.24652  ,  0.086058 ,\n",
       "       -0.70525  ,  0.10849  , -0.48865  ,  0.35592  ,  0.50052  ,\n",
       "        1.0446   , -0.52246  , -1.0474   , -0.59401  , -0.29903  ,\n",
       "        0.34294  , -0.61624  , -0.49844  ,  0.072756 ,  0.3776   ,\n",
       "       -0.28515  , -0.67598  , -0.91952  , -0.74865  , -0.23456  ,\n",
       "        0.46626  ,  1.1255   , -0.42723  , -0.06667  ,  0.39181  ,\n",
       "       -1.1654   ,  0.25934  , -0.33107  ,  0.28034  ,  0.65391  ,\n",
       "        0.42485  ,  0.55339  , -0.12891  , -0.36614  ,  0.31501  ,\n",
       "       -0.78559  ,  0.39892  , -0.61399  ,  0.17491  ,  0.2145   ,\n",
       "       -0.50554  ,  0.12066  , -0.38944  , -0.39128  ,  0.49954  ,\n",
       "       -0.54696  , -0.23048  ,  0.47427  ,  0.78073  ,  0.086138 ,\n",
       "        0.84353  ,  0.18228  ,  0.26829  ,  0.23198  , -0.0076146,\n",
       "       -0.83728  , -0.16082  , -0.53944  ,  1.1601   , -0.065291 ,\n",
       "       -0.70225  , -0.30518  ,  0.48634  ,  0.057692 , -0.22734  ,\n",
       "       -0.64251  , -0.82922  ,  0.50171  , -0.32452  , -0.67953  ,\n",
       "       -0.63644  ,  0.41271  , -0.46651  , -0.20847  ,  0.16849  ,\n",
       "        0.42793  , -0.033401 ,  0.49286  ,  0.012219 , -0.77283  ,\n",
       "        0.10127  ,  0.60314  , -0.19819  ,  0.22249  ,  0.77373  ,\n",
       "       -0.069556 ,  0.3294   ,  0.43632  , -0.27309  , -0.019852 ,\n",
       "       -0.12516  ,  0.7584   , -0.63595  ,  0.7053   , -0.68394  ,\n",
       "       -0.63984  ,  1.4527   , -0.092846 ,  0.28431  , -0.49903  ,\n",
       "       -0.176    , -0.70636  , -0.52611  , -0.1999   ,  0.11877  ,\n",
       "       -0.25693  ,  0.042954 , -0.21     ,  0.03844  ,  0.26277  ,\n",
       "       -0.2167   , -0.046732 , -0.17483  ,  0.28004  , -0.076094 ,\n",
       "       -0.26876  ,  0.2606   ,  0.35995  ,  0.01415  ,  0.63069  ,\n",
       "       -0.72449  ,  1.1246   , -0.23858  ,  0.29002  , -0.37312  ,\n",
       "        0.0057382,  0.2994   , -0.45871  ,  0.54695  ,  0.52638  ,\n",
       "        0.047677 ,  0.35238  ,  0.079115 ,  0.008086 ,  0.07942  ,\n",
       "        0.14933  , -0.050384 ,  0.10073  ,  0.18602  ,  0.26118  ,\n",
       "        0.75051  , -0.52408  , -1.3285   ,  0.27911  ,  0.34871  ,\n",
       "        0.13082  , -0.21767  ,  0.38496  ,  0.30539  ,  0.34169  ,\n",
       "       -0.74524  , -0.021518 ,  0.13421  , -0.4757   , -0.52588  ,\n",
       "       -0.57126  ,  0.36808  , -0.15806  ,  0.3264   ,  0.17701  ,\n",
       "        0.18068  , -0.31327  ,  0.14154  , -0.462    ,  0.10841  ,\n",
       "        0.2614   ,  0.45517  ,  0.36075  ,  0.37741  ,  0.20888  ,\n",
       "        0.34526  , -0.8236   ,  0.90863  ,  0.77989  ,  0.2071   ,\n",
       "        0.596    ,  0.8946   ,  0.014703 ,  0.15536  ,  0.15976  ,\n",
       "       -0.74244  , -0.56368  , -0.40639  ,  0.37402  , -0.7583   ],\n",
       "      dtype=float32)"
      ]
     },
     "execution_count": 25,
     "metadata": {},
     "output_type": "execute_result"
    }
   ],
   "source": [
    "# Take a look at one:\n",
    "words_embeddings['coronavirus']"
   ]
  },
  {
   "cell_type": "code",
   "execution_count": null,
   "metadata": {},
   "outputs": [],
   "source": []
  },
  {
   "cell_type": "markdown",
   "metadata": {},
   "source": [
    "### Cluster emerging words according to their semantic (embeddings) representation"
   ]
  },
  {
   "cell_type": "markdown",
   "metadata": {},
   "source": [
    "### PCA"
   ]
  },
  {
   "cell_type": "markdown",
   "metadata": {},
   "source": [
    "We will use PCA (Principal Component Analysis) to visualise the data in a 2-dimensional space and see how the emrging words cluster."
   ]
  },
  {
   "cell_type": "code",
   "execution_count": 26,
   "metadata": {},
   "outputs": [],
   "source": [
    "# settings\n",
    "from sklearn.decomposition import PCA\n",
    "import matplotlib.pyplot as plt"
   ]
  },
  {
   "cell_type": "code",
   "execution_count": 27,
   "metadata": {},
   "outputs": [],
   "source": [
    "# fit a 2d PCA model to the vectors\n",
    "X = w2v_embeddings[[word for word in emerging_words if word in w2v_embeddings.vocab]]\n",
    "pca = PCA(n_components=2)\n",
    "result = pca.fit_transform(X)"
   ]
  },
  {
   "cell_type": "code",
   "execution_count": 28,
   "metadata": {
    "scrolled": true
   },
   "outputs": [
    {
     "data": {
      "image/png": "[encoded data removed]",
      "text/plain": [
       "<Figure size 432x288 with 1 Axes>"
      ]
     },
     "metadata": {
      "needs_background": "light"
     },
     "output_type": "display_data"
    }
   ],
   "source": [
    "# create a scatter plot of the projection\n",
    "plt.scatter(result[:, 0], result[:, 1])\n",
    "words = [word for word in emerging_words if word in w2v_embeddings.vocab]\n",
    "for i, word in enumerate(words):\n",
    "\tplt.annotate(word, xy=(result[i, 0], result[i, 1]))\n",
    "plt.show()"
   ]
  },
  {
   "cell_type": "markdown",
   "metadata": {},
   "source": [
    "Not easy to see clear groupings for most words with only two dimensions."
   ]
  },
  {
   "cell_type": "code",
   "execution_count": null,
   "metadata": {},
   "outputs": [],
   "source": []
  },
  {
   "cell_type": "markdown",
   "metadata": {},
   "source": [
    "### K-means"
   ]
  },
  {
   "cell_type": "markdown",
   "metadata": {},
   "source": [
    "Let's determines the optimal number of clusters using the elbow method.\n",
    "\n",
    "This works iteratively by selecting a random coordinate of the cluster center and assign the data points to a cluster. It then calculates the distance of each data point (word embeddings) from the centroid of the closest cluster using either Euclidean or Cosine distance and based on this, it updates the datapoint positions as well as the cluster centers. Within cluster sum of squares (WCSS) is the metric that captured the overall distance of the individual points from the centroid of their closest cluster (the metric that the k-means algorithm is set to minimise). \n",
    "\n",
    "The point on the graph where a ‘hinge’ or 'elbow' occurs is considered to be the optimal value of k. "
   ]
  },
  {
   "cell_type": "code",
   "execution_count": 29,
   "metadata": {},
   "outputs": [],
   "source": [
    "from sklearn.cluster import KMeans\n",
    "from nltk.cluster import KMeansClusterer\n",
    "from nltk.cluster.util import cosine_distance"
   ]
  },
  {
   "cell_type": "code",
   "execution_count": 30,
   "metadata": {},
   "outputs": [],
   "source": [
    "X = w2v_embeddings[[word for word in emerging_words if word in w2v_embeddings.vocab]]"
   ]
  },
  {
   "cell_type": "code",
   "execution_count": 31,
   "metadata": {},
   "outputs": [
    {
     "data": {
      "text/plain": [
       "49"
      ]
     },
     "execution_count": 31,
     "metadata": {},
     "output_type": "execute_result"
    }
   ],
   "source": [
    "len(X)"
   ]
  },
  {
   "cell_type": "code",
   "execution_count": 32,
   "metadata": {},
   "outputs": [
    {
     "data": {
      "text/plain": [
       "200"
      ]
     },
     "execution_count": 32,
     "metadata": {},
     "output_type": "execute_result"
    }
   ],
   "source": [
    "len(X[0])"
   ]
  },
  {
   "cell_type": "markdown",
   "metadata": {},
   "source": [
    "Using Euclidean distance"
   ]
  },
  {
   "cell_type": "code",
   "execution_count": 58,
   "metadata": {},
   "outputs": [],
   "source": [
    "wcss = []\n",
    "for i in range(1,11):\n",
    "    kmeans = KMeans(n_clusters=i, init=\"k-means++\", random_state=11)\n",
    "    kmeans.fit(X)\n",
    "    wcss.append(kmeans.inertia_)\n",
    "    "
   ]
  },
  {
   "cell_type": "code",
   "execution_count": 59,
   "metadata": {},
   "outputs": [
    {
     "data": {
      "image/png": "[encoded data removed]",
      "text/plain": [
       "<Figure size 432x288 with 1 Axes>"
      ]
     },
     "metadata": {
      "needs_background": "light"
     },
     "output_type": "display_data"
    }
   ],
   "source": [
    "plt.plot(range(1,11), wcss)\n",
    "plt.title(\"K-means: elbow method\")\n",
    "plt.xlabel(\"Number of clusters\")\n",
    "plt.ylabel(\"WCSS\")\n",
    "plt.show()"
   ]
  },
  {
   "cell_type": "markdown",
   "metadata": {},
   "source": [
    "Let's calculate the squared of sum distances using cosine distance instead: \n",
    "\n",
    "https://docs.scipy.org/doc/scipy/reference/generated/scipy.spatial.distance.cosine.html"
   ]
  },
  {
   "cell_type": "code",
   "execution_count": 35,
   "metadata": {},
   "outputs": [],
   "source": [
    "from scipy.spatial.distance import cosine, euclidean"
   ]
  },
  {
   "cell_type": "code",
   "execution_count": 60,
   "metadata": {},
   "outputs": [
    {
     "name": "stdout",
     "output_type": "stream",
     "text": [
      "sums for k=1: 7.173075023468812\n",
      "sums for k=2: 5.88889366408849\n",
      "sums for k=3: 5.063163816220822\n",
      "sums for k=4: 4.548379288113986\n",
      "sums for k=5: 4.3881889650404435\n",
      "sums for k=6: 3.823804934307656\n",
      "sums for k=7: 3.2436128373384143\n",
      "sums for k=8: 3.0860357773841685\n",
      "sums for k=9: 3.1494650338295074\n",
      "sums for k=10: 2.4965910939811415\n"
     ]
    }
   ],
   "source": [
    "wcss = []\n",
    "for k in range(1,11):\n",
    "    kclusterer = KMeansClusterer(k, distance=cosine_distance)\n",
    "    assigned_clusters = kclusterer.cluster(X, assign_clusters=True)\n",
    "\n",
    "    centroids = kclusterer.means()\n",
    "    \n",
    "    distances_ = []\n",
    "    for index_of_word in range(0, X.shape[0]):\n",
    "        index_of_cluster = assigned_clusters[index_of_word]   # get cluster the word was assigned to\n",
    "        # squared_distance_from_centroid = (euclidean(X[index_of_word], centroids[index_of_cluster]))**2  # Euclidean distance\n",
    "        squared_distance_from_centroid = (cosine(X[index_of_word], centroids[index_of_cluster]))**2   # Cosine distance\n",
    "        distances_.append(squared_distance_from_centroid) \n",
    "    print(f\"sums for k={k}: {np.sum(distances_)}\")\n",
    "    wcss.append(np.sum(distances_))"
   ]
  },
  {
   "cell_type": "code",
   "execution_count": 61,
   "metadata": {},
   "outputs": [
    {
     "data": {
      "image/png": "[encoded data removed]",
      "text/plain": [
       "<Figure size 432x288 with 1 Axes>"
      ]
     },
     "metadata": {
      "needs_background": "light"
     },
     "output_type": "display_data"
    }
   ],
   "source": [
    "plt.plot(range(1,11), wcss)\n",
    "plt.title(\"K-means: elbow method\")\n",
    "plt.xlabel(\"Number of clusters\")\n",
    "plt.ylabel(\"WCSS\")\n",
    "plt.show()"
   ]
  },
  {
   "cell_type": "code",
   "execution_count": null,
   "metadata": {},
   "outputs": [],
   "source": []
  },
  {
   "cell_type": "markdown",
   "metadata": {},
   "source": [
    "Let's follow the distance metric based on cosine similairty and go for 6 clusters."
   ]
  },
  {
   "cell_type": "code",
   "execution_count": 70,
   "metadata": {},
   "outputs": [],
   "source": [
    "n_clusters = 6"
   ]
  },
  {
   "cell_type": "code",
   "execution_count": 71,
   "metadata": {},
   "outputs": [],
   "source": [
    "kclusterer = KMeansClusterer(n_clusters,  distance=cosine_distance, repeats=300)\n",
    "\n",
    "assigned_clusters = kclusterer.cluster(X, assign_clusters=True)\n",
    "\n",
    "words = [word for word in emerging_words if word in w2v_embeddings.vocab]\n",
    "\n",
    "word_clusters = {word: assigned_clusters[i] for i, word in enumerate(words)}"
   ]
  },
  {
   "cell_type": "code",
   "execution_count": 72,
   "metadata": {},
   "outputs": [],
   "source": [
    "word_clusters_df = pd.Series(word_clusters, name=\"cluster\")"
   ]
  },
  {
   "cell_type": "code",
   "execution_count": 73,
   "metadata": {},
   "outputs": [],
   "source": [
    "word_clusters_df = word_clusters_df.reset_index()"
   ]
  },
  {
   "cell_type": "code",
   "execution_count": 74,
   "metadata": {},
   "outputs": [],
   "source": [
    "word_clusters_df.rename(columns={\"index\": \"word\"}, inplace=True)"
   ]
  },
  {
   "cell_type": "code",
   "execution_count": 75,
   "metadata": {},
   "outputs": [
    {
     "data": {
      "text/html": [
       "<div>\n",
       "<style scoped>\n",
       "    .dataframe tbody tr th:only-of-type {\n",
       "        vertical-align: middle;\n",
       "    }\n",
       "\n",
       "    .dataframe tbody tr th {\n",
       "        vertical-align: top;\n",
       "    }\n",
       "\n",
       "    .dataframe thead th {\n",
       "        text-align: right;\n",
       "    }\n",
       "</style>\n",
       "<table border=\"1\" class=\"dataframe\">\n",
       "  <thead>\n",
       "    <tr style=\"text-align: right;\">\n",
       "      <th></th>\n",
       "      <th>word</th>\n",
       "    </tr>\n",
       "    <tr>\n",
       "      <th>cluster</th>\n",
       "      <th></th>\n",
       "    </tr>\n",
       "  </thead>\n",
       "  <tbody>\n",
       "    <tr>\n",
       "      <th>0</th>\n",
       "      <td>[time, home, week, cent, day, weeks, days, today]</td>\n",
       "    </tr>\n",
       "    <tr>\n",
       "      <th>1</th>\n",
       "      <td>[measures, lockdown, advice, group, ministers, crisis, march, university, distancing, restrictions, strategy]</td>\n",
       "    </tr>\n",
       "    <tr>\n",
       "      <th>2</th>\n",
       "      <td>[people, government, health, governments, pandemic, uk, care, deaths, country, schools, countries, world, public, england]</td>\n",
       "    </tr>\n",
       "    <tr>\n",
       "      <th>3</th>\n",
       "      <td>[sage, number, way, scientists, experts, data]</td>\n",
       "    </tr>\n",
       "    <tr>\n",
       "      <th>4</th>\n",
       "      <td>[johnson, minister, professor, cummings]</td>\n",
       "    </tr>\n",
       "    <tr>\n",
       "      <th>5</th>\n",
       "      <td>[coronavirus, virus, cases, risk, disease, evidence]</td>\n",
       "    </tr>\n",
       "  </tbody>\n",
       "</table>\n",
       "</div>"
      ],
      "text/plain": [
       "                                                                                                                               word\n",
       "cluster                                                                                                                            \n",
       "0                                                                                 [time, home, week, cent, day, weeks, days, today]\n",
       "1                     [measures, lockdown, advice, group, ministers, crisis, march, university, distancing, restrictions, strategy]\n",
       "2        [people, government, health, governments, pandemic, uk, care, deaths, country, schools, countries, world, public, england]\n",
       "3                                                                                    [sage, number, way, scientists, experts, data]\n",
       "4                                                                                          [johnson, minister, professor, cummings]\n",
       "5                                                                              [coronavirus, virus, cases, risk, disease, evidence]"
      ]
     },
     "execution_count": 75,
     "metadata": {},
     "output_type": "execute_result"
    }
   ],
   "source": [
    "pd.DataFrame(word_clusters_df.groupby(\"cluster\").word.apply(list))"
   ]
  },
  {
   "cell_type": "code",
   "execution_count": null,
   "metadata": {},
   "outputs": [],
   "source": []
  },
  {
   "cell_type": "code",
   "execution_count": null,
   "metadata": {},
   "outputs": [],
   "source": []
  },
  {
   "cell_type": "code",
   "execution_count": null,
   "metadata": {},
   "outputs": [],
   "source": []
  }
 ],
 "metadata": {
  "kernelspec": {
   "display_name": "Python 3.8.1 64-bit ('venv': venv)",
   "language": "python",
   "name": "python38164bitvenvvenvdde169c8e66848db85d258e4e769d548"
  },
  "language_info": {
   "codemirror_mode": {
    "name": "ipython",
    "version": 3
   },
   "file_extension": ".py",
   "mimetype": "text/x-python",
   "name": "python",
   "nbconvert_exporter": "python",
   "pygments_lexer": "ipython3",
   "version": "3.8.1"
  }
 },
 "nbformat": 4,
 "nbformat_minor": 4
}
