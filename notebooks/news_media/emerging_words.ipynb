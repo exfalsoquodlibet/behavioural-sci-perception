{
 "cells": [
  {
   "cell_type": "markdown",
   "metadata": {},
   "source": [
    "# This notebook"
   ]
  },
  {
   "cell_type": "markdown",
   "metadata": {},
   "source": [
    "In this notebook, we exlore which words - other than our keywords - have emerged during the months under analysis as those words that frequenctly occurred in the articles we have pre-filtered as focusing on behavioural science topics."
   ]
  },
  {
   "cell_type": "markdown",
   "metadata": {},
   "source": [
    "## Settings"
   ]
  },
  {
   "cell_type": "code",
   "execution_count": 1,
   "metadata": {},
   "outputs": [],
   "source": [
    "import os"
   ]
  },
  {
   "cell_type": "code",
   "execution_count": 2,
   "metadata": {},
   "outputs": [],
   "source": [
    "import numpy as np"
   ]
  },
  {
   "cell_type": "code",
   "execution_count": 3,
   "metadata": {},
   "outputs": [],
   "source": [
    "from math import log2"
   ]
  },
  {
   "cell_type": "code",
   "execution_count": 4,
   "metadata": {},
   "outputs": [],
   "source": [
    "import seaborn as sns\n",
    "import matplotlib.pyplot as plt"
   ]
  },
  {
   "cell_type": "code",
   "execution_count": 5,
   "metadata": {},
   "outputs": [],
   "source": [
    "import networkx as nx\n",
    "from operator import itemgetter"
   ]
  },
  {
   "cell_type": "code",
   "execution_count": 6,
   "metadata": {},
   "outputs": [],
   "source": [
    "%matplotlib inline"
   ]
  },
  {
   "cell_type": "code",
   "execution_count": 7,
   "metadata": {},
   "outputs": [
    {
     "name": "stdout",
     "output_type": "stream",
     "text": [
      "/Users/alessiatosi/DS_projects/behavioural-sci-perception/docs/ext/keywords.yaml has been successfully loaded as a dict\n",
      "/Users/alessiatosi/DS_projects/behavioural-sci-perception/docs/ext/subkw_to_kw_map.yaml has been successfully loaded as a dict\n"
     ]
    }
   ],
   "source": [
    "from src.news_media.get_keywords_trend import *"
   ]
  },
  {
   "cell_type": "code",
   "execution_count": 8,
   "metadata": {},
   "outputs": [],
   "source": [
    "pd.set_option('display.max_colwidth', None)"
   ]
  },
  {
   "cell_type": "markdown",
   "metadata": {},
   "source": [
    "## Import UK's news articles"
   ]
  },
  {
   "cell_type": "code",
   "execution_count": 9,
   "metadata": {},
   "outputs": [
    {
     "name": "stdout",
     "output_type": "stream",
     "text": [
      "(1968, 13)\n",
      "647\n",
      "(1968, 13)\n",
      "647\n",
      "Index(['Unnamed: 0', 'article_id', 'title', 'pub_date', 'full_text',\n",
      "       'subkword', 'opinion_context', 'opinion_context_id',\n",
      "       'keyword_sentiment', 'refers_to_gov', 'gov_sentiment', 'kword',\n",
      "       'pub_date_dt'],\n",
      "      dtype='object')\n",
      "647\n"
     ]
    }
   ],
   "source": [
    "news_uk = NewsArticles()"
   ]
  },
  {
   "cell_type": "markdown",
   "metadata": {},
   "source": [
    "`news_uk` is a `NewsArticles` class instance, with the following public attributes and methods:"
   ]
  },
  {
   "cell_type": "code",
   "execution_count": 11,
   "metadata": {},
   "outputs": [
    {
     "data": {
      "text/plain": [
       "['allwords_raw_tf',\n",
       " 'data_raw',\n",
       " 'data_uniq_article',\n",
       " 'get_kword_docfreq_agg',\n",
       " 'get_kword_rawfreq',\n",
       " 'get_kword_rawfreq_agg',\n",
       " 'get_num_ngrams',\n",
       " 'kword_docfreq_agg',\n",
       " 'kword_rawfreq',\n",
       " 'kword_rawfreq_agg',\n",
       " 'kword_reldocfreq_agg',\n",
       " 'kword_relfreq_agg',\n",
       " 'kword_rfrdf_agg',\n",
       " 'kword_yn_occurrence',\n",
       " 'unigram_count_perdoc']"
      ]
     },
     "execution_count": 11,
     "metadata": {},
     "output_type": "execute_result"
    }
   ],
   "source": [
    "[d for d in dir(news_uk) if not d.startswith(\"_\")]"
   ]
  },
  {
   "cell_type": "markdown",
   "metadata": {},
   "source": [
    "`news_uk.data` contains the original dataset of articles:"
   ]
  },
  {
   "cell_type": "code",
   "execution_count": 10,
   "metadata": {
    "scrolled": true
   },
   "outputs": [
    {
     "data": {
      "text/plain": [
       "(647, 6)"
      ]
     },
     "execution_count": 10,
     "metadata": {},
     "output_type": "execute_result"
    }
   ],
   "source": [
    "news_uk.data_uniq_article.shape"
   ]
  },
  {
   "cell_type": "code",
   "execution_count": 26,
   "metadata": {},
   "outputs": [],
   "source": [
    "## Extract data needed for analysis"
   ]
  },
  {
   "cell_type": "code",
   "execution_count": 13,
   "metadata": {},
   "outputs": [],
   "source": [
    "allwords_freqs = news_uk.allwords_raw_tf.copy()"
   ]
  },
  {
   "cell_type": "markdown",
   "metadata": {},
   "source": [
    "Top 50 most frequent words"
   ]
  },
  {
   "cell_type": "code",
   "execution_count": 14,
   "metadata": {},
   "outputs": [
    {
     "data": {
      "text/plain": [
       "people          3941\n",
       "government      2349\n",
       "health          1778\n",
       "coronavirus     1712\n",
       "virus           1276\n",
       "time            1099\n",
       "covid-19        1060\n",
       "johnson          973\n",
       "measures         888\n",
       "lockdown         840\n",
       "home             831\n",
       "advice           815\n",
       "sage             813\n",
       "governments      803\n",
       "week             751\n",
       "group            734\n",
       "number           715\n",
       "minister         710\n",
       "cases            709\n",
       "professor        700\n",
       "risk             688\n",
       "cent             682\n",
       "pandemic         673\n",
       "ministers        660\n",
       "day              639\n",
       "uk               637\n",
       "weeks            627\n",
       "way              606\n",
       "scientists       571\n",
       "march            554\n",
       "crisis           547\n",
       "care             540\n",
       "distancing       536\n",
       "deaths           533\n",
       "schools          532\n",
       "days             518\n",
       "university       517\n",
       "cummings         512\n",
       "experts          501\n",
       "restrictions     494\n",
       "evidence         493\n",
       "country          492\n",
       "disease          482\n",
       "countries        468\n",
       "data             465\n",
       "strategy         456\n",
       "public           453\n",
       "england          449\n",
       "world            435\n",
       "response         433\n",
       "dtype: int64"
      ]
     },
     "execution_count": 14,
     "metadata": {},
     "output_type": "execute_result"
    }
   ],
   "source": [
    "allwords_freqs.sum().sort_values(ascending=False)[:50]"
   ]
  },
  {
   "cell_type": "code",
   "execution_count": 29,
   "metadata": {},
   "outputs": [
    {
     "data": {
      "text/html": [
       "<div>\n",
       "<style scoped>\n",
       "    .dataframe tbody tr th:only-of-type {\n",
       "        vertical-align: middle;\n",
       "    }\n",
       "\n",
       "    .dataframe tbody tr th {\n",
       "        vertical-align: top;\n",
       "    }\n",
       "\n",
       "    .dataframe thead th {\n",
       "        text-align: right;\n",
       "    }\n",
       "</style>\n",
       "<table border=\"1\" class=\"dataframe\">\n",
       "  <thead>\n",
       "    <tr style=\"text-align: right;\">\n",
       "      <th></th>\n",
       "      <th>full_text</th>\n",
       "      <th>preproc_text</th>\n",
       "    </tr>\n",
       "  </thead>\n",
       "  <tbody>\n",
       "    <tr>\n",
       "      <th>0</th>\n",
       "      <td>Dominic Cummings started 2020 with a job ad containing an eccentric set of skills for shaking up government forecasting and decision-making. Is this pure disruption, or do those topics and technologies offer a clue to his plans?The keywords lay a very specific trail of breadcrumbs. Prediction science, cognitive technologies, Cialdini, Pearl's calculus of causation. Agent-based models, storytelling, the Neo4j database his programmers will use. What could this collection of buzzwords mean?I have a pretty good idea, because the expertise Dom wants is a near-perfect description of my work. But I'm unlikely to apply.For a decade I've used exactly this combination of mathematical, economic and computing disciplines to model the economy and the human imagination, giving me a distinctive insight into what Cummings might be up to. I believe he has two ambitious plans - but a critical third step is missing.The first is advanced data science. Finding cause-and-effect levers in huge datasets; approximating when perfect decisions aren't possible. Programming languages, machine learning: essential tools of modern life. Nothing wrong with the civil service getting better at that.The second step is less neutral. Agent-based models are a tool (which I endorse) for running computer simulations of society and testing new policies. Behavioural economics and persuasion technology can sell ideas to a sceptical population: this is what made Cummings famous.But ten years of doing this has taught me a third component is indispensable. It's absent from Silicon Valley's move-fast-break-things philosophy, and from Dom's blog post. The third element is values.For humans, values are our motivation to solve problems and a measure of whether we've succeeded. AI has motivations too. Nudge theory says 'there is no neutral choice architecture', and there is no neutral goal for an algorithm. If you don't give it values, it will inherit them by default.Programmers and economists (I've been both) prefer simple values. The greatest happiness for the greatest number: the perfect algorithmic principle? Until you start to ask: are UK-resident, taxpaying EU nationals included in \"the greatest number\", or only British citizens? If someone needs £30,000 for mobility support or cancer treatment, how is that weighed against the 30 people who'll give up £1,000 to provide it?Until we give values to machines, they can't apply the good judgement that is essential to policy design.Traditional economics seeks the best way for people to get what they want. Dom's ideas will optimise that process. The next step needs cognitive economics: the study of how our brains decide what we want, before we ask how to get it. We are just starting to answer that for humans, let alone AI.To give values to algorithms, we must agree on those values. That means democratic debate, not civil service rules. Only then can we let AI loose on running the country. Policy is not just an optimisation problem, it's a set of choices about the society we want to live in. And until Cummings - and his boss - have shown us what their values are, I'm not ready to help implement them.                   Leigh Caldwell is a cognitive economist and partner at                   Irrational Agency                   Irrational Agency                   . He blogs at                   www.knowingandmaking.com                              www.knowingandmaking.com                    and tweets at @leighblue.</td>\n",
       "      <td>cummings job ad set skills government forecasting decision-making disruption topics technologies clue plans keywords trail breadcrumbs prediction science technologies cialdini calculus causation models database programmers collection buzzwords idea expertise dom description work decade ive combination disciplines economy imagination insight cummings believe plans step data science levers datasets decisions programming languages machine learning tools life nothing service step models tool computer simulations society policies behavioural_economics persuasion technology ideas population cummings years component absent valleys move-fast-break-things philosophy doms blog element values humans values motivation problems measure weve ai motivations nudge_theory choice_architecture goal algorithm default programmers economists values happiness number principle nationals number citizens someone mobility support cancer treatment people values machines judgement policy design economics way people doms ideas process step economics study brains humans values values debate service rules country policy optimisation problem set choices society cummings boss values caldwell economist partner agency agency www com www com tweets leighblue</td>\n",
       "    </tr>\n",
       "  </tbody>\n",
       "</table>\n",
       "</div>"
      ],
      "text/plain": [
       "                                                                                                                                                                                                                                                                                                                                                                                                                                                                                                                                                                                                                                                                                                                                                                                                                                                                                                                                                                                                                                                                                                                                                                                                                                                                                                                                                                                                                                                                                                                                                                                                                                                                                                                                                                                                                                                                                                                                                                                                                                                                                                                                                                                                                                                                                                                                                                                                                                                                                                                                                                                                                                                                                                                                                                                                                                                                                                                                                                                                                                                                                                                                                                                                                                                                                                                                                                                                                                                                                                                                                                                                                           full_text  \\\n",
       "0  Dominic Cummings started 2020 with a job ad containing an eccentric set of skills for shaking up government forecasting and decision-making. Is this pure disruption, or do those topics and technologies offer a clue to his plans?The keywords lay a very specific trail of breadcrumbs. Prediction science, cognitive technologies, Cialdini, Pearl's calculus of causation. Agent-based models, storytelling, the Neo4j database his programmers will use. What could this collection of buzzwords mean?I have a pretty good idea, because the expertise Dom wants is a near-perfect description of my work. But I'm unlikely to apply.For a decade I've used exactly this combination of mathematical, economic and computing disciplines to model the economy and the human imagination, giving me a distinctive insight into what Cummings might be up to. I believe he has two ambitious plans - but a critical third step is missing.The first is advanced data science. Finding cause-and-effect levers in huge datasets; approximating when perfect decisions aren't possible. Programming languages, machine learning: essential tools of modern life. Nothing wrong with the civil service getting better at that.The second step is less neutral. Agent-based models are a tool (which I endorse) for running computer simulations of society and testing new policies. Behavioural economics and persuasion technology can sell ideas to a sceptical population: this is what made Cummings famous.But ten years of doing this has taught me a third component is indispensable. It's absent from Silicon Valley's move-fast-break-things philosophy, and from Dom's blog post. The third element is values.For humans, values are our motivation to solve problems and a measure of whether we've succeeded. AI has motivations too. Nudge theory says 'there is no neutral choice architecture', and there is no neutral goal for an algorithm. If you don't give it values, it will inherit them by default.Programmers and economists (I've been both) prefer simple values. The greatest happiness for the greatest number: the perfect algorithmic principle? Until you start to ask: are UK-resident, taxpaying EU nationals included in \"the greatest number\", or only British citizens? If someone needs £30,000 for mobility support or cancer treatment, how is that weighed against the 30 people who'll give up £1,000 to provide it?Until we give values to machines, they can't apply the good judgement that is essential to policy design.Traditional economics seeks the best way for people to get what they want. Dom's ideas will optimise that process. The next step needs cognitive economics: the study of how our brains decide what we want, before we ask how to get it. We are just starting to answer that for humans, let alone AI.To give values to algorithms, we must agree on those values. That means democratic debate, not civil service rules. Only then can we let AI loose on running the country. Policy is not just an optimisation problem, it's a set of choices about the society we want to live in. And until Cummings - and his boss - have shown us what their values are, I'm not ready to help implement them.                   Leigh Caldwell is a cognitive economist and partner at                   Irrational Agency                   Irrational Agency                   . He blogs at                   www.knowingandmaking.com                              www.knowingandmaking.com                    and tweets at @leighblue.                    \n",
       "\n",
       "                                                                                                                                                                                                                                                                                                                                                                                                                                                                                                                                                                                                                                                                                                                                                                                                                                                                                                                                                                                                                                                                                                                                                                                                                                                                                preproc_text  \n",
       "0  cummings job ad set skills government forecasting decision-making disruption topics technologies clue plans keywords trail breadcrumbs prediction science technologies cialdini calculus causation models database programmers collection buzzwords idea expertise dom description work decade ive combination disciplines economy imagination insight cummings believe plans step data science levers datasets decisions programming languages machine learning tools life nothing service step models tool computer simulations society policies behavioural_economics persuasion technology ideas population cummings years component absent valleys move-fast-break-things philosophy doms blog element values humans values motivation problems measure weve ai motivations nudge_theory choice_architecture goal algorithm default programmers economists values happiness number principle nationals number citizens someone mobility support cancer treatment people values machines judgement policy design economics way people doms ideas process step economics study brains humans values values debate service rules country policy optimisation problem set choices society cummings boss values caldwell economist partner agency agency www com www com tweets leighblue  "
      ]
     },
     "execution_count": 29,
     "metadata": {},
     "output_type": "execute_result"
    }
   ],
   "source": [
    "news_uk.data[['full_text', 'preproc_text']][:1]"
   ]
  },
  {
   "cell_type": "markdown",
   "metadata": {},
   "source": [
    "## Selection of emerging words\n",
    "\n",
    "We kept those words that we deemed:\n",
    "- TOADD"
   ]
  },
  {
   "cell_type": "code",
   "execution_count": 15,
   "metadata": {},
   "outputs": [],
   "source": [
    "WORDS_TO_KEEP = ['government', 'health','coronavirus','virus','covid-19','johnson','measures',\n",
    " 'lockdown','sage','advice','cases','minister','professor','pandemic','risk','ministers',\n",
    " 'uk','scientists','deaths','crisis','distancing','disease','cummings','restrictions','experts',\n",
    " 'data','evidence','public','england','strategy', 'response']"
   ]
  },
  {
   "cell_type": "code",
   "execution_count": 16,
   "metadata": {
    "scrolled": true
   },
   "outputs": [],
   "source": [
    "emerging_words_freqs = allwords_freqs[[col for col in  allwords_freqs.columns if col in WORDS_TO_KEEP]]"
   ]
  },
  {
   "cell_type": "code",
   "execution_count": 17,
   "metadata": {},
   "outputs": [
    {
     "data": {
      "text/plain": [
       "(647, 31)"
      ]
     },
     "execution_count": 17,
     "metadata": {},
     "output_type": "execute_result"
    }
   ],
   "source": [
    "emerging_words_freqs.shape"
   ]
  },
  {
   "cell_type": "code",
   "execution_count": 18,
   "metadata": {},
   "outputs": [
    {
     "data": {
      "text/html": [
       "<div>\n",
       "<style scoped>\n",
       "    .dataframe tbody tr th:only-of-type {\n",
       "        vertical-align: middle;\n",
       "    }\n",
       "\n",
       "    .dataframe tbody tr th {\n",
       "        vertical-align: top;\n",
       "    }\n",
       "\n",
       "    .dataframe thead th {\n",
       "        text-align: right;\n",
       "    }\n",
       "</style>\n",
       "<table border=\"1\" class=\"dataframe\">\n",
       "  <thead>\n",
       "    <tr style=\"text-align: right;\">\n",
       "      <th></th>\n",
       "      <th></th>\n",
       "      <th></th>\n",
       "      <th></th>\n",
       "      <th>advice</th>\n",
       "      <th>cases</th>\n",
       "      <th>coronavirus</th>\n",
       "      <th>covid-19</th>\n",
       "      <th>crisis</th>\n",
       "      <th>cummings</th>\n",
       "      <th>data</th>\n",
       "      <th>deaths</th>\n",
       "      <th>disease</th>\n",
       "      <th>distancing</th>\n",
       "      <th>...</th>\n",
       "      <th>professor</th>\n",
       "      <th>public</th>\n",
       "      <th>response</th>\n",
       "      <th>restrictions</th>\n",
       "      <th>risk</th>\n",
       "      <th>sage</th>\n",
       "      <th>scientists</th>\n",
       "      <th>strategy</th>\n",
       "      <th>uk</th>\n",
       "      <th>virus</th>\n",
       "    </tr>\n",
       "    <tr>\n",
       "      <th></th>\n",
       "      <th>pub_date</th>\n",
       "      <th>article_id</th>\n",
       "      <th>word_count</th>\n",
       "      <th></th>\n",
       "      <th></th>\n",
       "      <th></th>\n",
       "      <th></th>\n",
       "      <th></th>\n",
       "      <th></th>\n",
       "      <th></th>\n",
       "      <th></th>\n",
       "      <th></th>\n",
       "      <th></th>\n",
       "      <th></th>\n",
       "      <th></th>\n",
       "      <th></th>\n",
       "      <th></th>\n",
       "      <th></th>\n",
       "      <th></th>\n",
       "      <th></th>\n",
       "      <th></th>\n",
       "      <th></th>\n",
       "      <th></th>\n",
       "      <th></th>\n",
       "    </tr>\n",
       "  </thead>\n",
       "  <tbody>\n",
       "    <tr>\n",
       "      <th>0</th>\n",
       "      <th>2020-01-27</th>\n",
       "      <th>b1_6</th>\n",
       "      <th>658</th>\n",
       "      <td>1</td>\n",
       "      <td>0</td>\n",
       "      <td>0</td>\n",
       "      <td>0</td>\n",
       "      <td>1</td>\n",
       "      <td>0</td>\n",
       "      <td>0</td>\n",
       "      <td>1</td>\n",
       "      <td>0</td>\n",
       "      <td>0</td>\n",
       "      <td>...</td>\n",
       "      <td>1</td>\n",
       "      <td>0</td>\n",
       "      <td>0</td>\n",
       "      <td>0</td>\n",
       "      <td>0</td>\n",
       "      <td>0</td>\n",
       "      <td>0</td>\n",
       "      <td>0</td>\n",
       "      <td>1</td>\n",
       "      <td>0</td>\n",
       "    </tr>\n",
       "    <tr>\n",
       "      <th>1</th>\n",
       "      <th>2020-01-28</th>\n",
       "      <th>b1_7</th>\n",
       "      <th>194</th>\n",
       "      <td>0</td>\n",
       "      <td>1</td>\n",
       "      <td>0</td>\n",
       "      <td>0</td>\n",
       "      <td>0</td>\n",
       "      <td>0</td>\n",
       "      <td>0</td>\n",
       "      <td>0</td>\n",
       "      <td>0</td>\n",
       "      <td>0</td>\n",
       "      <td>...</td>\n",
       "      <td>0</td>\n",
       "      <td>0</td>\n",
       "      <td>0</td>\n",
       "      <td>0</td>\n",
       "      <td>0</td>\n",
       "      <td>0</td>\n",
       "      <td>0</td>\n",
       "      <td>0</td>\n",
       "      <td>0</td>\n",
       "      <td>0</td>\n",
       "    </tr>\n",
       "    <tr>\n",
       "      <th>2</th>\n",
       "      <th>2020-01-29</th>\n",
       "      <th>b1_8</th>\n",
       "      <th>158</th>\n",
       "      <td>0</td>\n",
       "      <td>0</td>\n",
       "      <td>0</td>\n",
       "      <td>0</td>\n",
       "      <td>0</td>\n",
       "      <td>0</td>\n",
       "      <td>0</td>\n",
       "      <td>0</td>\n",
       "      <td>0</td>\n",
       "      <td>0</td>\n",
       "      <td>...</td>\n",
       "      <td>0</td>\n",
       "      <td>0</td>\n",
       "      <td>0</td>\n",
       "      <td>0</td>\n",
       "      <td>0</td>\n",
       "      <td>0</td>\n",
       "      <td>0</td>\n",
       "      <td>0</td>\n",
       "      <td>0</td>\n",
       "      <td>0</td>\n",
       "    </tr>\n",
       "    <tr>\n",
       "      <th>3</th>\n",
       "      <th>2020-01-29</th>\n",
       "      <th>b1_9</th>\n",
       "      <th>78</th>\n",
       "      <td>0</td>\n",
       "      <td>0</td>\n",
       "      <td>0</td>\n",
       "      <td>0</td>\n",
       "      <td>0</td>\n",
       "      <td>0</td>\n",
       "      <td>1</td>\n",
       "      <td>0</td>\n",
       "      <td>0</td>\n",
       "      <td>0</td>\n",
       "      <td>...</td>\n",
       "      <td>0</td>\n",
       "      <td>0</td>\n",
       "      <td>0</td>\n",
       "      <td>0</td>\n",
       "      <td>0</td>\n",
       "      <td>0</td>\n",
       "      <td>0</td>\n",
       "      <td>0</td>\n",
       "      <td>0</td>\n",
       "      <td>0</td>\n",
       "    </tr>\n",
       "    <tr>\n",
       "      <th>4</th>\n",
       "      <th>2020-02-03</th>\n",
       "      <th>b1_10</th>\n",
       "      <th>191</th>\n",
       "      <td>1</td>\n",
       "      <td>0</td>\n",
       "      <td>0</td>\n",
       "      <td>0</td>\n",
       "      <td>1</td>\n",
       "      <td>0</td>\n",
       "      <td>0</td>\n",
       "      <td>0</td>\n",
       "      <td>0</td>\n",
       "      <td>0</td>\n",
       "      <td>...</td>\n",
       "      <td>1</td>\n",
       "      <td>0</td>\n",
       "      <td>0</td>\n",
       "      <td>0</td>\n",
       "      <td>0</td>\n",
       "      <td>0</td>\n",
       "      <td>0</td>\n",
       "      <td>0</td>\n",
       "      <td>0</td>\n",
       "      <td>0</td>\n",
       "    </tr>\n",
       "    <tr>\n",
       "      <th>...</th>\n",
       "      <th>...</th>\n",
       "      <th>...</th>\n",
       "      <th>...</th>\n",
       "      <td>...</td>\n",
       "      <td>...</td>\n",
       "      <td>...</td>\n",
       "      <td>...</td>\n",
       "      <td>...</td>\n",
       "      <td>...</td>\n",
       "      <td>...</td>\n",
       "      <td>...</td>\n",
       "      <td>...</td>\n",
       "      <td>...</td>\n",
       "      <td>...</td>\n",
       "      <td>...</td>\n",
       "      <td>...</td>\n",
       "      <td>...</td>\n",
       "      <td>...</td>\n",
       "      <td>...</td>\n",
       "      <td>...</td>\n",
       "      <td>...</td>\n",
       "      <td>...</td>\n",
       "      <td>...</td>\n",
       "      <td>...</td>\n",
       "    </tr>\n",
       "    <tr>\n",
       "      <th>642</th>\n",
       "      <th>2020-05-11</th>\n",
       "      <th>b2_261.0</th>\n",
       "      <th>150</th>\n",
       "      <td>2</td>\n",
       "      <td>0</td>\n",
       "      <td>2</td>\n",
       "      <td>0</td>\n",
       "      <td>0</td>\n",
       "      <td>0</td>\n",
       "      <td>0</td>\n",
       "      <td>0</td>\n",
       "      <td>0</td>\n",
       "      <td>0</td>\n",
       "      <td>...</td>\n",
       "      <td>2</td>\n",
       "      <td>0</td>\n",
       "      <td>0</td>\n",
       "      <td>1</td>\n",
       "      <td>1</td>\n",
       "      <td>1</td>\n",
       "      <td>1</td>\n",
       "      <td>0</td>\n",
       "      <td>0</td>\n",
       "      <td>1</td>\n",
       "    </tr>\n",
       "    <tr>\n",
       "      <th>643</th>\n",
       "      <th>2020-05-11</th>\n",
       "      <th>b2_262.0</th>\n",
       "      <th>60</th>\n",
       "      <td>0</td>\n",
       "      <td>0</td>\n",
       "      <td>1</td>\n",
       "      <td>0</td>\n",
       "      <td>0</td>\n",
       "      <td>0</td>\n",
       "      <td>0</td>\n",
       "      <td>0</td>\n",
       "      <td>0</td>\n",
       "      <td>0</td>\n",
       "      <td>...</td>\n",
       "      <td>2</td>\n",
       "      <td>0</td>\n",
       "      <td>1</td>\n",
       "      <td>0</td>\n",
       "      <td>1</td>\n",
       "      <td>1</td>\n",
       "      <td>0</td>\n",
       "      <td>0</td>\n",
       "      <td>0</td>\n",
       "      <td>0</td>\n",
       "    </tr>\n",
       "    <tr>\n",
       "      <th>644</th>\n",
       "      <th>2020-05-11</th>\n",
       "      <th>b2_263.0</th>\n",
       "      <th>160</th>\n",
       "      <td>0</td>\n",
       "      <td>0</td>\n",
       "      <td>1</td>\n",
       "      <td>0</td>\n",
       "      <td>1</td>\n",
       "      <td>0</td>\n",
       "      <td>1</td>\n",
       "      <td>0</td>\n",
       "      <td>0</td>\n",
       "      <td>0</td>\n",
       "      <td>...</td>\n",
       "      <td>0</td>\n",
       "      <td>0</td>\n",
       "      <td>0</td>\n",
       "      <td>0</td>\n",
       "      <td>0</td>\n",
       "      <td>0</td>\n",
       "      <td>0</td>\n",
       "      <td>0</td>\n",
       "      <td>0</td>\n",
       "      <td>0</td>\n",
       "    </tr>\n",
       "    <tr>\n",
       "      <th>645</th>\n",
       "      <th>2020-05-31</th>\n",
       "      <th>b2_264.0</th>\n",
       "      <th>286</th>\n",
       "      <td>0</td>\n",
       "      <td>0</td>\n",
       "      <td>0</td>\n",
       "      <td>2</td>\n",
       "      <td>0</td>\n",
       "      <td>1</td>\n",
       "      <td>0</td>\n",
       "      <td>0</td>\n",
       "      <td>0</td>\n",
       "      <td>0</td>\n",
       "      <td>...</td>\n",
       "      <td>0</td>\n",
       "      <td>0</td>\n",
       "      <td>2</td>\n",
       "      <td>0</td>\n",
       "      <td>0</td>\n",
       "      <td>0</td>\n",
       "      <td>0</td>\n",
       "      <td>0</td>\n",
       "      <td>0</td>\n",
       "      <td>0</td>\n",
       "    </tr>\n",
       "    <tr>\n",
       "      <th>646</th>\n",
       "      <th>2020-05-11</th>\n",
       "      <th>b2_265.0</th>\n",
       "      <th>124</th>\n",
       "      <td>0</td>\n",
       "      <td>0</td>\n",
       "      <td>1</td>\n",
       "      <td>0</td>\n",
       "      <td>0</td>\n",
       "      <td>0</td>\n",
       "      <td>2</td>\n",
       "      <td>0</td>\n",
       "      <td>0</td>\n",
       "      <td>0</td>\n",
       "      <td>...</td>\n",
       "      <td>0</td>\n",
       "      <td>0</td>\n",
       "      <td>0</td>\n",
       "      <td>0</td>\n",
       "      <td>0</td>\n",
       "      <td>0</td>\n",
       "      <td>0</td>\n",
       "      <td>0</td>\n",
       "      <td>0</td>\n",
       "      <td>0</td>\n",
       "    </tr>\n",
       "  </tbody>\n",
       "</table>\n",
       "<p>647 rows × 31 columns</p>\n",
       "</div>"
      ],
      "text/plain": [
       "                                      advice  cases  coronavirus  covid-19  \\\n",
       "    pub_date   article_id word_count                                         \n",
       "0   2020-01-27 b1_6       658              1      0            0         0   \n",
       "1   2020-01-28 b1_7       194              0      1            0         0   \n",
       "2   2020-01-29 b1_8       158              0      0            0         0   \n",
       "3   2020-01-29 b1_9       78               0      0            0         0   \n",
       "4   2020-02-03 b1_10      191              1      0            0         0   \n",
       "...                                      ...    ...          ...       ...   \n",
       "642 2020-05-11 b2_261.0   150              2      0            2         0   \n",
       "643 2020-05-11 b2_262.0   60               0      0            1         0   \n",
       "644 2020-05-11 b2_263.0   160              0      0            1         0   \n",
       "645 2020-05-31 b2_264.0   286              0      0            0         2   \n",
       "646 2020-05-11 b2_265.0   124              0      0            1         0   \n",
       "\n",
       "                                      crisis  cummings  data  deaths  disease  \\\n",
       "    pub_date   article_id word_count                                            \n",
       "0   2020-01-27 b1_6       658              1         0     0       1        0   \n",
       "1   2020-01-28 b1_7       194              0         0     0       0        0   \n",
       "2   2020-01-29 b1_8       158              0         0     0       0        0   \n",
       "3   2020-01-29 b1_9       78               0         0     1       0        0   \n",
       "4   2020-02-03 b1_10      191              1         0     0       0        0   \n",
       "...                                      ...       ...   ...     ...      ...   \n",
       "642 2020-05-11 b2_261.0   150              0         0     0       0        0   \n",
       "643 2020-05-11 b2_262.0   60               0         0     0       0        0   \n",
       "644 2020-05-11 b2_263.0   160              1         0     1       0        0   \n",
       "645 2020-05-31 b2_264.0   286              0         1     0       0        0   \n",
       "646 2020-05-11 b2_265.0   124              0         0     2       0        0   \n",
       "\n",
       "                                      distancing  ...  professor  public  \\\n",
       "    pub_date   article_id word_count              ...                      \n",
       "0   2020-01-27 b1_6       658                  0  ...          1       0   \n",
       "1   2020-01-28 b1_7       194                  0  ...          0       0   \n",
       "2   2020-01-29 b1_8       158                  0  ...          0       0   \n",
       "3   2020-01-29 b1_9       78                   0  ...          0       0   \n",
       "4   2020-02-03 b1_10      191                  0  ...          1       0   \n",
       "...                                          ...  ...        ...     ...   \n",
       "642 2020-05-11 b2_261.0   150                  0  ...          2       0   \n",
       "643 2020-05-11 b2_262.0   60                   0  ...          2       0   \n",
       "644 2020-05-11 b2_263.0   160                  0  ...          0       0   \n",
       "645 2020-05-31 b2_264.0   286                  0  ...          0       0   \n",
       "646 2020-05-11 b2_265.0   124                  0  ...          0       0   \n",
       "\n",
       "                                      response  restrictions  risk  sage  \\\n",
       "    pub_date   article_id word_count                                       \n",
       "0   2020-01-27 b1_6       658                0             0     0     0   \n",
       "1   2020-01-28 b1_7       194                0             0     0     0   \n",
       "2   2020-01-29 b1_8       158                0             0     0     0   \n",
       "3   2020-01-29 b1_9       78                 0             0     0     0   \n",
       "4   2020-02-03 b1_10      191                0             0     0     0   \n",
       "...                                        ...           ...   ...   ...   \n",
       "642 2020-05-11 b2_261.0   150                0             1     1     1   \n",
       "643 2020-05-11 b2_262.0   60                 1             0     1     1   \n",
       "644 2020-05-11 b2_263.0   160                0             0     0     0   \n",
       "645 2020-05-31 b2_264.0   286                2             0     0     0   \n",
       "646 2020-05-11 b2_265.0   124                0             0     0     0   \n",
       "\n",
       "                                      scientists  strategy  uk  virus  \n",
       "    pub_date   article_id word_count                                   \n",
       "0   2020-01-27 b1_6       658                  0         0   1      0  \n",
       "1   2020-01-28 b1_7       194                  0         0   0      0  \n",
       "2   2020-01-29 b1_8       158                  0         0   0      0  \n",
       "3   2020-01-29 b1_9       78                   0         0   0      0  \n",
       "4   2020-02-03 b1_10      191                  0         0   0      0  \n",
       "...                                          ...       ...  ..    ...  \n",
       "642 2020-05-11 b2_261.0   150                  1         0   0      1  \n",
       "643 2020-05-11 b2_262.0   60                   0         0   0      0  \n",
       "644 2020-05-11 b2_263.0   160                  0         0   0      0  \n",
       "645 2020-05-31 b2_264.0   286                  0         0   0      0  \n",
       "646 2020-05-11 b2_265.0   124                  0         0   0      0  \n",
       "\n",
       "[647 rows x 31 columns]"
      ]
     },
     "execution_count": 18,
     "metadata": {},
     "output_type": "execute_result"
    }
   ],
   "source": [
    "emerging_words_freqs"
   ]
  },
  {
   "cell_type": "code",
   "execution_count": null,
   "metadata": {},
   "outputs": [],
   "source": []
  },
  {
   "cell_type": "markdown",
   "metadata": {},
   "source": [
    "### Word embeddings and semantic clustering of emerging words "
   ]
  },
  {
   "cell_type": "markdown",
   "metadata": {},
   "source": [
    "We will use word embeddings to represent the semantics of these emerging words in vector space and see how they cluster using PCA. To this purpose, we will use BioWordVec, biomedical word embeddings obtained with fastText (https://github.com/ncbi-nlp/BioSentVec)."
   ]
  },
  {
   "cell_type": "markdown",
   "metadata": {},
   "source": [
    "### 1. Settings"
   ]
  },
  {
   "cell_type": "code",
   "execution_count": 19,
   "metadata": {},
   "outputs": [],
   "source": [
    "from gensim.models import Word2Vec\n",
    "from gensim.models import KeyedVectors"
   ]
  },
  {
   "cell_type": "code",
   "execution_count": null,
   "metadata": {},
   "outputs": [],
   "source": []
  },
  {
   "cell_type": "markdown",
   "metadata": {},
   "source": [
    "### 2. Load word2vec pretrained embedding"
   ]
  },
  {
   "cell_type": "code",
   "execution_count": 20,
   "metadata": {},
   "outputs": [],
   "source": [
    "MODELS_LOCATION = os.environ.get(\"DIR_MODELS\")\n",
    "W2V_MODEL_PATH = os.path.join(MODELS_LOCATION, \"BioWordVec_PubMed_MIMICIII_d200.vec.bin\")"
   ]
  },
  {
   "cell_type": "code",
   "execution_count": 21,
   "metadata": {},
   "outputs": [
    {
     "data": {
      "text/plain": [
       "'/Users/alessiatosi/DS_projects/behavioural-sci-perception/docs/ext/models'"
      ]
     },
     "execution_count": 21,
     "metadata": {},
     "output_type": "execute_result"
    }
   ],
   "source": [
    "os.environ.get(\"DIR_MODELS\")"
   ]
  },
  {
   "cell_type": "code",
   "execution_count": 22,
   "metadata": {
    "scrolled": true
   },
   "outputs": [
    {
     "name": "stdout",
     "output_type": "stream",
     "text": [
      "embeddings successfully loaded\n"
     ]
    }
   ],
   "source": [
    "try:\n",
    "    w2v_embeddings = KeyedVectors.load_word2vec_format(W2V_MODEL_PATH, binary=True)\n",
    "except Exception as e:\n",
    "    print(e)\n",
    "print('embeddings successfully loaded')"
   ]
  },
  {
   "cell_type": "markdown",
   "metadata": {},
   "source": [
    "### 3. Retrieve emerging words' vectors"
   ]
  },
  {
   "cell_type": "markdown",
   "metadata": {},
   "source": [
    "First, let's check whether all the top-50 emerging words have a word2vec representation (this depends on the data on which the word2vec model was trained)."
   ]
  },
  {
   "cell_type": "code",
   "execution_count": 23,
   "metadata": {},
   "outputs": [],
   "source": [
    "emerging_words = emerging_words_freqs.sum().sort_values(ascending=False)[:50].index.to_list()"
   ]
  },
  {
   "cell_type": "code",
   "execution_count": 24,
   "metadata": {},
   "outputs": [
    {
     "data": {
      "text/plain": [
       "['covid-19']"
      ]
     },
     "execution_count": 24,
     "metadata": {},
     "output_type": "execute_result"
    }
   ],
   "source": [
    "[word for word in emerging_words if not word in w2v_embeddings.vocab]"
   ]
  },
  {
   "cell_type": "code",
   "execution_count": null,
   "metadata": {},
   "outputs": [],
   "source": []
  },
  {
   "cell_type": "markdown",
   "metadata": {},
   "source": [
    "Let's recode:\n",
    "`covid-19` as `coronavirus` (present in the list and in the word2vec model)\n",
    "`herd_immunity` as `immunity`"
   ]
  },
  {
   "cell_type": "code",
   "execution_count": 25,
   "metadata": {},
   "outputs": [],
   "source": [
    "emerging_words = [\"coronavirus\" if elem==\"covid-19\" else elem for elem in emerging_words]"
   ]
  },
  {
   "cell_type": "markdown",
   "metadata": {},
   "source": [
    "Retrieve embeddings"
   ]
  },
  {
   "cell_type": "code",
   "execution_count": 26,
   "metadata": {},
   "outputs": [],
   "source": [
    "words_embeddings = {word: w2v_embeddings[word] for word in emerging_words if word in w2v_embeddings.vocab}"
   ]
  },
  {
   "cell_type": "code",
   "execution_count": 27,
   "metadata": {},
   "outputs": [
    {
     "data": {
      "text/plain": [
       "array([ 0.36402  ,  0.46335  ,  0.6096   ,  0.87538  , -0.14334  ,\n",
       "        0.035163 ,  0.30361  , -0.39785  ,  0.93503  ,  0.20384  ,\n",
       "       -0.07153  ,  1.5519   ,  0.11822  , -0.24652  ,  0.086058 ,\n",
       "       -0.70525  ,  0.10849  , -0.48865  ,  0.35592  ,  0.50052  ,\n",
       "        1.0446   , -0.52246  , -1.0474   , -0.59401  , -0.29903  ,\n",
       "        0.34294  , -0.61624  , -0.49844  ,  0.072756 ,  0.3776   ,\n",
       "       -0.28515  , -0.67598  , -0.91952  , -0.74865  , -0.23456  ,\n",
       "        0.46626  ,  1.1255   , -0.42723  , -0.06667  ,  0.39181  ,\n",
       "       -1.1654   ,  0.25934  , -0.33107  ,  0.28034  ,  0.65391  ,\n",
       "        0.42485  ,  0.55339  , -0.12891  , -0.36614  ,  0.31501  ,\n",
       "       -0.78559  ,  0.39892  , -0.61399  ,  0.17491  ,  0.2145   ,\n",
       "       -0.50554  ,  0.12066  , -0.38944  , -0.39128  ,  0.49954  ,\n",
       "       -0.54696  , -0.23048  ,  0.47427  ,  0.78073  ,  0.086138 ,\n",
       "        0.84353  ,  0.18228  ,  0.26829  ,  0.23198  , -0.0076146,\n",
       "       -0.83728  , -0.16082  , -0.53944  ,  1.1601   , -0.065291 ,\n",
       "       -0.70225  , -0.30518  ,  0.48634  ,  0.057692 , -0.22734  ,\n",
       "       -0.64251  , -0.82922  ,  0.50171  , -0.32452  , -0.67953  ,\n",
       "       -0.63644  ,  0.41271  , -0.46651  , -0.20847  ,  0.16849  ,\n",
       "        0.42793  , -0.033401 ,  0.49286  ,  0.012219 , -0.77283  ,\n",
       "        0.10127  ,  0.60314  , -0.19819  ,  0.22249  ,  0.77373  ,\n",
       "       -0.069556 ,  0.3294   ,  0.43632  , -0.27309  , -0.019852 ,\n",
       "       -0.12516  ,  0.7584   , -0.63595  ,  0.7053   , -0.68394  ,\n",
       "       -0.63984  ,  1.4527   , -0.092846 ,  0.28431  , -0.49903  ,\n",
       "       -0.176    , -0.70636  , -0.52611  , -0.1999   ,  0.11877  ,\n",
       "       -0.25693  ,  0.042954 , -0.21     ,  0.03844  ,  0.26277  ,\n",
       "       -0.2167   , -0.046732 , -0.17483  ,  0.28004  , -0.076094 ,\n",
       "       -0.26876  ,  0.2606   ,  0.35995  ,  0.01415  ,  0.63069  ,\n",
       "       -0.72449  ,  1.1246   , -0.23858  ,  0.29002  , -0.37312  ,\n",
       "        0.0057382,  0.2994   , -0.45871  ,  0.54695  ,  0.52638  ,\n",
       "        0.047677 ,  0.35238  ,  0.079115 ,  0.008086 ,  0.07942  ,\n",
       "        0.14933  , -0.050384 ,  0.10073  ,  0.18602  ,  0.26118  ,\n",
       "        0.75051  , -0.52408  , -1.3285   ,  0.27911  ,  0.34871  ,\n",
       "        0.13082  , -0.21767  ,  0.38496  ,  0.30539  ,  0.34169  ,\n",
       "       -0.74524  , -0.021518 ,  0.13421  , -0.4757   , -0.52588  ,\n",
       "       -0.57126  ,  0.36808  , -0.15806  ,  0.3264   ,  0.17701  ,\n",
       "        0.18068  , -0.31327  ,  0.14154  , -0.462    ,  0.10841  ,\n",
       "        0.2614   ,  0.45517  ,  0.36075  ,  0.37741  ,  0.20888  ,\n",
       "        0.34526  , -0.8236   ,  0.90863  ,  0.77989  ,  0.2071   ,\n",
       "        0.596    ,  0.8946   ,  0.014703 ,  0.15536  ,  0.15976  ,\n",
       "       -0.74244  , -0.56368  , -0.40639  ,  0.37402  , -0.7583   ],\n",
       "      dtype=float32)"
      ]
     },
     "execution_count": 27,
     "metadata": {},
     "output_type": "execute_result"
    }
   ],
   "source": [
    "# Take a look at one:\n",
    "words_embeddings['coronavirus']"
   ]
  },
  {
   "cell_type": "code",
   "execution_count": null,
   "metadata": {},
   "outputs": [],
   "source": []
  },
  {
   "cell_type": "markdown",
   "metadata": {},
   "source": [
    "### Cluster emerging words according to their semantic (embeddings) representation"
   ]
  },
  {
   "cell_type": "markdown",
   "metadata": {},
   "source": [
    "### PCA"
   ]
  },
  {
   "cell_type": "markdown",
   "metadata": {},
   "source": [
    "We will use PCA (Principal Component Analysis) to visualise the data in a 2-dimensional space and see how the emrging words cluster."
   ]
  },
  {
   "cell_type": "code",
   "execution_count": 28,
   "metadata": {},
   "outputs": [],
   "source": [
    "# settings\n",
    "from sklearn.decomposition import PCA\n",
    "import matplotlib.pyplot as plt"
   ]
  },
  {
   "cell_type": "code",
   "execution_count": 29,
   "metadata": {},
   "outputs": [],
   "source": [
    "# fit a 2d PCA model to the vectors\n",
    "X = w2v_embeddings[[word for word in emerging_words if word in w2v_embeddings.vocab]]\n",
    "pca = PCA(n_components=2)\n",
    "result = pca.fit_transform(X)"
   ]
  },
  {
   "cell_type": "code",
   "execution_count": 30,
   "metadata": {
    "scrolled": true
   },
   "outputs": [
    {
     "data": {
      "image/png": "[encoded data removed]",
      "text/plain": [
       "<Figure size 432x288 with 1 Axes>"
      ]
     },
     "metadata": {
      "needs_background": "light"
     },
     "output_type": "display_data"
    }
   ],
   "source": [
    "# create a scatter plot of the projection\n",
    "plt.scatter(result[:, 0], result[:, 1])\n",
    "words = [word for word in emerging_words if word in w2v_embeddings.vocab]\n",
    "for i, word in enumerate(words):\n",
    "\tplt.annotate(word, xy=(result[i, 0], result[i, 1]))\n",
    "plt.show()"
   ]
  },
  {
   "cell_type": "markdown",
   "metadata": {},
   "source": [
    "Not easy to see clear groupings for most words with only two dimensions."
   ]
  },
  {
   "cell_type": "code",
   "execution_count": null,
   "metadata": {},
   "outputs": [],
   "source": []
  },
  {
   "cell_type": "markdown",
   "metadata": {},
   "source": [
    "### K-means"
   ]
  },
  {
   "cell_type": "markdown",
   "metadata": {},
   "source": [
    "Let's determines the optimal number of clusters using the elbow method.\n",
    "\n",
    "This works iteratively by selecting a random coordinate of the cluster center and assign the data points to a cluster. It then calculates the distance of each data point (word embeddings) from the centroid of the closest cluster using either Euclidean or Cosine distance and based on this, it updates the datapoint positions as well as the cluster centers. Within cluster sum of squares (WCSS) is the metric that captured the overall distance of the individual points from the centroid of their closest cluster (the metric that the k-means algorithm is set to minimise). \n",
    "\n",
    "The point on the graph where a ‘hinge’ or 'elbow' occurs is considered to be the optimal value of k. "
   ]
  },
  {
   "cell_type": "code",
   "execution_count": 31,
   "metadata": {},
   "outputs": [],
   "source": [
    "from sklearn.cluster import KMeans\n",
    "from nltk.cluster import KMeansClusterer\n",
    "from nltk.cluster.util import cosine_distance"
   ]
  },
  {
   "cell_type": "code",
   "execution_count": 32,
   "metadata": {},
   "outputs": [],
   "source": [
    "X = w2v_embeddings[[word for word in emerging_words if word in w2v_embeddings.vocab]]"
   ]
  },
  {
   "cell_type": "code",
   "execution_count": 33,
   "metadata": {},
   "outputs": [
    {
     "data": {
      "text/plain": [
       "31"
      ]
     },
     "execution_count": 33,
     "metadata": {},
     "output_type": "execute_result"
    }
   ],
   "source": [
    "len(X)"
   ]
  },
  {
   "cell_type": "code",
   "execution_count": 34,
   "metadata": {},
   "outputs": [
    {
     "data": {
      "text/plain": [
       "200"
      ]
     },
     "execution_count": 34,
     "metadata": {},
     "output_type": "execute_result"
    }
   ],
   "source": [
    "len(X[0])"
   ]
  },
  {
   "cell_type": "markdown",
   "metadata": {},
   "source": [
    "Using Euclidean distance"
   ]
  },
  {
   "cell_type": "code",
   "execution_count": 35,
   "metadata": {},
   "outputs": [],
   "source": [
    "wcss = []\n",
    "for i in range(1,11):\n",
    "    kmeans = KMeans(n_clusters=i, init=\"k-means++\", random_state=11)\n",
    "    kmeans.fit(X)\n",
    "    wcss.append(kmeans.inertia_)\n",
    "    "
   ]
  },
  {
   "cell_type": "code",
   "execution_count": 36,
   "metadata": {},
   "outputs": [
    {
     "data": {
      "image/png": "[encoded data removed]",
      "text/plain": [
       "<Figure size 432x288 with 1 Axes>"
      ]
     },
     "metadata": {
      "needs_background": "light"
     },
     "output_type": "display_data"
    }
   ],
   "source": [
    "plt.plot(range(1,11), wcss)\n",
    "plt.title(\"K-means: elbow method\")\n",
    "plt.xlabel(\"Number of clusters\")\n",
    "plt.ylabel(\"WCSS\")\n",
    "plt.show()"
   ]
  },
  {
   "cell_type": "markdown",
   "metadata": {},
   "source": [
    "Let's calculate the squared of sum distances using cosine distance instead: \n",
    "\n",
    "https://docs.scipy.org/doc/scipy/reference/generated/scipy.spatial.distance.cosine.html"
   ]
  },
  {
   "cell_type": "code",
   "execution_count": 37,
   "metadata": {},
   "outputs": [],
   "source": [
    "from scipy.spatial.distance import cosine, euclidean"
   ]
  },
  {
   "cell_type": "code",
   "execution_count": 38,
   "metadata": {},
   "outputs": [
    {
     "name": "stdout",
     "output_type": "stream",
     "text": [
      "sums for k=1: 4.585954420762608\n",
      "sums for k=2: 3.6584673878938503\n",
      "sums for k=3: 3.1930030907433284\n",
      "sums for k=4: 2.9467019148106743\n",
      "sums for k=5: 1.9320622174578226\n",
      "sums for k=6: 2.135093335780848\n",
      "sums for k=7: 1.795385663334386\n",
      "sums for k=8: 1.419772639786526\n",
      "sums for k=9: 1.2461507411478756\n"
     ]
    }
   ],
   "source": [
    "wcss = []\n",
    "for k in range(1,10):\n",
    "    kclusterer = KMeansClusterer(k, distance=cosine_distance)\n",
    "    assigned_clusters = kclusterer.cluster(X, assign_clusters=True)\n",
    "\n",
    "    centroids = kclusterer.means()\n",
    "    \n",
    "    distances_ = []\n",
    "    for index_of_word in range(0, X.shape[0]):\n",
    "        index_of_cluster = assigned_clusters[index_of_word]   # get cluster the word was assigned to\n",
    "        # squared_distance_from_centroid = (euclidean(X[index_of_word], centroids[index_of_cluster]))**2  # Euclidean distance\n",
    "        squared_distance_from_centroid = (cosine(X[index_of_word], centroids[index_of_cluster]))**2   # Cosine distance\n",
    "        distances_.append(squared_distance_from_centroid) \n",
    "    print(f\"sums for k={k}: {np.sum(distances_)}\")\n",
    "    wcss.append(np.sum(distances_))"
   ]
  },
  {
   "cell_type": "code",
   "execution_count": 39,
   "metadata": {},
   "outputs": [
    {
     "data": {
      "image/png": "[encoded data removed]",
      "text/plain": [
       "<Figure size 432x288 with 1 Axes>"
      ]
     },
     "metadata": {
      "needs_background": "light"
     },
     "output_type": "display_data"
    }
   ],
   "source": [
    "plt.plot(range(1,10), wcss)\n",
    "plt.title(\"K-means: elbow method\")\n",
    "plt.xlabel(\"Number of clusters\")\n",
    "plt.ylabel(\"WCSS\")\n",
    "plt.show()"
   ]
  },
  {
   "cell_type": "code",
   "execution_count": null,
   "metadata": {},
   "outputs": [],
   "source": []
  },
  {
   "cell_type": "markdown",
   "metadata": {},
   "source": [
    "Let's follow the distance metric based on cosine similairty and go for 6 clusters."
   ]
  },
  {
   "cell_type": "code",
   "execution_count": 40,
   "metadata": {},
   "outputs": [],
   "source": [
    "n_clusters = 4"
   ]
  },
  {
   "cell_type": "code",
   "execution_count": 41,
   "metadata": {},
   "outputs": [],
   "source": [
    "kclusterer = KMeansClusterer(n_clusters,  distance=cosine_distance, repeats=300, avoid_empty_clusters=True)"
   ]
  },
  {
   "cell_type": "code",
   "execution_count": 42,
   "metadata": {},
   "outputs": [
    {
     "data": {
      "text/plain": [
       "array([[-0.3536   ,  0.39377  ,  0.1037   , ..., -0.16194  ,  0.1996   ,\n",
       "        -0.32329  ],\n",
       "       [-0.066138 ,  0.48505  ,  0.51323  , ...,  0.13853  , -0.18898  ,\n",
       "        -0.21104  ],\n",
       "       [ 0.36402  ,  0.46335  ,  0.6096   , ..., -0.40639  ,  0.37402  ,\n",
       "        -0.7583   ],\n",
       "       ...,\n",
       "       [-0.27856  ,  0.47817  ,  0.57392  , ...,  0.33183  , -0.34706  ,\n",
       "        -0.53332  ],\n",
       "       [-0.21527  ,  0.34888  ,  0.42673  , ...,  0.020172 , -0.20383  ,\n",
       "        -0.81145  ],\n",
       "       [ 0.1122   , -0.098252 , -0.25445  , ...,  0.084485 , -0.0071172,\n",
       "        -0.36874  ]], dtype=float32)"
      ]
     },
     "execution_count": 42,
     "metadata": {},
     "output_type": "execute_result"
    }
   ],
   "source": [
    "X"
   ]
  },
  {
   "cell_type": "code",
   "execution_count": 43,
   "metadata": {},
   "outputs": [],
   "source": [
    "assigned_clusters = kclusterer.cluster(X, assign_clusters=True)"
   ]
  },
  {
   "cell_type": "code",
   "execution_count": 44,
   "metadata": {},
   "outputs": [],
   "source": [
    "words = [word for word in emerging_words if word in w2v_embeddings.vocab]\n",
    "\n",
    "word_clusters = {word: assigned_clusters[i] for i, word in enumerate(words)}"
   ]
  },
  {
   "cell_type": "code",
   "execution_count": 45,
   "metadata": {},
   "outputs": [],
   "source": [
    "word_clusters_df = pd.Series(word_clusters, name=\"cluster\")"
   ]
  },
  {
   "cell_type": "code",
   "execution_count": 46,
   "metadata": {},
   "outputs": [],
   "source": [
    "word_clusters_df = word_clusters_df.reset_index()"
   ]
  },
  {
   "cell_type": "code",
   "execution_count": 47,
   "metadata": {},
   "outputs": [],
   "source": [
    "word_clusters_df.rename(columns={\"index\": \"word\"}, inplace=True)"
   ]
  },
  {
   "cell_type": "code",
   "execution_count": 48,
   "metadata": {},
   "outputs": [
    {
     "data": {
      "text/html": [
       "<div>\n",
       "<style scoped>\n",
       "    .dataframe tbody tr th:only-of-type {\n",
       "        vertical-align: middle;\n",
       "    }\n",
       "\n",
       "    .dataframe tbody tr th {\n",
       "        vertical-align: top;\n",
       "    }\n",
       "\n",
       "    .dataframe thead th {\n",
       "        text-align: right;\n",
       "    }\n",
       "</style>\n",
       "<table border=\"1\" class=\"dataframe\">\n",
       "  <thead>\n",
       "    <tr style=\"text-align: right;\">\n",
       "      <th></th>\n",
       "      <th>word</th>\n",
       "    </tr>\n",
       "    <tr>\n",
       "      <th>cluster</th>\n",
       "      <th></th>\n",
       "    </tr>\n",
       "  </thead>\n",
       "  <tbody>\n",
       "    <tr>\n",
       "      <th>0</th>\n",
       "      <td>[government, health, lockdown, ministers, crisis, distancing, deaths, restrictions, public]</td>\n",
       "    </tr>\n",
       "    <tr>\n",
       "      <th>1</th>\n",
       "      <td>[measures, advice, cases, risk, experts, evidence, disease, data, strategy, response]</td>\n",
       "    </tr>\n",
       "    <tr>\n",
       "      <th>2</th>\n",
       "      <td>[johnson, sage, minister, professor, uk, scientists, cummings, england]</td>\n",
       "    </tr>\n",
       "    <tr>\n",
       "      <th>3</th>\n",
       "      <td>[coronavirus, virus, pandemic]</td>\n",
       "    </tr>\n",
       "  </tbody>\n",
       "</table>\n",
       "</div>"
      ],
      "text/plain": [
       "                                                                                                word\n",
       "cluster                                                                                             \n",
       "0        [government, health, lockdown, ministers, crisis, distancing, deaths, restrictions, public]\n",
       "1              [measures, advice, cases, risk, experts, evidence, disease, data, strategy, response]\n",
       "2                            [johnson, sage, minister, professor, uk, scientists, cummings, england]\n",
       "3                                                                     [coronavirus, virus, pandemic]"
      ]
     },
     "execution_count": 48,
     "metadata": {},
     "output_type": "execute_result"
    }
   ],
   "source": [
    "pd.DataFrame(word_clusters_df.groupby(\"cluster\").word.apply(list))"
   ]
  },
  {
   "cell_type": "code",
   "execution_count": null,
   "metadata": {},
   "outputs": [],
   "source": []
  },
  {
   "cell_type": "code",
   "execution_count": null,
   "metadata": {},
   "outputs": [],
   "source": []
  },
  {
   "cell_type": "code",
   "execution_count": null,
   "metadata": {},
   "outputs": [],
   "source": []
  }
 ],
 "metadata": {
  "kernelspec": {
   "display_name": "Python 3.8.1 64-bit ('venv': venv)",
   "language": "python",
   "name": "python38164bitvenvvenvdde169c8e66848db85d258e4e769d548"
  },
  "language_info": {
   "codemirror_mode": {
    "name": "ipython",
    "version": 3
   },
   "file_extension": ".py",
   "mimetype": "text/x-python",
   "name": "python",
   "nbconvert_exporter": "python",
   "pygments_lexer": "ipython3",
   "version": "3.8.1"
  }
 },
 "nbformat": 4,
 "nbformat_minor": 4
}
