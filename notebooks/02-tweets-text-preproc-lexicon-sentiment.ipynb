{
 "cells": [
  {
   "cell_type": "markdown",
   "metadata": {},
   "source": [
    "# Lexicon-based sentiment analysis of tweets: using VADER and TextBlob"
   ]
  },
  {
   "cell_type": "markdown",
   "metadata": {},
   "source": [
    "Calculate the sentiment score of the tweets using lexicon-based models VADER and TextBlob. Both are constructed from a generalizable, valence-based, human-curated gold standard sentiment lexicon."
   ]
  },
  {
   "cell_type": "markdown",
   "metadata": {},
   "source": [
    "## Set up"
   ]
  },
  {
   "cell_type": "code",
   "execution_count": 1,
   "metadata": {},
   "outputs": [],
   "source": [
    "import os\n",
    "import re\n",
    "import string\n",
    "import pandas as pd\n",
    "import numpy as np\n",
    "\n",
    "from emot.emo_unicode import UNICODE_EMO, EMOTICONS"
   ]
  },
  {
   "cell_type": "code",
   "execution_count": 2,
   "metadata": {},
   "outputs": [
    {
     "name": "stdout",
     "output_type": "stream",
     "text": [
      "/Users/alessiatosi/DS_projects/behavioural-sci-perception/venv/bin/python\n",
      "3.8.1 (default, Apr  8 2020, 10:42:19) \n",
      "[Clang 11.0.0 (clang-1100.0.33.17)]\n",
      "sys.version_info(major=3, minor=8, micro=1, releaselevel='final', serial=0)\n"
     ]
    }
   ],
   "source": [
    "import sys\n",
    "print(sys.executable)\n",
    "print(sys.version)\n",
    "print(sys.version_info)"
   ]
  },
  {
   "cell_type": "code",
   "execution_count": 3,
   "metadata": {},
   "outputs": [],
   "source": [
    "%load_ext autoreload\n",
    "from src.preproc_text import *\n",
    "from src.utils import chain_functions\n",
    "from src.analyse_text import get_sentiment_score_VDR, get_sentiment_score_TB"
   ]
  },
  {
   "cell_type": "code",
   "execution_count": 4,
   "metadata": {},
   "outputs": [],
   "source": [
    "%reload_ext autoreload"
   ]
  },
  {
   "cell_type": "code",
   "execution_count": 5,
   "metadata": {},
   "outputs": [
    {
     "data": {
      "text/plain": [
       "'/Users/alessiatosi/DS_projects/behavioural-sci-perception/notebooks'"
      ]
     },
     "execution_count": 5,
     "metadata": {},
     "output_type": "execute_result"
    }
   ],
   "source": [
    "os.getcwd()"
   ]
  },
  {
   "cell_type": "code",
   "execution_count": 6,
   "metadata": {},
   "outputs": [],
   "source": [
    "pd.options.display.max_seq_items = 10000\n",
    "pd.set_option('display.max_colwidth', None)\n",
    "pd.set_option('display.max_rows', None)\n",
    "pd.set_option('display.width', None)"
   ]
  },
  {
   "cell_type": "markdown",
   "metadata": {},
   "source": [
    "Environment variables and constants"
   ]
  },
  {
   "cell_type": "code",
   "execution_count": 7,
   "metadata": {},
   "outputs": [],
   "source": [
    "DATA_DIR = os.environ.get(\"DIR_DATA_INTERIM\")"
   ]
  },
  {
   "cell_type": "code",
   "execution_count": 8,
   "metadata": {},
   "outputs": [],
   "source": [
    "FILENAME = \"tweets_original_en\""
   ]
  },
  {
   "cell_type": "markdown",
   "metadata": {},
   "source": [
    "### Define domain-specific stopwords"
   ]
  },
  {
   "cell_type": "markdown",
   "metadata": {},
   "source": [
    "Sentiment requires context. \n",
    "\n",
    "When implementing an easy approach to sentiment analysis, you just have to kind of hope that you can ignore context and the sentiments will average out to the right trend.\n",
    "\n",
    "However, we can take context into account by excluding those terms that are sentiment-loaded but that in the covid-19 context are so common to be \"neutral\" (e.g., crisis, virus, pandemic). \n"
   ]
  },
  {
   "cell_type": "code",
   "execution_count": 9,
   "metadata": {},
   "outputs": [],
   "source": [
    "EXTRA_STOPWORDS = [\"coronavirus\", \"covid\", \"covid19\", \"covid-\", \"covid-19\" \"’s\", \"link\", \"dominic\", \"cummings\", \"boris\", \"johnson\", \n",
    "                   \"dr\", \"david\", \"halpern\", \"susan\", \"michie\", \"richard\", \"amlot\", \"thaler\", \"cass\", \"sunstein\", \n",
    "                   \"daniel\", \"kahneman\", \n",
    "                   \"d-\", \"th\", \"january\", \"february\", \"march\", \"april\", \"may\", \"june\", \"july\", \"august\", \"september\", \n",
    "                   \"october\", \"november\", \"december\", \"corona\", \"virus\", \"wd\", \"&amp;\", \"article\", \"here\", \"%\", \"'s\",\n",
    "                  \"'ve'\", '&', 'amp', \"'re\", \"via\", \"hoe\", \"'ve\",\n",
    "                  \"crisis\", \"pandemic\", \"epidemic\"]"
   ]
  },
  {
   "cell_type": "markdown",
   "metadata": {},
   "source": [
    "## Get Data"
   ]
  },
  {
   "cell_type": "code",
   "execution_count": 10,
   "metadata": {},
   "outputs": [],
   "source": [
    "tweets_df = pd.read_csv(os.path.join(DATA_DIR, FILENAME + '.csv'))"
   ]
  },
  {
   "cell_type": "code",
   "execution_count": 11,
   "metadata": {},
   "outputs": [
    {
     "data": {
      "text/plain": [
       "(4224, 18)"
      ]
     },
     "execution_count": 11,
     "metadata": {},
     "output_type": "execute_result"
    }
   ],
   "source": [
    "tweets_df.shape"
   ]
  },
  {
   "cell_type": "markdown",
   "metadata": {},
   "source": [
    "# Text preprocessing"
   ]
  },
  {
   "cell_type": "code",
   "execution_count": 12,
   "metadata": {},
   "outputs": [
    {
     "data": {
      "text/plain": [
       "0                                                             As covid-19 sweeps the world, shoppers forced to change purchase behaviour.\\n#coronavirus #consumer #behaviorchange #restaurants #theatre #automobile #health #finance #COVID19 #CoronaVirusUpdate \\nLink: https://t.co/402gGrrCAA https://t.co/WUsB26ingV\n",
       "1                                                          They live on a different planet....\\n\\n#COVID19 #Coronavirus #ToriesOut #PoliceState #PoliceStateUK #MassSurveillance\\n#BehavioralScience #behavioraleconomics #NWO #RevolutionNow #Censorship #Stasi #endthelockdown #NoVaccineForMe https://t.co/wyPcvRkL1C\n",
       "2                                                                                                   Ask leaders to make #BehavioralScience core #education RT @BriefcaseTweets: Behavioural Design to keep safe distance \\n\\n#coronavirus #COVIDー19 #socialdistancing #behavioralscience #nudge… https://t.co/OpraxDeqxb\n",
       "3                                                                                                  Ask leaders to make #BehavioralScience core #education RT @pikachanyan: RT @DavidIHodgson: #COVID19 #Coronavirus #ToriesOut #PoliceState #PoliceStateUK #MassSurveillance\\n#BehavioralScience #behavioraleconomics #…\n",
       "4                                                                       Wake up world. You're being conned. Switch off #MSM &amp; start thinking for yourselves.\\n\\n#COVID19 #Coronavirus #ToriesOut #PoliceState #PoliceStateUK #MassSurveillance\\n#BehavioralScience #behavioraleconomics #NWO https://t.co/1yOWt77vIE\n",
       "5    I have been critical re the behavioural science &amp; public communication strategies but also willing to help and contribute, signed up below to help the government crowdsource expertise. It's on all aspects of the #COVID19 pandemic so scientists of all stripes do consider joining! https://t.co/bal8v0DFXv\n",
       "6                     @BBCNews @itvnews @piersmorgan @GMB \\n\\nAny chance of a mention for the sake of balance?\\n\\n#COVID19 #Coronavirus #ToriesOut #PoliceState #PoliceStateUK #MassSurveillance\\n#BehavioralScience #behavioraleconomics #NWO #RevolutionNow #Censorship #Stasi #endthelockdown https://t.co/Nz0MyGl1gS\n",
       "7                                                                                                   Ask leaders to make #BehavioralScience core #education RT @DavidIHodgson: @BBCNews @itvnews @piersmorgan @GMB \\n\\nAny chance of a mention for the sake of balance?\\n\\n#COVID19 #Coronavirus… https://t.co/kVtcI3OyeQ\n",
       "8                                            @BBCNews @itvnews @piersmorgan @GMB \\n\\nAny chance of a mention for the sake of balance?\\n\\n#COVID19 #Coronavirus #ToriesOut #PoliceState #PoliceStateUK #MassSurveillance\\n#BehavioralScience #behavioraleconomics #NWO #RevolutionNow #Censorship https://t.co/HDqdJQES7T\n",
       "9                                                                                                              The importance of Integrating hygiene behaviour change into routine immunisation programme is more important then ever in this COVID19 pandemic! #WASH #Vaccine #COVID19 #Hygiene https://t.co/uPrwSsBJWv\n",
       "Name: text, dtype: object"
      ]
     },
     "execution_count": 12,
     "metadata": {},
     "output_type": "execute_result"
    }
   ],
   "source": [
    "tweets_df.text.head(10)"
   ]
  },
  {
   "cell_type": "markdown",
   "metadata": {},
   "source": [
    "## Are there still duplicates?"
   ]
  },
  {
   "cell_type": "markdown",
   "metadata": {},
   "source": [
    "Looks like there are still duplicates in the dataset that we need to get rid of. Consider re-teweet counts when doing do."
   ]
  },
  {
   "cell_type": "code",
   "execution_count": 13,
   "metadata": {},
   "outputs": [
    {
     "name": "stdout",
     "output_type": "stream",
     "text": [
      "      favorite_count  retweet_count  \\\n",
      "120                0              0   \n",
      "322                0              0   \n",
      "512                0              0   \n",
      "524                0              0   \n",
      "531                0              0   \n",
      "559                0              0   \n",
      "633                0              0   \n",
      "655                0              0   \n",
      "685                0              0   \n",
      "794                0              0   \n",
      "821                0              0   \n",
      "912                0              0   \n",
      "1099               0              0   \n",
      "1123               0              0   \n",
      "1314               0              0   \n",
      "1421               0              0   \n",
      "1476               0              0   \n",
      "1564               0              0   \n",
      "1609               0              0   \n",
      "1619               0              0   \n",
      "1699               0              0   \n",
      "1733               2              0   \n",
      "1783               3              0   \n",
      "1985               0              0   \n",
      "1997               0              0   \n",
      "2112               1              0   \n",
      "2116               0              0   \n",
      "2189               0              1   \n",
      "2226               0              0   \n",
      "2354               0              0   \n",
      "2359               0              0   \n",
      "2442               0              0   \n",
      "2448               0              0   \n",
      "2472               0              0   \n",
      "2547               0              0   \n",
      "2646               0              0   \n",
      "2708               1              1   \n",
      "2794               0              0   \n",
      "2887               0              0   \n",
      "2912               0              0   \n",
      "3001               0              0   \n",
      "3063               0              0   \n",
      "3192               0              0   \n",
      "3429               0              0   \n",
      "3493               0              0   \n",
      "3564               0              0   \n",
      "3608               0              0   \n",
      "3617               0              0   \n",
      "3634               7              2   \n",
      "3652            2853            584   \n",
      "3705               0              0   \n",
      "3779               0              0   \n",
      "3837               0              0   \n",
      "3844               0              0   \n",
      "3876               0              0   \n",
      "3946               0              0   \n",
      "3958               8              2   \n",
      "3990               0              0   \n",
      "4166               1              0   \n",
      "\n",
      "                                                                                                                                                                                                                                                                                                      text  \n",
      "120                                                                              Ask leaders to make #BehavioralScience core #education RT @JustBeMentalist: RT @DavidIHodgson: #COVID19 #Coronavirus #ToriesOut #PoliceState #PoliceStateUK #MassSurveillance\\n#BehavioralScience #behavioraleconomics #…  \n",
      "322                                                                               Ask leaders to make #BehavioralScience core #education RT @ScalarHumanity: RT @DavidIHodgson: #COVID19 #Coronavirus #ToriesOut #PoliceState #PoliceStateUK #MassSurveillance\\n#BehavioralScience #behavioraleconomics #…  \n",
      "512                                                                                                                                                                                                                                                                   Last few.... https://t.co/vE3IiOnZd7  \n",
      "524                                                                               Ask leaders to make #BehavioralScience core #education RT @ScalarHumanity: RT @DavidIHodgson: #COVID19 #Coronavirus #ToriesOut #PoliceState #PoliceStateUK #MassSurveillance\\n#BehavioralScience #behavioraleconomics #…  \n",
      "531                                                                              Ask leaders to make #BehavioralScience core #education RT @JustBeMentalist: RT @DavidIHodgson: #COVID19 #Coronavirus #ToriesOut #PoliceState #PoliceStateUK #MassSurveillance\\n#BehavioralScience #behavioraleconomics #…  \n",
      "559                                                                              Ask leaders to make #BehavioralScience core #education RT @JustBeMentalist: RT @DavidIHodgson: #COVID19 #Coronavirus #ToriesOut #PoliceState #PoliceStateUK #MassSurveillance\\n#BehavioralScience #behavioraleconomics #…  \n",
      "633                                                                               Ask leaders to make #BehavioralScience core #education RT @ScalarHumanity: RT @DavidIHodgson: #COVID19 #Coronavirus #ToriesOut #PoliceState #PoliceStateUK #MassSurveillance\\n#BehavioralScience #behavioraleconomics #…  \n",
      "655                                                                              Ask leaders to make #BehavioralScience core #education RT @JustBeMentalist: RT @DavidIHodgson: #COVID19 #Coronavirus #ToriesOut #PoliceState #PoliceStateUK #MassSurveillance\\n#BehavioralScience #behavioraleconomics #…  \n",
      "685                                                                              Ask leaders to make #BehavioralScience core #education RT @JustBeMentalist: RT @DavidIHodgson: #COVID19 #Coronavirus #ToriesOut #PoliceState #PoliceStateUK #MassSurveillance\\n#BehavioralScience #behavioraleconomics #…  \n",
      "794                                                                              Ask leaders to make #BehavioralScience core #education RT @JustBeMentalist: RT @DavidIHodgson: #COVID19 #Coronavirus #ToriesOut #PoliceState #PoliceStateUK #MassSurveillance\\n#BehavioralScience #behavioraleconomics #…  \n",
      "821                                                                               Ask leaders to make #BehavioralScience core #education RT @JustBeMentalist: RT @DavidIHodgson: #COVID19 #Coronavirus #ToriesOut #PoliceState #PoliceStateUK #MassSurveillance #BehavioralScience #behavioraleconomics #…  \n",
      "912                                                                              Ask leaders to make #BehavioralScience core #education RT @JustBeMentalist: RT @DavidIHodgson: #COVID19 #Coronavirus #ToriesOut #PoliceState #PoliceStateUK #MassSurveillance\\n#BehavioralScience #behavioraleconomics #…  \n",
      "1099                                                                             Ask leaders to make #BehavioralScience core #education RT @JustBeMentalist: RT @DavidIHodgson: #COVID19 #Coronavirus #ToriesOut #PoliceState #PoliceStateUK #MassSurveillance\\n#BehavioralScience #behavioraleconomics #…  \n",
      "1123                                                                             Ask leaders to make #BehavioralScience core #education RT @JustBeMentalist: RT @DavidIHodgson: #COVID19 #Coronavirus #ToriesOut #PoliceState #PoliceStateUK #MassSurveillance\\n#BehavioralScience #behavioraleconomics #…  \n",
      "1314                                                                                                                                                 Using Behavioral Science to Control Exposure to #COVID19 and more on @FoodSafetyTech https://t.co/TSIbkWXXMx #FDA #FSMA #foodfraud #womeninfoodsafety  \n",
      "1421                                                                             Ask leaders to make #BehavioralScience core #education RT @JustBeMentalist: RT @DavidIHodgson: #COVID19 #Coronavirus #ToriesOut #PoliceState #PoliceStateUK #MassSurveillance\\n#BehavioralScience #behavioraleconomics #…  \n",
      "1476                                                                             Ask leaders to make #BehavioralScience core #education RT @JustBeMentalist: RT @DavidIHodgson: #COVID19 #Coronavirus #ToriesOut #PoliceState #PoliceStateUK #MassSurveillance\\n#BehavioralScience #behavioraleconomics #…  \n",
      "1564                                                                             Ask leaders to make #BehavioralScience core #education RT @JustBeMentalist: RT @DavidIHodgson: #COVID19 #Coronavirus #ToriesOut #PoliceState #PoliceStateUK #MassSurveillance\\n#BehavioralScience #behavioraleconomics #…  \n",
      "1609                                                                              Ask leaders to make #BehavioralScience core #education RT @ScalarHumanity: RT @DavidIHodgson: #COVID19 #Coronavirus #ToriesOut #PoliceState #PoliceStateUK #MassSurveillance\\n#BehavioralScience #behavioraleconomics #…  \n",
      "1619                                                                              Ask leaders to make #BehavioralScience core #education RT @ScalarHumanity: RT @DavidIHodgson: #COVID19 #Coronavirus #ToriesOut #PoliceState #PoliceStateUK #MassSurveillance\\n#BehavioralScience #behavioraleconomics #…  \n",
      "1699                                                                              Ask leaders to make #BehavioralScience core #education RT @ScalarHumanity: RT @DavidIHodgson: #COVID19 #Coronavirus #ToriesOut #PoliceState #PoliceStateUK #MassSurveillance\\n#BehavioralScience #behavioraleconomics #…  \n",
      "1733                                                                                                                                                 Using Behavioral Science to Control Exposure to #COVID19 and more on @FoodSafetyTech https://t.co/TSIbkWXXMx #FDA #FSMA #foodfraud #womeninfoodsafety  \n",
      "1783  Do #COVID19 prev msgs – like wash your hands &amp; don’t touch your face – trigger &amp; sustain #behaviorchange? Success depends on how msgs are crafted &amp; how current evidence is applied. @fhi360research-er Julia Rosenbaum highlights evidence that is useful now:\\nhttps://t.co/K5YKziohnt  \n",
      "1985                                                                               Ask leaders to make #BehavioralScience core #education RT @ScalarHumanity: RT @DavidIHodgson: #COVID19 #Coronavirus #ToriesOut #PoliceState #PoliceStateUK #MassSurveillance #BehavioralScience #behavioraleconomics #…  \n",
      "1997                                                                             Ask leaders to make #BehavioralScience core #education RT @JustBeMentalist: RT @DavidIHodgson: #COVID19 #Coronavirus #ToriesOut #PoliceState #PoliceStateUK #MassSurveillance\\n#BehavioralScience #behavioraleconomics #…  \n",
      "2112                                                          What role has behavioural science played in the UK Government's response to the current pandemic? BB's Chris Rawcliffe and @cellohealth's Behavioural Science team share their insights https://t.co/ZGThUwtHr7 #Covid19  #behavioralscience  \n",
      "2116                                                                             Ask leaders to make #BehavioralScience core #education RT @JustBeMentalist: RT @DavidIHodgson: #COVID19 #Coronavirus #ToriesOut #PoliceState #PoliceStateUK #MassSurveillance\\n#BehavioralScience #behavioraleconomics #…  \n",
      "2189                                                                             Ask leaders to make #BehavioralScience core #education RT @JustBeMentalist: RT @DavidIHodgson: #COVID19 #Coronavirus #ToriesOut #PoliceState #PoliceStateUK #MassSurveillance\\n#BehavioralScience #behavioraleconomics #…  \n",
      "2226                                                                             Ask leaders to make #BehavioralScience core #education RT @JustBeMentalist: RT @DavidIHodgson: #COVID19 #Coronavirus #ToriesOut #PoliceState #PoliceStateUK #MassSurveillance\\n#BehavioralScience #behavioraleconomics #…  \n",
      "2354                                                                                                                                                                                                                                                                   Last few... https://t.co/vE3IiOnZd7  \n",
      "2359                                                                              Ask leaders to make #BehavioralScience core #education RT @ScalarHumanity: RT @DavidIHodgson: #COVID19 #Coronavirus #ToriesOut #PoliceState #PoliceStateUK #MassSurveillance\\n#BehavioralScience #behavioraleconomics #…  \n",
      "2442                                                                               Ask leaders to make #BehavioralScience core #education RT @DavidIHodgson: RT @DavidIHodgson: #COVID19 #Coronavirus #ToriesOut #PoliceState #PoliceStateUK #MassSurveillance\\n#BehavioralScience #behavioraleconomics #…  \n",
      "2448                                                                             Ask leaders to make #BehavioralScience core #education RT @JustBeMentalist: RT @DavidIHodgson: #COVID19 #Coronavirus #ToriesOut #PoliceState #PoliceStateUK #MassSurveillance\\n#BehavioralScience #behavioraleconomics #…  \n",
      "2472                                                                             Ask leaders to make #BehavioralScience core #education RT @JustBeMentalist: RT @DavidIHodgson: #COVID19 #Coronavirus #ToriesOut #PoliceState #PoliceStateUK #MassSurveillance\\n#BehavioralScience #behavioraleconomics #…  \n",
      "2547                                                                             Ask leaders to make #BehavioralScience core #education RT @JustBeMentalist: RT @DavidIHodgson: #COVID19 #Coronavirus #ToriesOut #PoliceState #PoliceStateUK #MassSurveillance\\n#BehavioralScience #behavioraleconomics #…  \n",
      "2646                                                                                                                                                 Using Behavioral Science to Control Exposure to #COVID19 and more on @FoodSafetyTech https://t.co/TSIbkXfyE5 #FDA #FSMA #foodfraud #womeninfoodsafety  \n",
      "2708                                                                             Ask leaders to make #BehavioralScience core #education RT @JustBeMentalist: RT @DavidIHodgson: #COVID19 #Coronavirus #ToriesOut #PoliceState #PoliceStateUK #MassSurveillance\\n#BehavioralScience #behavioraleconomics #…  \n",
      "2794                                                                              Ask leaders to make #BehavioralScience core #education RT @ScalarHumanity: RT @DavidIHodgson: #COVID19 #Coronavirus #ToriesOut #PoliceState #PoliceStateUK #MassSurveillance\\n#BehavioralScience #behavioraleconomics #…  \n",
      "2887                                                                                                                                                                                                                                                                  Last few.... https://t.co/vE3IiOnZd7  \n",
      "2912                                                                             Ask leaders to make #BehavioralScience core #education RT @JustBeMentalist: RT @DavidIHodgson: #COVID19 #Coronavirus #ToriesOut #PoliceState #PoliceStateUK #MassSurveillance\\n#BehavioralScience #behavioraleconomics #…  \n",
      "3001                                                                               Ask leaders to make #BehavioralScience core #education RT @DavidIHodgson: RT @DavidIHodgson: #COVID19 #Coronavirus #ToriesOut #PoliceState #PoliceStateUK #MassSurveillance\\n#BehavioralScience #behavioraleconomics #…  \n",
      "3063                                                                              Ask leaders to make #BehavioralScience core #education RT @JustBeMentalist: RT @DavidIHodgson: #COVID19 #Coronavirus #ToriesOut #PoliceState #PoliceStateUK #MassSurveillance #BehavioralScience #behavioraleconomics h…  \n",
      "3192                                                                             Ask leaders to make #BehavioralScience core #education RT @JustBeMentalist: RT @DavidIHodgson: #COVID19 #Coronavirus #ToriesOut #PoliceState #PoliceStateUK #MassSurveillance\\n#BehavioralScience #behavioraleconomics #…  \n",
      "3429                                                                             Ask leaders to make #BehavioralScience core #education RT @JustBeMentalist: RT @DavidIHodgson: #COVID19 #Coronavirus #ToriesOut #PoliceState #PoliceStateUK #MassSurveillance\\n#BehavioralScience #behavioraleconomics #…  \n",
      "3493                            bmj_latest: Human behaviour will determine how quickly covid-19 spreads, say SusanMichie DrRichardAmlot and robertjwest What needs to happen to ensure that people have the capability, opportunity and motivation to enact key behaviours #COVID19 #Coronavirus UCL_BSH …  \n",
      "3564                                                                                                                                                 Using Behavioral Science to Control Exposure to #COVID19 and more on @FoodSafetyTech https://t.co/TSIbkXfyE5 #FDA #FSMA #foodfraud #womeninfoodsafety  \n",
      "3608                                                                             Ask leaders to make #BehavioralScience core #education RT @JustBeMentalist: RT @DavidIHodgson: #COVID19 #Coronavirus #ToriesOut #PoliceState #PoliceStateUK #MassSurveillance\\n#BehavioralScience #behavioraleconomics #…  \n",
      "3617                                                                             Ask leaders to make #BehavioralScience core #education RT @JustBeMentalist: RT @DavidIHodgson: #COVID19 #Coronavirus #ToriesOut #PoliceState #PoliceStateUK #MassSurveillance\\n#BehavioralScience #behavioraleconomics #…  \n",
      "3634  Will #COVID19 prevention messaging trigger &amp; sustain #behaviorchange? Success depends on how a message is crafted &amp; how current evidence is applied. @fhi360's Julia Rosenbaum explores her fave existing evidence on fear-based messaging &amp; the use of nudges:\\nhttps://t.co/RXVzaKcpdk  \n",
      "3652                 We must address the aspect of a probable \"Response Fatigue\" to lockdown | #COVID19\\n\\nA society-level behavior change, even for a short period, can only succeed with the cooperation of the people. This is not something that coercion can achieve; but our collective efforts can.  \n",
      "3705                                                                                                                                                                                                                                                                    Ideas..... https://t.co/aDaZ9fZkQP  \n",
      "3779                                                                             Ask leaders to make #BehavioralScience core #education RT @JustBeMentalist: RT @DavidIHodgson: #COVID19 #Coronavirus #ToriesOut #PoliceState #PoliceStateUK #MassSurveillance\\n#BehavioralScience #behavioraleconomics #…  \n",
      "3837  Will #COVID19 prevention messaging trigger &amp; sustain #behaviorchange? Success depends on how a message is crafted &amp; how current evidence is applied. @fhi360's Julia Rosenbaum explores her fave existing evidence on fear-based messaging &amp; the use of nudges:\\nhttps://t.co/RXVzaKcpdk  \n",
      "3844                          Sign up for our #webinar which will consider how the nature of the #Covid19 crisis &amp; government interventions have successfully acted on all 3 x root drivers for behaviour change and how that can be applied to business change challenges ✍️💻 https://t.co/W2uchFnnMB  \n",
      "3876                                                                             Ask leaders to make #BehavioralScience core #education RT @JustBeMentalist: RT @DavidIHodgson: #COVID19 #Coronavirus #ToriesOut #PoliceState #PoliceStateUK #MassSurveillance\\n#BehavioralScience #behavioraleconomics #…  \n",
      "3946                                                                              Ask leaders to make #BehavioralScience core #education RT @ScalarHumanity: RT @DavidIHodgson: #COVID19 #Coronavirus #ToriesOut #PoliceState #PoliceStateUK #MassSurveillance\\n#BehavioralScience #behavioraleconomics #…  \n",
      "3958  Do #COVID19 prev msgs – like wash your hands &amp; don’t touch your face – trigger &amp; sustain #behaviorchange? Success depends on how msgs are crafted &amp; how current evidence is applied. @fhi360research-er Julia Rosenbaum highlights evidence that is useful now:\\nhttps://t.co/K5YKziFSM3  \n",
      "3990                                                                             Ask leaders to make #BehavioralScience core #education RT @JustBeMentalist: RT @DavidIHodgson: #COVID19 #Coronavirus #ToriesOut #PoliceState #PoliceStateUK #MassSurveillance\\n#BehavioralScience #behavioraleconomics #…  \n",
      "4166                                                                                                                                                 Using Behavioral Science to Control Exposure to #COVID19 and more on @FoodSafetyTech https://t.co/TSIbkXfyE5 #FDA #FSMA #foodfraud #womeninfoodsafety  \n"
     ]
    }
   ],
   "source": [
    "# Find a duplicate texts\n",
    "duplicate_tweets = tweets_df[tweets_df.duplicated(['text'])]\n",
    "print(duplicate_tweets[['favorite_count', 'retweet_count', 'text']])"
   ]
  },
  {
   "cell_type": "markdown",
   "metadata": {},
   "source": [
    "Apparently they are all duplicates of one single tweets.\n",
    "\n",
    "We will keep the one with the largest count of \"favourites\". "
   ]
  },
  {
   "cell_type": "code",
   "execution_count": 14,
   "metadata": {},
   "outputs": [
    {
     "data": {
      "text/plain": [
       "Int64Index([3652], dtype='int64')"
      ]
     },
     "execution_count": 14,
     "metadata": {},
     "output_type": "execute_result"
    }
   ],
   "source": [
    "duplicate_tweets[duplicate_tweets.favorite_count == max(duplicate_tweets.favorite_count)].index"
   ]
  },
  {
   "cell_type": "code",
   "execution_count": 15,
   "metadata": {},
   "outputs": [],
   "source": [
    "# get index\n",
    "duplicate_tweets_index = duplicate_tweets[duplicate_tweets.favorite_count != max(duplicate_tweets.favorite_count)].index"
   ]
  },
  {
   "cell_type": "code",
   "execution_count": 16,
   "metadata": {},
   "outputs": [],
   "source": [
    "tweets_df = tweets_df.drop(duplicate_tweets_index, axis=0).copy()"
   ]
  },
  {
   "cell_type": "code",
   "execution_count": 17,
   "metadata": {},
   "outputs": [
    {
     "data": {
      "text/plain": [
       "(4166, 18)"
      ]
     },
     "execution_count": 17,
     "metadata": {},
     "output_type": "execute_result"
    }
   ],
   "source": [
    "tweets_df.shape"
   ]
  },
  {
   "cell_type": "markdown",
   "metadata": {},
   "source": [
    "### Quick and dirty sentiment analysis without preprocessing the text"
   ]
  },
  {
   "cell_type": "code",
   "execution_count": 18,
   "metadata": {},
   "outputs": [],
   "source": [
    "tweets_df['quick_VDR_sentiment'] = [get_sentiment_score_VDR(tweet) for tweet in tweets_df.text]"
   ]
  },
  {
   "cell_type": "code",
   "execution_count": 19,
   "metadata": {},
   "outputs": [],
   "source": [
    "tweets_df['quick_TB_sentiment'] = [round(get_sentiment_score_TB(tweet),3) for tweet in tweets_df.text]"
   ]
  },
  {
   "cell_type": "code",
   "execution_count": 20,
   "metadata": {},
   "outputs": [
    {
     "data": {
      "text/html": [
       "<div>\n",
       "<style scoped>\n",
       "    .dataframe tbody tr th:only-of-type {\n",
       "        vertical-align: middle;\n",
       "    }\n",
       "\n",
       "    .dataframe tbody tr th {\n",
       "        vertical-align: top;\n",
       "    }\n",
       "\n",
       "    .dataframe thead th {\n",
       "        text-align: right;\n",
       "    }\n",
       "</style>\n",
       "<table border=\"1\" class=\"dataframe\">\n",
       "  <thead>\n",
       "    <tr style=\"text-align: right;\">\n",
       "      <th></th>\n",
       "      <th>text</th>\n",
       "      <th>quick_VDR_sentiment</th>\n",
       "      <th>quick_TB_sentiment</th>\n",
       "    </tr>\n",
       "  </thead>\n",
       "  <tbody>\n",
       "    <tr>\n",
       "      <th>0</th>\n",
       "      <td>As covid-19 sweeps the world, shoppers forced to change purchase behaviour.\\n#coronavirus #consumer #behaviorchange #restaurants #theatre #automobile #health #finance #COVID19 #CoronaVirusUpdate \\nLink: https://t.co/402gGrrCAA https://t.co/WUsB26ingV</td>\n",
       "      <td>{'compound': -0.4588}</td>\n",
       "      <td>-0.300</td>\n",
       "    </tr>\n",
       "    <tr>\n",
       "      <th>1</th>\n",
       "      <td>They live on a different planet....\\n\\n#COVID19 #Coronavirus #ToriesOut #PoliceState #PoliceStateUK #MassSurveillance\\n#BehavioralScience #behavioraleconomics #NWO #RevolutionNow #Censorship #Stasi #endthelockdown #NoVaccineForMe https://t.co/wyPcvRkL1C</td>\n",
       "      <td>{'compound': 0.0}</td>\n",
       "      <td>0.068</td>\n",
       "    </tr>\n",
       "    <tr>\n",
       "      <th>2</th>\n",
       "      <td>Ask leaders to make #BehavioralScience core #education RT @BriefcaseTweets: Behavioural Design to keep safe distance \\n\\n#coronavirus #COVIDー19 #socialdistancing #behavioralscience #nudge… https://t.co/OpraxDeqxb</td>\n",
       "      <td>{'compound': 0.4404}</td>\n",
       "      <td>0.500</td>\n",
       "    </tr>\n",
       "    <tr>\n",
       "      <th>3</th>\n",
       "      <td>Ask leaders to make #BehavioralScience core #education RT @pikachanyan: RT @DavidIHodgson: #COVID19 #Coronavirus #ToriesOut #PoliceState #PoliceStateUK #MassSurveillance\\n#BehavioralScience #behavioraleconomics #…</td>\n",
       "      <td>{'compound': 0.0}</td>\n",
       "      <td>0.000</td>\n",
       "    </tr>\n",
       "    <tr>\n",
       "      <th>4</th>\n",
       "      <td>Wake up world. You're being conned. Switch off #MSM &amp;amp; start thinking for yourselves.\\n\\n#COVID19 #Coronavirus #ToriesOut #PoliceState #PoliceStateUK #MassSurveillance\\n#BehavioralScience #behavioraleconomics #NWO https://t.co/1yOWt77vIE</td>\n",
       "      <td>{'compound': 0.0}</td>\n",
       "      <td>0.000</td>\n",
       "    </tr>\n",
       "    <tr>\n",
       "      <th>5</th>\n",
       "      <td>I have been critical re the behavioural science &amp;amp; public communication strategies but also willing to help and contribute, signed up below to help the government crowdsource expertise. It's on all aspects of the #COVID19 pandemic so scientists of all stripes do consider joining! https://t.co/bal8v0DFXv</td>\n",
       "      <td>{'compound': 0.7745}</td>\n",
       "      <td>0.104</td>\n",
       "    </tr>\n",
       "    <tr>\n",
       "      <th>6</th>\n",
       "      <td>@BBCNews @itvnews @piersmorgan @GMB \\n\\nAny chance of a mention for the sake of balance?\\n\\n#COVID19 #Coronavirus #ToriesOut #PoliceState #PoliceStateUK #MassSurveillance\\n#BehavioralScience #behavioraleconomics #NWO #RevolutionNow #Censorship #Stasi #endthelockdown https://t.co/Nz0MyGl1gS</td>\n",
       "      <td>{'compound': 0.25}</td>\n",
       "      <td>0.000</td>\n",
       "    </tr>\n",
       "    <tr>\n",
       "      <th>7</th>\n",
       "      <td>Ask leaders to make #BehavioralScience core #education RT @DavidIHodgson: @BBCNews @itvnews @piersmorgan @GMB \\n\\nAny chance of a mention for the sake of balance?\\n\\n#COVID19 #Coronavirus… https://t.co/kVtcI3OyeQ</td>\n",
       "      <td>{'compound': 0.25}</td>\n",
       "      <td>0.000</td>\n",
       "    </tr>\n",
       "    <tr>\n",
       "      <th>8</th>\n",
       "      <td>@BBCNews @itvnews @piersmorgan @GMB \\n\\nAny chance of a mention for the sake of balance?\\n\\n#COVID19 #Coronavirus #ToriesOut #PoliceState #PoliceStateUK #MassSurveillance\\n#BehavioralScience #behavioraleconomics #NWO #RevolutionNow #Censorship https://t.co/HDqdJQES7T</td>\n",
       "      <td>{'compound': 0.25}</td>\n",
       "      <td>0.000</td>\n",
       "    </tr>\n",
       "    <tr>\n",
       "      <th>9</th>\n",
       "      <td>The importance of Integrating hygiene behaviour change into routine immunisation programme is more important then ever in this COVID19 pandemic! #WASH #Vaccine #COVID19 #Hygiene https://t.co/uPrwSsBJWv</td>\n",
       "      <td>{'compound': 0.5974}</td>\n",
       "      <td>0.500</td>\n",
       "    </tr>\n",
       "  </tbody>\n",
       "</table>\n",
       "</div>"
      ],
      "text/plain": [
       "                                                                                                                                                                                                                                                                                                                  text  \\\n",
       "0                                                           As covid-19 sweeps the world, shoppers forced to change purchase behaviour.\\n#coronavirus #consumer #behaviorchange #restaurants #theatre #automobile #health #finance #COVID19 #CoronaVirusUpdate \\nLink: https://t.co/402gGrrCAA https://t.co/WUsB26ingV   \n",
       "1                                                        They live on a different planet....\\n\\n#COVID19 #Coronavirus #ToriesOut #PoliceState #PoliceStateUK #MassSurveillance\\n#BehavioralScience #behavioraleconomics #NWO #RevolutionNow #Censorship #Stasi #endthelockdown #NoVaccineForMe https://t.co/wyPcvRkL1C   \n",
       "2                                                                                                 Ask leaders to make #BehavioralScience core #education RT @BriefcaseTweets: Behavioural Design to keep safe distance \\n\\n#coronavirus #COVIDー19 #socialdistancing #behavioralscience #nudge… https://t.co/OpraxDeqxb   \n",
       "3                                                                                                Ask leaders to make #BehavioralScience core #education RT @pikachanyan: RT @DavidIHodgson: #COVID19 #Coronavirus #ToriesOut #PoliceState #PoliceStateUK #MassSurveillance\\n#BehavioralScience #behavioraleconomics #…   \n",
       "4                                                                     Wake up world. You're being conned. Switch off #MSM &amp; start thinking for yourselves.\\n\\n#COVID19 #Coronavirus #ToriesOut #PoliceState #PoliceStateUK #MassSurveillance\\n#BehavioralScience #behavioraleconomics #NWO https://t.co/1yOWt77vIE   \n",
       "5  I have been critical re the behavioural science &amp; public communication strategies but also willing to help and contribute, signed up below to help the government crowdsource expertise. It's on all aspects of the #COVID19 pandemic so scientists of all stripes do consider joining! https://t.co/bal8v0DFXv   \n",
       "6                   @BBCNews @itvnews @piersmorgan @GMB \\n\\nAny chance of a mention for the sake of balance?\\n\\n#COVID19 #Coronavirus #ToriesOut #PoliceState #PoliceStateUK #MassSurveillance\\n#BehavioralScience #behavioraleconomics #NWO #RevolutionNow #Censorship #Stasi #endthelockdown https://t.co/Nz0MyGl1gS   \n",
       "7                                                                                                 Ask leaders to make #BehavioralScience core #education RT @DavidIHodgson: @BBCNews @itvnews @piersmorgan @GMB \\n\\nAny chance of a mention for the sake of balance?\\n\\n#COVID19 #Coronavirus… https://t.co/kVtcI3OyeQ   \n",
       "8                                          @BBCNews @itvnews @piersmorgan @GMB \\n\\nAny chance of a mention for the sake of balance?\\n\\n#COVID19 #Coronavirus #ToriesOut #PoliceState #PoliceStateUK #MassSurveillance\\n#BehavioralScience #behavioraleconomics #NWO #RevolutionNow #Censorship https://t.co/HDqdJQES7T   \n",
       "9                                                                                                            The importance of Integrating hygiene behaviour change into routine immunisation programme is more important then ever in this COVID19 pandemic! #WASH #Vaccine #COVID19 #Hygiene https://t.co/uPrwSsBJWv   \n",
       "\n",
       "     quick_VDR_sentiment  quick_TB_sentiment  \n",
       "0  {'compound': -0.4588}              -0.300  \n",
       "1      {'compound': 0.0}               0.068  \n",
       "2   {'compound': 0.4404}               0.500  \n",
       "3      {'compound': 0.0}               0.000  \n",
       "4      {'compound': 0.0}               0.000  \n",
       "5   {'compound': 0.7745}               0.104  \n",
       "6     {'compound': 0.25}               0.000  \n",
       "7     {'compound': 0.25}               0.000  \n",
       "8     {'compound': 0.25}               0.000  \n",
       "9   {'compound': 0.5974}               0.500  "
      ]
     },
     "execution_count": 20,
     "metadata": {},
     "output_type": "execute_result"
    }
   ],
   "source": [
    "tweets_df[['text', 'quick_VDR_sentiment', 'quick_TB_sentiment']][:10]"
   ]
  },
  {
   "cell_type": "markdown",
   "metadata": {},
   "source": [
    "Looks like many negative tweets have not been captured as such."
   ]
  },
  {
   "cell_type": "markdown",
   "metadata": {},
   "source": [
    "## Text-preprocessing steps"
   ]
  },
  {
   "cell_type": "markdown",
   "metadata": {},
   "source": [
    "#### First part\n",
    "\n",
    "1. Replace emojis and emoticons with corresponding text description"
   ]
  },
  {
   "cell_type": "markdown",
   "metadata": {},
   "source": [
    "#### Second part \n",
    "\n",
    "2. Replace URLs with word \"url\" or remove them\n",
    "3. Remove first name of users metioned or replace them with \"user_mentioned\"\n",
    "4. Replace all the hashtags with the words with the hash symbol (e.g., \"#hello\" -> \"hello\")\n",
    "\n",
    "Given that 1. and 2. are not part of the lexicons, so do not contribute to the sentiment score."
   ]
  },
  {
   "cell_type": "markdown",
   "metadata": {},
   "source": [
    "#### Third part\n",
    "\n",
    "5. Split compounded-by-upper-case strings\n",
    "6. Split compounded-by-underscore \"_\" strings (this is two get the words that make up the emojis descriptions)\n",
    "7. Remove digits\n",
    "8. Remove single-character words\n",
    "9. Split domain-specific compunded all-lower-case strings (e.g., behaviouraleconomics)"
   ]
  },
  {
   "cell_type": "markdown",
   "metadata": {},
   "source": [
    "#### Fourth part\n",
    "\n",
    "10. Remove stop words\n",
    "11. Remove punctuation (but keep !?...)\n"
   ]
  },
  {
   "cell_type": "markdown",
   "metadata": {},
   "source": [
    "First part"
   ]
  },
  {
   "cell_type": "code",
   "execution_count": 21,
   "metadata": {},
   "outputs": [],
   "source": [
    "# as a check: a sample of tweets that contain emojis\n",
    "idx_sample_tweets_emojs = [37, 57, 135, 136]"
   ]
  },
  {
   "cell_type": "code",
   "execution_count": 22,
   "metadata": {},
   "outputs": [],
   "source": [
    "tweets = [convert_emojis(t) for t in tweets_df.text]"
   ]
  },
  {
   "cell_type": "code",
   "execution_count": 23,
   "metadata": {},
   "outputs": [],
   "source": [
    "tweets = [convert_emoticons(t) for t in tweets]"
   ]
  },
  {
   "cell_type": "code",
   "execution_count": 24,
   "metadata": {},
   "outputs": [
    {
     "data": {
      "text/plain": [
       "['@CCHQPress @SkyNews Amazing how desperate #Tories have become now they realise tactics from Dominic Cummings\\' seemingly infallible \"Get Brexit Done\" behavioural science playbook, do not work during a pandemic...expressionless_face #COVID19 #NHS #PPE #BorisJohnson',\n",
       " 'On Ep. 24 of the #HumanRisk podcast @JezGroom\\n&amp; @April_Vellacott of @CowryConsulting talk about their new book #Ripplebackhand_index_pointing_righthttpsSkeptical_annoyed_undecided_uneasy_or_hesitant/t.co/3S1YSyH4X2 &amp; explore some of the #BehaviouralScience dynamics of the #Coronavirus.\\n\\nFind it wherever you get your headphone &amp; backhand_index_pointing_righthttpsSkeptical_annoyed_undecided_uneasy_or_hesitant/t.co/jWy9IRcDGm httpsSkeptical_annoyed_undecided_uneasy_or_hesitant/t.co/gxg7F2NVUF',\n",
       " 'Part 2 of our blog series on COVID-19 is available to read now!! party_popper @KingsIoPPN @inspirethemind_.               @emilyjanehayes and I review messages from government in the UK &amp; elsewhere through the lens of behavioural sciencedetective️\\u200dfemale_sign️ chart_increasing🦠chart_decreasing httpsSkeptical_annoyed_undecided_uneasy_or_hesitant/t.co/6xRuY8dQ0g',\n",
       " 'Ask leaders to make #BehavioralScience core #education RT @DavidIHodgson: #COVID19 #Coronavirus #ToriesOut #PoliceState #PoliceStateUK #MassSurveillance\\n#BehavioralScience… httpsSkeptical_annoyed_undecided_uneasy_or_hesitant/t.co/ygJhO98JPB']"
      ]
     },
     "execution_count": 24,
     "metadata": {},
     "output_type": "execute_result"
    }
   ],
   "source": [
    "# check\n",
    "[tweets[i] for i in idx_sample_tweets_emojs]"
   ]
  },
  {
   "cell_type": "markdown",
   "metadata": {},
   "source": [
    "Second part"
   ]
  },
  {
   "cell_type": "code",
   "execution_count": 25,
   "metadata": {},
   "outputs": [],
   "source": [
    "tweets = [clean_tweet_quibbles(tweet) for tweet in tweets]"
   ]
  },
  {
   "cell_type": "code",
   "execution_count": 26,
   "metadata": {},
   "outputs": [
    {
     "data": {
      "text/plain": [
       "['As covid-19 sweeps the world, shoppers forced to change purchase behaviour. coronavirus consumer behaviorchange restaurants theatre automobile health finance COVID19 CoronaVirusUpdate Link:',\n",
       " 'They live on a different planet.... COVID19 Coronavirus ToriesOut PoliceState PoliceStateUK MassSurveillance BehavioralScience behavioraleconomics NWO RevolutionNow Censorship Stasi endthelockdown NoVaccineForMe',\n",
       " 'Ask leaders to make BehavioralScience core education RT Behavioural Design to keep safe distance coronavirus COVID19 socialdistancing behavioralscience nudge',\n",
       " 'Ask leaders to make BehavioralScience core education RT RT COVID19 Coronavirus ToriesOut PoliceState PoliceStateUK MassSurveillance BehavioralScience behavioraleconomics',\n",
       " \"Wake up world. You're being conned. Switch off MSM &amp; start thinking for yourselves. COVID19 Coronavirus ToriesOut PoliceState PoliceStateUK MassSurveillance BehavioralScience behavioraleconomics NWO\",\n",
       " \"I have been critical re the behavioural science &amp; public communication strategies but also willing to help and contribute, signed up below to help the government crowdsource expertise. It's on all aspects of the COVID19 pandemic so scientists of all stripes do consider joining!\",\n",
       " 'Any chance of a mention for the sake of balance? COVID19 Coronavirus ToriesOut PoliceState PoliceStateUK MassSurveillance BehavioralScience behavioraleconomics NWO RevolutionNow Censorship Stasi endthelockdown',\n",
       " 'Ask leaders to make BehavioralScience core education RT Any chance of a mention for the sake of balance? COVID19 Coronavirus',\n",
       " 'Any chance of a mention for the sake of balance? COVID19 Coronavirus ToriesOut PoliceState PoliceStateUK MassSurveillance BehavioralScience behavioraleconomics NWO RevolutionNow Censorship',\n",
       " 'The importance of Integrating hygiene behaviour change into routine immunisation programme is more important then ever in this COVID19 pandemic! WASH Vaccine COVID19 Hygiene']"
      ]
     },
     "execution_count": 26,
     "metadata": {},
     "output_type": "execute_result"
    }
   ],
   "source": [
    "tweets[:10]"
   ]
  },
  {
   "cell_type": "code",
   "execution_count": 27,
   "metadata": {},
   "outputs": [
    {
     "data": {
      "text/plain": [
       "['Amazing how desperate Tories have become now they realise tactics from Dominic Cummings\\' seemingly infallible \"Get Brexit Done\" behavioural science playbook, do not work during a pandemic...expressionless_face COVID19 NHS PPE BorisJohnson',\n",
       " 'On Ep. 24 of the HumanRisk podcast &amp; of talk about their new book Ripplebackhand_index_pointing_right &amp; explore some of the BehaviouralScience dynamics of the Coronavirus. Find it wherever you get your headphone &amp; backhand_index_pointing_right',\n",
       " 'Part 2 of our blog series on COVID-19 is available to read now!! party_popper and I review messages from government in the UK &amp; elsewhere through the lens of behavioural sciencedetectivefemale_sign chart_increasingchart_decreasing',\n",
       " 'Ask leaders to make BehavioralScience core education RT COVID19 Coronavirus ToriesOut PoliceState PoliceStateUK MassSurveillance BehavioralScience']"
      ]
     },
     "execution_count": 27,
     "metadata": {},
     "output_type": "execute_result"
    }
   ],
   "source": [
    "[tweets[i] for i in idx_sample_tweets_emojs]"
   ]
  },
  {
   "cell_type": "markdown",
   "metadata": {},
   "source": [
    "Third part"
   ]
  },
  {
   "cell_type": "code",
   "execution_count": 28,
   "metadata": {},
   "outputs": [],
   "source": [
    "preproc_pipe1 = chain_functions(split_lowercase_compounds,\n",
    "                                split_string_at_uppercase,\n",
    "                                break_compound_words,\n",
    "                                remove_digits, \n",
    "                                remove_single_characters)"
   ]
  },
  {
   "cell_type": "code",
   "execution_count": 29,
   "metadata": {},
   "outputs": [],
   "source": [
    "tweets = [preproc_pipe1(tweet) for tweet in tweets]"
   ]
  },
  {
   "cell_type": "code",
   "execution_count": 30,
   "metadata": {},
   "outputs": [
    {
     "data": {
      "text/plain": [
       "['As covid- sweeps the world, shoppers forced to change purchase behaviour. coronavirus consumer behavior change restaurants theatre automobile health finance Corona Virus Update Link:',\n",
       " 'They live on different planet.... Coronavirus Tories Out Police State Police State Mass Surveillance Behavioral Science behavioral economics Revolution Now Censorship Stasi endthelockdown No Vaccine For Me',\n",
       " 'Ask leaders to make Behavioral Science core education Behavioural Design to keep safe distance coronavirus social distancing behavioral science nudge',\n",
       " 'Ask leaders to make Behavioral Science core education Coronavirus Tories Out Police State Police State Mass Surveillance Behavioral Science behavioral economics',\n",
       " \"Wake up world. You're being conned. Switch off &amp; start thinking for yourselves. Coronavirus Tories Out Police State Police State Mass Surveillance Behavioral Science behavioral economics\",\n",
       " \"have been critical re the behavioural science &amp; public communication strategies but also willing to help and contribute, signed up below to help the government crowdsource expertise. It's on all aspects of the pandemic so scientists of all stripes do consider joining!\",\n",
       " 'Any chance of mention for the sake of balance? Coronavirus Tories Out Police State Police State Mass Surveillance Behavioral Science behavioral economics Revolution Now Censorship Stasi endthelockdown',\n",
       " 'Ask leaders to make Behavioral Science core education Any chance of mention for the sake of balance? Coronavirus',\n",
       " 'Any chance of mention for the sake of balance? Coronavirus Tories Out Police State Police State Mass Surveillance Behavioral Science behavioral economics Revolution Now Censorship',\n",
       " 'The importance of Integrating hygiene behaviour change into routine immunisation programme is more important then ever in this pandemic! Vaccine Hygiene']"
      ]
     },
     "execution_count": 30,
     "metadata": {},
     "output_type": "execute_result"
    }
   ],
   "source": [
    "tweets[:10]"
   ]
  },
  {
   "cell_type": "code",
   "execution_count": 31,
   "metadata": {},
   "outputs": [
    {
     "data": {
      "text/plain": [
       "['Amazing how desperate Tories have become now they realise tactics from Dominic Cummings\\' seemingly infallible Get Brexit Done\" behavioural science playbook, do not work during pandemic...expressionless face Boris Johnson',\n",
       " 'On Ep. of the Human Risk podcast &amp; of talk about their new book Ripplebackhand index pointing right &amp; explore some of the Behavioural Science dynamics of the Coronavirus. Find it wherever you get your headphone &amp; backhand index pointing right',\n",
       " 'Part of our blog series on D- is available to read now!! party popper and review messages from government in the &amp; elsewhere through the lens of behavioural sciencedetectivefemale sign chart increasingchart decreasing',\n",
       " 'Ask leaders to make Behavioral Science core education Coronavirus Tories Out Police State Police State Mass Surveillance Behavioral Science']"
      ]
     },
     "execution_count": 31,
     "metadata": {},
     "output_type": "execute_result"
    }
   ],
   "source": [
    "[tweets[i] for i in idx_sample_tweets_emojs]"
   ]
  },
  {
   "cell_type": "markdown",
   "metadata": {},
   "source": [
    "Fourth part"
   ]
  },
  {
   "cell_type": "code",
   "execution_count": 32,
   "metadata": {},
   "outputs": [],
   "source": [
    "# lower text\n",
    "tweets = [tweet.lower() for tweet in tweets]"
   ]
  },
  {
   "cell_type": "code",
   "execution_count": 33,
   "metadata": {},
   "outputs": [],
   "source": [
    "tokenise_pipe = chain_functions(tokenise_sent, tokenise_word)"
   ]
  },
  {
   "cell_type": "code",
   "execution_count": 34,
   "metadata": {},
   "outputs": [],
   "source": [
    "tweets_tok = [tokenise_pipe(tweet) for tweet in tweets]"
   ]
  },
  {
   "cell_type": "code",
   "execution_count": 35,
   "metadata": {
    "scrolled": false
   },
   "outputs": [],
   "source": [
    "tweets_tok = [remove_stopwords(tweet, extra_stopwords= EXTRA_STOPWORDS) for tweet in tweets_tok]"
   ]
  },
  {
   "cell_type": "code",
   "execution_count": 36,
   "metadata": {},
   "outputs": [
    {
     "data": {
      "text/plain": [
       "[[['amazing',\n",
       "   'desperate',\n",
       "   'tories',\n",
       "   'become',\n",
       "   'realise',\n",
       "   'tactics',\n",
       "   \"'\",\n",
       "   'seemingly',\n",
       "   'infallible',\n",
       "   'get',\n",
       "   'brexit',\n",
       "   'done',\n",
       "   \"''\",\n",
       "   'behavioural',\n",
       "   'science',\n",
       "   'playbook',\n",
       "   ',',\n",
       "   'not',\n",
       "   'work',\n",
       "   '...',\n",
       "   'expressionless',\n",
       "   'face']]]"
      ]
     },
     "execution_count": 36,
     "metadata": {},
     "output_type": "execute_result"
    }
   ],
   "source": [
    "# check\n",
    "[tweets_tok[idx] for idx in idx_sample_tweets_emojs][:1]"
   ]
  },
  {
   "cell_type": "markdown",
   "metadata": {},
   "source": [
    "Let's do not remove punctuation form the time being"
   ]
  },
  {
   "cell_type": "code",
   "execution_count": 37,
   "metadata": {},
   "outputs": [],
   "source": [
    "tokens2string_pipe = chain_functions(flatten_irregular_listoflists, list, detokenise_list)"
   ]
  },
  {
   "cell_type": "code",
   "execution_count": 38,
   "metadata": {},
   "outputs": [],
   "source": [
    "tweets_cleaned = [tokens2string_pipe(tweet) for tweet in tweets_tok]"
   ]
  },
  {
   "cell_type": "code",
   "execution_count": 39,
   "metadata": {},
   "outputs": [],
   "source": [
    "# remove extra white space before punctuation\n",
    "tweets_cleaned = [re.sub(r'\\s([?.!,;:\"](?:\\s|$))', r'\\1', tweet) for tweet in tweets_cleaned]"
   ]
  },
  {
   "cell_type": "code",
   "execution_count": 40,
   "metadata": {},
   "outputs": [
    {
     "data": {
      "text/plain": [
       "[\"amazing desperate tories become realise tactics ' seemingly infallible get brexit done '' behavioural science playbook, not work ... expressionless face\",\n",
       " 'ep. human risk podcast; talk new book ripplebackhand index pointing right; explore behavioural science dynamics. find wherever get headphone; backhand index pointing right',\n",
       " 'part blog series available read! ! party popper review messages government; elsewhere lens behavioural sciencedetectivefemale sign chart increasingchart decreasing',\n",
       " 'ask leaders make behavioral science core education tories police state police state mass surveillance behavioral science']"
      ]
     },
     "execution_count": 40,
     "metadata": {},
     "output_type": "execute_result"
    }
   ],
   "source": [
    "# let's take a look\n",
    "[tweets_cleaned[i] for i in idx_sample_tweets_emojs]"
   ]
  },
  {
   "cell_type": "markdown",
   "metadata": {},
   "source": [
    "## Merge to original dataset of tweets"
   ]
  },
  {
   "cell_type": "code",
   "execution_count": 41,
   "metadata": {},
   "outputs": [
    {
     "data": {
      "text/plain": [
       "4166"
      ]
     },
     "execution_count": 41,
     "metadata": {},
     "output_type": "execute_result"
    }
   ],
   "source": [
    "len(tweets_cleaned)"
   ]
  },
  {
   "cell_type": "code",
   "execution_count": 42,
   "metadata": {},
   "outputs": [],
   "source": [
    "tweets_df['tweet_cleaned'] = tweets_cleaned"
   ]
  },
  {
   "cell_type": "code",
   "execution_count": 43,
   "metadata": {},
   "outputs": [
    {
     "data": {
      "text/html": [
       "<div>\n",
       "<style scoped>\n",
       "    .dataframe tbody tr th:only-of-type {\n",
       "        vertical-align: middle;\n",
       "    }\n",
       "\n",
       "    .dataframe tbody tr th {\n",
       "        vertical-align: top;\n",
       "    }\n",
       "\n",
       "    .dataframe thead th {\n",
       "        text-align: right;\n",
       "    }\n",
       "</style>\n",
       "<table border=\"1\" class=\"dataframe\">\n",
       "  <thead>\n",
       "    <tr style=\"text-align: right;\">\n",
       "      <th></th>\n",
       "      <th>text</th>\n",
       "      <th>tweet_cleaned</th>\n",
       "    </tr>\n",
       "  </thead>\n",
       "  <tbody>\n",
       "    <tr>\n",
       "      <th>0</th>\n",
       "      <td>As covid-19 sweeps the world, shoppers forced to change purchase behaviour.\\n#coronavirus #consumer #behaviorchange #restaurants #theatre #automobile #health #finance #COVID19 #CoronaVirusUpdate \\nLink: https://t.co/402gGrrCAA https://t.co/WUsB26ingV</td>\n",
       "      <td>sweeps world, shoppers forced change purchase behaviour. consumer behavior change restaurants theatre automobile health finance update:</td>\n",
       "    </tr>\n",
       "    <tr>\n",
       "      <th>1</th>\n",
       "      <td>They live on a different planet....\\n\\n#COVID19 #Coronavirus #ToriesOut #PoliceState #PoliceStateUK #MassSurveillance\\n#BehavioralScience #behavioraleconomics #NWO #RevolutionNow #Censorship #Stasi #endthelockdown #NoVaccineForMe https://t.co/wyPcvRkL1C</td>\n",
       "      <td>live different planet .... tories police state police state mass surveillance behavioral science behavioral economics revolution censorship stasi endthelockdown no vaccine</td>\n",
       "    </tr>\n",
       "    <tr>\n",
       "      <th>2</th>\n",
       "      <td>Ask leaders to make #BehavioralScience core #education RT @BriefcaseTweets: Behavioural Design to keep safe distance \\n\\n#coronavirus #COVIDー19 #socialdistancing #behavioralscience #nudge… https://t.co/OpraxDeqxb</td>\n",
       "      <td>ask leaders make behavioral science core education behavioural design keep safe distance social distancing behavioral science nudge</td>\n",
       "    </tr>\n",
       "    <tr>\n",
       "      <th>3</th>\n",
       "      <td>Ask leaders to make #BehavioralScience core #education RT @pikachanyan: RT @DavidIHodgson: #COVID19 #Coronavirus #ToriesOut #PoliceState #PoliceStateUK #MassSurveillance\\n#BehavioralScience #behavioraleconomics #…</td>\n",
       "      <td>ask leaders make behavioral science core education tories police state police state mass surveillance behavioral science behavioral economics</td>\n",
       "    </tr>\n",
       "    <tr>\n",
       "      <th>4</th>\n",
       "      <td>Wake up world. You're being conned. Switch off #MSM &amp;amp; start thinking for yourselves.\\n\\n#COVID19 #Coronavirus #ToriesOut #PoliceState #PoliceStateUK #MassSurveillance\\n#BehavioralScience #behavioraleconomics #NWO https://t.co/1yOWt77vIE</td>\n",
       "      <td>wake world. conned. switch; start thinking. tories police state police state mass surveillance behavioral science behavioral economics</td>\n",
       "    </tr>\n",
       "    <tr>\n",
       "      <th>5</th>\n",
       "      <td>I have been critical re the behavioural science &amp;amp; public communication strategies but also willing to help and contribute, signed up below to help the government crowdsource expertise. It's on all aspects of the #COVID19 pandemic so scientists of all stripes do consider joining! https://t.co/bal8v0DFXv</td>\n",
       "      <td>critical behavioural science; public communication strategies also willing help contribute, signed help government crowdsource expertise. aspects scientists stripes consider joining!</td>\n",
       "    </tr>\n",
       "    <tr>\n",
       "      <th>6</th>\n",
       "      <td>@BBCNews @itvnews @piersmorgan @GMB \\n\\nAny chance of a mention for the sake of balance?\\n\\n#COVID19 #Coronavirus #ToriesOut #PoliceState #PoliceStateUK #MassSurveillance\\n#BehavioralScience #behavioraleconomics #NWO #RevolutionNow #Censorship #Stasi #endthelockdown https://t.co/Nz0MyGl1gS</td>\n",
       "      <td>chance mention sake balance? tories police state police state mass surveillance behavioral science behavioral economics revolution censorship stasi endthelockdown</td>\n",
       "    </tr>\n",
       "    <tr>\n",
       "      <th>7</th>\n",
       "      <td>Ask leaders to make #BehavioralScience core #education RT @DavidIHodgson: @BBCNews @itvnews @piersmorgan @GMB \\n\\nAny chance of a mention for the sake of balance?\\n\\n#COVID19 #Coronavirus… https://t.co/kVtcI3OyeQ</td>\n",
       "      <td>ask leaders make behavioral science core education chance mention sake balance?</td>\n",
       "    </tr>\n",
       "    <tr>\n",
       "      <th>8</th>\n",
       "      <td>@BBCNews @itvnews @piersmorgan @GMB \\n\\nAny chance of a mention for the sake of balance?\\n\\n#COVID19 #Coronavirus #ToriesOut #PoliceState #PoliceStateUK #MassSurveillance\\n#BehavioralScience #behavioraleconomics #NWO #RevolutionNow #Censorship https://t.co/HDqdJQES7T</td>\n",
       "      <td>chance mention sake balance? tories police state police state mass surveillance behavioral science behavioral economics revolution censorship</td>\n",
       "    </tr>\n",
       "    <tr>\n",
       "      <th>9</th>\n",
       "      <td>The importance of Integrating hygiene behaviour change into routine immunisation programme is more important then ever in this COVID19 pandemic! #WASH #Vaccine #COVID19 #Hygiene https://t.co/uPrwSsBJWv</td>\n",
       "      <td>importance integrating hygiene behaviour change routine immunisation programme important ever! vaccine hygiene</td>\n",
       "    </tr>\n",
       "  </tbody>\n",
       "</table>\n",
       "</div>"
      ],
      "text/plain": [
       "                                                                                                                                                                                                                                                                                                                  text  \\\n",
       "0                                                           As covid-19 sweeps the world, shoppers forced to change purchase behaviour.\\n#coronavirus #consumer #behaviorchange #restaurants #theatre #automobile #health #finance #COVID19 #CoronaVirusUpdate \\nLink: https://t.co/402gGrrCAA https://t.co/WUsB26ingV   \n",
       "1                                                        They live on a different planet....\\n\\n#COVID19 #Coronavirus #ToriesOut #PoliceState #PoliceStateUK #MassSurveillance\\n#BehavioralScience #behavioraleconomics #NWO #RevolutionNow #Censorship #Stasi #endthelockdown #NoVaccineForMe https://t.co/wyPcvRkL1C   \n",
       "2                                                                                                 Ask leaders to make #BehavioralScience core #education RT @BriefcaseTweets: Behavioural Design to keep safe distance \\n\\n#coronavirus #COVIDー19 #socialdistancing #behavioralscience #nudge… https://t.co/OpraxDeqxb   \n",
       "3                                                                                                Ask leaders to make #BehavioralScience core #education RT @pikachanyan: RT @DavidIHodgson: #COVID19 #Coronavirus #ToriesOut #PoliceState #PoliceStateUK #MassSurveillance\\n#BehavioralScience #behavioraleconomics #…   \n",
       "4                                                                     Wake up world. You're being conned. Switch off #MSM &amp; start thinking for yourselves.\\n\\n#COVID19 #Coronavirus #ToriesOut #PoliceState #PoliceStateUK #MassSurveillance\\n#BehavioralScience #behavioraleconomics #NWO https://t.co/1yOWt77vIE   \n",
       "5  I have been critical re the behavioural science &amp; public communication strategies but also willing to help and contribute, signed up below to help the government crowdsource expertise. It's on all aspects of the #COVID19 pandemic so scientists of all stripes do consider joining! https://t.co/bal8v0DFXv   \n",
       "6                   @BBCNews @itvnews @piersmorgan @GMB \\n\\nAny chance of a mention for the sake of balance?\\n\\n#COVID19 #Coronavirus #ToriesOut #PoliceState #PoliceStateUK #MassSurveillance\\n#BehavioralScience #behavioraleconomics #NWO #RevolutionNow #Censorship #Stasi #endthelockdown https://t.co/Nz0MyGl1gS   \n",
       "7                                                                                                 Ask leaders to make #BehavioralScience core #education RT @DavidIHodgson: @BBCNews @itvnews @piersmorgan @GMB \\n\\nAny chance of a mention for the sake of balance?\\n\\n#COVID19 #Coronavirus… https://t.co/kVtcI3OyeQ   \n",
       "8                                          @BBCNews @itvnews @piersmorgan @GMB \\n\\nAny chance of a mention for the sake of balance?\\n\\n#COVID19 #Coronavirus #ToriesOut #PoliceState #PoliceStateUK #MassSurveillance\\n#BehavioralScience #behavioraleconomics #NWO #RevolutionNow #Censorship https://t.co/HDqdJQES7T   \n",
       "9                                                                                                            The importance of Integrating hygiene behaviour change into routine immunisation programme is more important then ever in this COVID19 pandemic! #WASH #Vaccine #COVID19 #Hygiene https://t.co/uPrwSsBJWv   \n",
       "\n",
       "                                                                                                                                                                            tweet_cleaned  \n",
       "0                                                 sweeps world, shoppers forced change purchase behaviour. consumer behavior change restaurants theatre automobile health finance update:  \n",
       "1             live different planet .... tories police state police state mass surveillance behavioral science behavioral economics revolution censorship stasi endthelockdown no vaccine  \n",
       "2                                                     ask leaders make behavioral science core education behavioural design keep safe distance social distancing behavioral science nudge  \n",
       "3                                           ask leaders make behavioral science core education tories police state police state mass surveillance behavioral science behavioral economics  \n",
       "4                                                  wake world. conned. switch; start thinking. tories police state police state mass surveillance behavioral science behavioral economics  \n",
       "5  critical behavioural science; public communication strategies also willing help contribute, signed help government crowdsource expertise. aspects scientists stripes consider joining!  \n",
       "6                      chance mention sake balance? tories police state police state mass surveillance behavioral science behavioral economics revolution censorship stasi endthelockdown  \n",
       "7                                                                                                         ask leaders make behavioral science core education chance mention sake balance?  \n",
       "8                                           chance mention sake balance? tories police state police state mass surveillance behavioral science behavioral economics revolution censorship  \n",
       "9                                                                          importance integrating hygiene behaviour change routine immunisation programme important ever! vaccine hygiene  "
      ]
     },
     "execution_count": 43,
     "metadata": {},
     "output_type": "execute_result"
    }
   ],
   "source": [
    "tweets_df[['text', 'tweet_cleaned']][:10]"
   ]
  },
  {
   "cell_type": "markdown",
   "metadata": {},
   "source": [
    "# VADER sentiment analysis on cleaned-text tweets"
   ]
  },
  {
   "cell_type": "markdown",
   "metadata": {},
   "source": [
    "VADER stands for Valence Aware Dictionary for Sentiment Reasoning and is a model used for text sentiment analysis that is sensitive to both polarity (positive/negative) and intensity (strength) of emotion. \n",
    "\n",
    "Intro to VADER: https://towardsdatascience.com/sentimental-analysis-using-vader-a3415fef7664"
   ]
  },
  {
   "cell_type": "code",
   "execution_count": 44,
   "metadata": {},
   "outputs": [],
   "source": [
    "tweets_df['VDR_sentiment'] = [get_sentiment_score_VDR(tweet) for tweet in tweets_df.tweet_cleaned]"
   ]
  },
  {
   "cell_type": "code",
   "execution_count": 45,
   "metadata": {},
   "outputs": [
    {
     "data": {
      "text/html": [
       "<div>\n",
       "<style scoped>\n",
       "    .dataframe tbody tr th:only-of-type {\n",
       "        vertical-align: middle;\n",
       "    }\n",
       "\n",
       "    .dataframe tbody tr th {\n",
       "        vertical-align: top;\n",
       "    }\n",
       "\n",
       "    .dataframe thead th {\n",
       "        text-align: right;\n",
       "    }\n",
       "</style>\n",
       "<table border=\"1\" class=\"dataframe\">\n",
       "  <thead>\n",
       "    <tr style=\"text-align: right;\">\n",
       "      <th></th>\n",
       "      <th>text</th>\n",
       "      <th>tweet_cleaned</th>\n",
       "      <th>VDR_sentiment</th>\n",
       "    </tr>\n",
       "  </thead>\n",
       "  <tbody>\n",
       "    <tr>\n",
       "      <th>0</th>\n",
       "      <td>As covid-19 sweeps the world, shoppers forced to change purchase behaviour.\\n#coronavirus #consumer #behaviorchange #restaurants #theatre #automobile #health #finance #COVID19 #CoronaVirusUpdate \\nLink: https://t.co/402gGrrCAA https://t.co/WUsB26ingV</td>\n",
       "      <td>sweeps world, shoppers forced change purchase behaviour. consumer behavior change restaurants theatre automobile health finance update:</td>\n",
       "      <td>{'compound': -0.4588}</td>\n",
       "    </tr>\n",
       "    <tr>\n",
       "      <th>1</th>\n",
       "      <td>They live on a different planet....\\n\\n#COVID19 #Coronavirus #ToriesOut #PoliceState #PoliceStateUK #MassSurveillance\\n#BehavioralScience #behavioraleconomics #NWO #RevolutionNow #Censorship #Stasi #endthelockdown #NoVaccineForMe https://t.co/wyPcvRkL1C</td>\n",
       "      <td>live different planet .... tories police state police state mass surveillance behavioral science behavioral economics revolution censorship stasi endthelockdown no vaccine</td>\n",
       "      <td>{'compound': -0.296}</td>\n",
       "    </tr>\n",
       "    <tr>\n",
       "      <th>2</th>\n",
       "      <td>Ask leaders to make #BehavioralScience core #education RT @BriefcaseTweets: Behavioural Design to keep safe distance \\n\\n#coronavirus #COVIDー19 #socialdistancing #behavioralscience #nudge… https://t.co/OpraxDeqxb</td>\n",
       "      <td>ask leaders make behavioral science core education behavioural design keep safe distance social distancing behavioral science nudge</td>\n",
       "      <td>{'compound': 0.4404}</td>\n",
       "    </tr>\n",
       "    <tr>\n",
       "      <th>3</th>\n",
       "      <td>Ask leaders to make #BehavioralScience core #education RT @pikachanyan: RT @DavidIHodgson: #COVID19 #Coronavirus #ToriesOut #PoliceState #PoliceStateUK #MassSurveillance\\n#BehavioralScience #behavioraleconomics #…</td>\n",
       "      <td>ask leaders make behavioral science core education tories police state police state mass surveillance behavioral science behavioral economics</td>\n",
       "      <td>{'compound': 0.0}</td>\n",
       "    </tr>\n",
       "    <tr>\n",
       "      <th>4</th>\n",
       "      <td>Wake up world. You're being conned. Switch off #MSM &amp;amp; start thinking for yourselves.\\n\\n#COVID19 #Coronavirus #ToriesOut #PoliceState #PoliceStateUK #MassSurveillance\\n#BehavioralScience #behavioraleconomics #NWO https://t.co/1yOWt77vIE</td>\n",
       "      <td>wake world. conned. switch; start thinking. tories police state police state mass surveillance behavioral science behavioral economics</td>\n",
       "      <td>{'compound': 0.0}</td>\n",
       "    </tr>\n",
       "    <tr>\n",
       "      <th>5</th>\n",
       "      <td>I have been critical re the behavioural science &amp;amp; public communication strategies but also willing to help and contribute, signed up below to help the government crowdsource expertise. It's on all aspects of the #COVID19 pandemic so scientists of all stripes do consider joining! https://t.co/bal8v0DFXv</td>\n",
       "      <td>critical behavioural science; public communication strategies also willing help contribute, signed help government crowdsource expertise. aspects scientists stripes consider joining!</td>\n",
       "      <td>{'compound': 0.5255}</td>\n",
       "    </tr>\n",
       "    <tr>\n",
       "      <th>6</th>\n",
       "      <td>@BBCNews @itvnews @piersmorgan @GMB \\n\\nAny chance of a mention for the sake of balance?\\n\\n#COVID19 #Coronavirus #ToriesOut #PoliceState #PoliceStateUK #MassSurveillance\\n#BehavioralScience #behavioraleconomics #NWO #RevolutionNow #Censorship #Stasi #endthelockdown https://t.co/Nz0MyGl1gS</td>\n",
       "      <td>chance mention sake balance? tories police state police state mass surveillance behavioral science behavioral economics revolution censorship stasi endthelockdown</td>\n",
       "      <td>{'compound': 0.25}</td>\n",
       "    </tr>\n",
       "    <tr>\n",
       "      <th>7</th>\n",
       "      <td>Ask leaders to make #BehavioralScience core #education RT @DavidIHodgson: @BBCNews @itvnews @piersmorgan @GMB \\n\\nAny chance of a mention for the sake of balance?\\n\\n#COVID19 #Coronavirus… https://t.co/kVtcI3OyeQ</td>\n",
       "      <td>ask leaders make behavioral science core education chance mention sake balance?</td>\n",
       "      <td>{'compound': 0.25}</td>\n",
       "    </tr>\n",
       "    <tr>\n",
       "      <th>8</th>\n",
       "      <td>@BBCNews @itvnews @piersmorgan @GMB \\n\\nAny chance of a mention for the sake of balance?\\n\\n#COVID19 #Coronavirus #ToriesOut #PoliceState #PoliceStateUK #MassSurveillance\\n#BehavioralScience #behavioraleconomics #NWO #RevolutionNow #Censorship https://t.co/HDqdJQES7T</td>\n",
       "      <td>chance mention sake balance? tories police state police state mass surveillance behavioral science behavioral economics revolution censorship</td>\n",
       "      <td>{'compound': 0.25}</td>\n",
       "    </tr>\n",
       "    <tr>\n",
       "      <th>9</th>\n",
       "      <td>The importance of Integrating hygiene behaviour change into routine immunisation programme is more important then ever in this COVID19 pandemic! #WASH #Vaccine #COVID19 #Hygiene https://t.co/uPrwSsBJWv</td>\n",
       "      <td>importance integrating hygiene behaviour change routine immunisation programme important ever! vaccine hygiene</td>\n",
       "      <td>{'compound': 0.5562}</td>\n",
       "    </tr>\n",
       "  </tbody>\n",
       "</table>\n",
       "</div>"
      ],
      "text/plain": [
       "                                                                                                                                                                                                                                                                                                                  text  \\\n",
       "0                                                           As covid-19 sweeps the world, shoppers forced to change purchase behaviour.\\n#coronavirus #consumer #behaviorchange #restaurants #theatre #automobile #health #finance #COVID19 #CoronaVirusUpdate \\nLink: https://t.co/402gGrrCAA https://t.co/WUsB26ingV   \n",
       "1                                                        They live on a different planet....\\n\\n#COVID19 #Coronavirus #ToriesOut #PoliceState #PoliceStateUK #MassSurveillance\\n#BehavioralScience #behavioraleconomics #NWO #RevolutionNow #Censorship #Stasi #endthelockdown #NoVaccineForMe https://t.co/wyPcvRkL1C   \n",
       "2                                                                                                 Ask leaders to make #BehavioralScience core #education RT @BriefcaseTweets: Behavioural Design to keep safe distance \\n\\n#coronavirus #COVIDー19 #socialdistancing #behavioralscience #nudge… https://t.co/OpraxDeqxb   \n",
       "3                                                                                                Ask leaders to make #BehavioralScience core #education RT @pikachanyan: RT @DavidIHodgson: #COVID19 #Coronavirus #ToriesOut #PoliceState #PoliceStateUK #MassSurveillance\\n#BehavioralScience #behavioraleconomics #…   \n",
       "4                                                                     Wake up world. You're being conned. Switch off #MSM &amp; start thinking for yourselves.\\n\\n#COVID19 #Coronavirus #ToriesOut #PoliceState #PoliceStateUK #MassSurveillance\\n#BehavioralScience #behavioraleconomics #NWO https://t.co/1yOWt77vIE   \n",
       "5  I have been critical re the behavioural science &amp; public communication strategies but also willing to help and contribute, signed up below to help the government crowdsource expertise. It's on all aspects of the #COVID19 pandemic so scientists of all stripes do consider joining! https://t.co/bal8v0DFXv   \n",
       "6                   @BBCNews @itvnews @piersmorgan @GMB \\n\\nAny chance of a mention for the sake of balance?\\n\\n#COVID19 #Coronavirus #ToriesOut #PoliceState #PoliceStateUK #MassSurveillance\\n#BehavioralScience #behavioraleconomics #NWO #RevolutionNow #Censorship #Stasi #endthelockdown https://t.co/Nz0MyGl1gS   \n",
       "7                                                                                                 Ask leaders to make #BehavioralScience core #education RT @DavidIHodgson: @BBCNews @itvnews @piersmorgan @GMB \\n\\nAny chance of a mention for the sake of balance?\\n\\n#COVID19 #Coronavirus… https://t.co/kVtcI3OyeQ   \n",
       "8                                          @BBCNews @itvnews @piersmorgan @GMB \\n\\nAny chance of a mention for the sake of balance?\\n\\n#COVID19 #Coronavirus #ToriesOut #PoliceState #PoliceStateUK #MassSurveillance\\n#BehavioralScience #behavioraleconomics #NWO #RevolutionNow #Censorship https://t.co/HDqdJQES7T   \n",
       "9                                                                                                            The importance of Integrating hygiene behaviour change into routine immunisation programme is more important then ever in this COVID19 pandemic! #WASH #Vaccine #COVID19 #Hygiene https://t.co/uPrwSsBJWv   \n",
       "\n",
       "                                                                                                                                                                            tweet_cleaned  \\\n",
       "0                                                 sweeps world, shoppers forced change purchase behaviour. consumer behavior change restaurants theatre automobile health finance update:   \n",
       "1             live different planet .... tories police state police state mass surveillance behavioral science behavioral economics revolution censorship stasi endthelockdown no vaccine   \n",
       "2                                                     ask leaders make behavioral science core education behavioural design keep safe distance social distancing behavioral science nudge   \n",
       "3                                           ask leaders make behavioral science core education tories police state police state mass surveillance behavioral science behavioral economics   \n",
       "4                                                  wake world. conned. switch; start thinking. tories police state police state mass surveillance behavioral science behavioral economics   \n",
       "5  critical behavioural science; public communication strategies also willing help contribute, signed help government crowdsource expertise. aspects scientists stripes consider joining!   \n",
       "6                      chance mention sake balance? tories police state police state mass surveillance behavioral science behavioral economics revolution censorship stasi endthelockdown   \n",
       "7                                                                                                         ask leaders make behavioral science core education chance mention sake balance?   \n",
       "8                                           chance mention sake balance? tories police state police state mass surveillance behavioral science behavioral economics revolution censorship   \n",
       "9                                                                          importance integrating hygiene behaviour change routine immunisation programme important ever! vaccine hygiene   \n",
       "\n",
       "           VDR_sentiment  \n",
       "0  {'compound': -0.4588}  \n",
       "1   {'compound': -0.296}  \n",
       "2   {'compound': 0.4404}  \n",
       "3      {'compound': 0.0}  \n",
       "4      {'compound': 0.0}  \n",
       "5   {'compound': 0.5255}  \n",
       "6     {'compound': 0.25}  \n",
       "7     {'compound': 0.25}  \n",
       "8     {'compound': 0.25}  \n",
       "9   {'compound': 0.5562}  "
      ]
     },
     "execution_count": 45,
     "metadata": {},
     "output_type": "execute_result"
    }
   ],
   "source": [
    "tweets_df[['text', 'tweet_cleaned','VDR_sentiment']][:10]"
   ]
  },
  {
   "cell_type": "code",
   "execution_count": null,
   "metadata": {},
   "outputs": [],
   "source": []
  },
  {
   "cell_type": "markdown",
   "metadata": {},
   "source": [
    "# TextBlob sentiment analysis on cleaned-text tweets"
   ]
  },
  {
   "cell_type": "markdown",
   "metadata": {},
   "source": [
    "Intro to TextBlob: https://planspace.org/20150607-textblob_sentiment/  "
   ]
  },
  {
   "cell_type": "code",
   "execution_count": 46,
   "metadata": {},
   "outputs": [],
   "source": [
    "tweets_df['TB_sentiment'] = [round(get_sentiment_score_TB(tweet),3) for tweet in tweets_df.tweet_cleaned]"
   ]
  },
  {
   "cell_type": "code",
   "execution_count": 47,
   "metadata": {},
   "outputs": [
    {
     "data": {
      "text/html": [
       "<div>\n",
       "<style scoped>\n",
       "    .dataframe tbody tr th:only-of-type {\n",
       "        vertical-align: middle;\n",
       "    }\n",
       "\n",
       "    .dataframe tbody tr th {\n",
       "        vertical-align: top;\n",
       "    }\n",
       "\n",
       "    .dataframe thead th {\n",
       "        text-align: right;\n",
       "    }\n",
       "</style>\n",
       "<table border=\"1\" class=\"dataframe\">\n",
       "  <thead>\n",
       "    <tr style=\"text-align: right;\">\n",
       "      <th></th>\n",
       "      <th>text</th>\n",
       "      <th>tweet_cleaned</th>\n",
       "      <th>VDR_sentiment</th>\n",
       "      <th>TB_sentiment</th>\n",
       "    </tr>\n",
       "  </thead>\n",
       "  <tbody>\n",
       "    <tr>\n",
       "      <th>0</th>\n",
       "      <td>As covid-19 sweeps the world, shoppers forced to change purchase behaviour.\\n#coronavirus #consumer #behaviorchange #restaurants #theatre #automobile #health #finance #COVID19 #CoronaVirusUpdate \\nLink: https://t.co/402gGrrCAA https://t.co/WUsB26ingV</td>\n",
       "      <td>sweeps world, shoppers forced change purchase behaviour. consumer behavior change restaurants theatre automobile health finance update:</td>\n",
       "      <td>{'compound': -0.4588}</td>\n",
       "      <td>-0.300</td>\n",
       "    </tr>\n",
       "    <tr>\n",
       "      <th>1</th>\n",
       "      <td>They live on a different planet....\\n\\n#COVID19 #Coronavirus #ToriesOut #PoliceState #PoliceStateUK #MassSurveillance\\n#BehavioralScience #behavioraleconomics #NWO #RevolutionNow #Censorship #Stasi #endthelockdown #NoVaccineForMe https://t.co/wyPcvRkL1C</td>\n",
       "      <td>live different planet .... tories police state police state mass surveillance behavioral science behavioral economics revolution censorship stasi endthelockdown no vaccine</td>\n",
       "      <td>{'compound': -0.296}</td>\n",
       "      <td>0.068</td>\n",
       "    </tr>\n",
       "    <tr>\n",
       "      <th>2</th>\n",
       "      <td>Ask leaders to make #BehavioralScience core #education RT @BriefcaseTweets: Behavioural Design to keep safe distance \\n\\n#coronavirus #COVIDー19 #socialdistancing #behavioralscience #nudge… https://t.co/OpraxDeqxb</td>\n",
       "      <td>ask leaders make behavioral science core education behavioural design keep safe distance social distancing behavioral science nudge</td>\n",
       "      <td>{'compound': 0.4404}</td>\n",
       "      <td>0.267</td>\n",
       "    </tr>\n",
       "    <tr>\n",
       "      <th>3</th>\n",
       "      <td>Ask leaders to make #BehavioralScience core #education RT @pikachanyan: RT @DavidIHodgson: #COVID19 #Coronavirus #ToriesOut #PoliceState #PoliceStateUK #MassSurveillance\\n#BehavioralScience #behavioraleconomics #…</td>\n",
       "      <td>ask leaders make behavioral science core education tories police state police state mass surveillance behavioral science behavioral economics</td>\n",
       "      <td>{'compound': 0.0}</td>\n",
       "      <td>0.000</td>\n",
       "    </tr>\n",
       "    <tr>\n",
       "      <th>4</th>\n",
       "      <td>Wake up world. You're being conned. Switch off #MSM &amp;amp; start thinking for yourselves.\\n\\n#COVID19 #Coronavirus #ToriesOut #PoliceState #PoliceStateUK #MassSurveillance\\n#BehavioralScience #behavioraleconomics #NWO https://t.co/1yOWt77vIE</td>\n",
       "      <td>wake world. conned. switch; start thinking. tories police state police state mass surveillance behavioral science behavioral economics</td>\n",
       "      <td>{'compound': 0.0}</td>\n",
       "      <td>0.000</td>\n",
       "    </tr>\n",
       "    <tr>\n",
       "      <th>5</th>\n",
       "      <td>I have been critical re the behavioural science &amp;amp; public communication strategies but also willing to help and contribute, signed up below to help the government crowdsource expertise. It's on all aspects of the #COVID19 pandemic so scientists of all stripes do consider joining! https://t.co/bal8v0DFXv</td>\n",
       "      <td>critical behavioural science; public communication strategies also willing help contribute, signed help government crowdsource expertise. aspects scientists stripes consider joining!</td>\n",
       "      <td>{'compound': 0.5255}</td>\n",
       "      <td>0.104</td>\n",
       "    </tr>\n",
       "    <tr>\n",
       "      <th>6</th>\n",
       "      <td>@BBCNews @itvnews @piersmorgan @GMB \\n\\nAny chance of a mention for the sake of balance?\\n\\n#COVID19 #Coronavirus #ToriesOut #PoliceState #PoliceStateUK #MassSurveillance\\n#BehavioralScience #behavioraleconomics #NWO #RevolutionNow #Censorship #Stasi #endthelockdown https://t.co/Nz0MyGl1gS</td>\n",
       "      <td>chance mention sake balance? tories police state police state mass surveillance behavioral science behavioral economics revolution censorship stasi endthelockdown</td>\n",
       "      <td>{'compound': 0.25}</td>\n",
       "      <td>0.000</td>\n",
       "    </tr>\n",
       "    <tr>\n",
       "      <th>7</th>\n",
       "      <td>Ask leaders to make #BehavioralScience core #education RT @DavidIHodgson: @BBCNews @itvnews @piersmorgan @GMB \\n\\nAny chance of a mention for the sake of balance?\\n\\n#COVID19 #Coronavirus… https://t.co/kVtcI3OyeQ</td>\n",
       "      <td>ask leaders make behavioral science core education chance mention sake balance?</td>\n",
       "      <td>{'compound': 0.25}</td>\n",
       "      <td>0.000</td>\n",
       "    </tr>\n",
       "    <tr>\n",
       "      <th>8</th>\n",
       "      <td>@BBCNews @itvnews @piersmorgan @GMB \\n\\nAny chance of a mention for the sake of balance?\\n\\n#COVID19 #Coronavirus #ToriesOut #PoliceState #PoliceStateUK #MassSurveillance\\n#BehavioralScience #behavioraleconomics #NWO #RevolutionNow #Censorship https://t.co/HDqdJQES7T</td>\n",
       "      <td>chance mention sake balance? tories police state police state mass surveillance behavioral science behavioral economics revolution censorship</td>\n",
       "      <td>{'compound': 0.25}</td>\n",
       "      <td>0.000</td>\n",
       "    </tr>\n",
       "    <tr>\n",
       "      <th>9</th>\n",
       "      <td>The importance of Integrating hygiene behaviour change into routine immunisation programme is more important then ever in this COVID19 pandemic! #WASH #Vaccine #COVID19 #Hygiene https://t.co/uPrwSsBJWv</td>\n",
       "      <td>importance integrating hygiene behaviour change routine immunisation programme important ever! vaccine hygiene</td>\n",
       "      <td>{'compound': 0.5562}</td>\n",
       "      <td>0.500</td>\n",
       "    </tr>\n",
       "  </tbody>\n",
       "</table>\n",
       "</div>"
      ],
      "text/plain": [
       "                                                                                                                                                                                                                                                                                                                  text  \\\n",
       "0                                                           As covid-19 sweeps the world, shoppers forced to change purchase behaviour.\\n#coronavirus #consumer #behaviorchange #restaurants #theatre #automobile #health #finance #COVID19 #CoronaVirusUpdate \\nLink: https://t.co/402gGrrCAA https://t.co/WUsB26ingV   \n",
       "1                                                        They live on a different planet....\\n\\n#COVID19 #Coronavirus #ToriesOut #PoliceState #PoliceStateUK #MassSurveillance\\n#BehavioralScience #behavioraleconomics #NWO #RevolutionNow #Censorship #Stasi #endthelockdown #NoVaccineForMe https://t.co/wyPcvRkL1C   \n",
       "2                                                                                                 Ask leaders to make #BehavioralScience core #education RT @BriefcaseTweets: Behavioural Design to keep safe distance \\n\\n#coronavirus #COVIDー19 #socialdistancing #behavioralscience #nudge… https://t.co/OpraxDeqxb   \n",
       "3                                                                                                Ask leaders to make #BehavioralScience core #education RT @pikachanyan: RT @DavidIHodgson: #COVID19 #Coronavirus #ToriesOut #PoliceState #PoliceStateUK #MassSurveillance\\n#BehavioralScience #behavioraleconomics #…   \n",
       "4                                                                     Wake up world. You're being conned. Switch off #MSM &amp; start thinking for yourselves.\\n\\n#COVID19 #Coronavirus #ToriesOut #PoliceState #PoliceStateUK #MassSurveillance\\n#BehavioralScience #behavioraleconomics #NWO https://t.co/1yOWt77vIE   \n",
       "5  I have been critical re the behavioural science &amp; public communication strategies but also willing to help and contribute, signed up below to help the government crowdsource expertise. It's on all aspects of the #COVID19 pandemic so scientists of all stripes do consider joining! https://t.co/bal8v0DFXv   \n",
       "6                   @BBCNews @itvnews @piersmorgan @GMB \\n\\nAny chance of a mention for the sake of balance?\\n\\n#COVID19 #Coronavirus #ToriesOut #PoliceState #PoliceStateUK #MassSurveillance\\n#BehavioralScience #behavioraleconomics #NWO #RevolutionNow #Censorship #Stasi #endthelockdown https://t.co/Nz0MyGl1gS   \n",
       "7                                                                                                 Ask leaders to make #BehavioralScience core #education RT @DavidIHodgson: @BBCNews @itvnews @piersmorgan @GMB \\n\\nAny chance of a mention for the sake of balance?\\n\\n#COVID19 #Coronavirus… https://t.co/kVtcI3OyeQ   \n",
       "8                                          @BBCNews @itvnews @piersmorgan @GMB \\n\\nAny chance of a mention for the sake of balance?\\n\\n#COVID19 #Coronavirus #ToriesOut #PoliceState #PoliceStateUK #MassSurveillance\\n#BehavioralScience #behavioraleconomics #NWO #RevolutionNow #Censorship https://t.co/HDqdJQES7T   \n",
       "9                                                                                                            The importance of Integrating hygiene behaviour change into routine immunisation programme is more important then ever in this COVID19 pandemic! #WASH #Vaccine #COVID19 #Hygiene https://t.co/uPrwSsBJWv   \n",
       "\n",
       "                                                                                                                                                                            tweet_cleaned  \\\n",
       "0                                                 sweeps world, shoppers forced change purchase behaviour. consumer behavior change restaurants theatre automobile health finance update:   \n",
       "1             live different planet .... tories police state police state mass surveillance behavioral science behavioral economics revolution censorship stasi endthelockdown no vaccine   \n",
       "2                                                     ask leaders make behavioral science core education behavioural design keep safe distance social distancing behavioral science nudge   \n",
       "3                                           ask leaders make behavioral science core education tories police state police state mass surveillance behavioral science behavioral economics   \n",
       "4                                                  wake world. conned. switch; start thinking. tories police state police state mass surveillance behavioral science behavioral economics   \n",
       "5  critical behavioural science; public communication strategies also willing help contribute, signed help government crowdsource expertise. aspects scientists stripes consider joining!   \n",
       "6                      chance mention sake balance? tories police state police state mass surveillance behavioral science behavioral economics revolution censorship stasi endthelockdown   \n",
       "7                                                                                                         ask leaders make behavioral science core education chance mention sake balance?   \n",
       "8                                           chance mention sake balance? tories police state police state mass surveillance behavioral science behavioral economics revolution censorship   \n",
       "9                                                                          importance integrating hygiene behaviour change routine immunisation programme important ever! vaccine hygiene   \n",
       "\n",
       "           VDR_sentiment  TB_sentiment  \n",
       "0  {'compound': -0.4588}        -0.300  \n",
       "1   {'compound': -0.296}         0.068  \n",
       "2   {'compound': 0.4404}         0.267  \n",
       "3      {'compound': 0.0}         0.000  \n",
       "4      {'compound': 0.0}         0.000  \n",
       "5   {'compound': 0.5255}         0.104  \n",
       "6     {'compound': 0.25}         0.000  \n",
       "7     {'compound': 0.25}         0.000  \n",
       "8     {'compound': 0.25}         0.000  \n",
       "9   {'compound': 0.5562}         0.500  "
      ]
     },
     "execution_count": 47,
     "metadata": {},
     "output_type": "execute_result"
    }
   ],
   "source": [
    "tweets_df[['text', 'tweet_cleaned','VDR_sentiment', 'TB_sentiment']][:10]"
   ]
  },
  {
   "cell_type": "markdown",
   "metadata": {},
   "source": [
    "Let's compare these scores to the ones obtained for the non-preprocessed tweet texts:"
   ]
  },
  {
   "cell_type": "markdown",
   "metadata": {},
   "source": [
    "## VADER with individual score for pos/neu/neg"
   ]
  },
  {
   "cell_type": "code",
   "execution_count": 48,
   "metadata": {},
   "outputs": [],
   "source": [
    "tweets_df['VDR_detailed_sentiment'] = [get_sentiment_score_VDR(tweet, score_type='all') for tweet in tweets_df.tweet_cleaned]"
   ]
  },
  {
   "cell_type": "code",
   "execution_count": 49,
   "metadata": {},
   "outputs": [
    {
     "data": {
      "text/html": [
       "<div>\n",
       "<style scoped>\n",
       "    .dataframe tbody tr th:only-of-type {\n",
       "        vertical-align: middle;\n",
       "    }\n",
       "\n",
       "    .dataframe tbody tr th {\n",
       "        vertical-align: top;\n",
       "    }\n",
       "\n",
       "    .dataframe thead th {\n",
       "        text-align: right;\n",
       "    }\n",
       "</style>\n",
       "<table border=\"1\" class=\"dataframe\">\n",
       "  <thead>\n",
       "    <tr style=\"text-align: right;\">\n",
       "      <th></th>\n",
       "      <th>text</th>\n",
       "      <th>tweet_cleaned</th>\n",
       "      <th>VDR_sentiment</th>\n",
       "      <th>VDR_detailed_sentiment</th>\n",
       "      <th>TB_sentiment</th>\n",
       "    </tr>\n",
       "  </thead>\n",
       "  <tbody>\n",
       "    <tr>\n",
       "      <th>0</th>\n",
       "      <td>As covid-19 sweeps the world, shoppers forced to change purchase behaviour.\\n#coronavirus #consumer #behaviorchange #restaurants #theatre #automobile #health #finance #COVID19 #CoronaVirusUpdate \\nLink: https://t.co/402gGrrCAA https://t.co/WUsB26ingV</td>\n",
       "      <td>sweeps world, shoppers forced change purchase behaviour. consumer behavior change restaurants theatre automobile health finance update:</td>\n",
       "      <td>{'compound': -0.4588}</td>\n",
       "      <td>{'neg': 0.167, 'neu': 0.833, 'pos': 0.0}</td>\n",
       "      <td>-0.300</td>\n",
       "    </tr>\n",
       "    <tr>\n",
       "      <th>1</th>\n",
       "      <td>They live on a different planet....\\n\\n#COVID19 #Coronavirus #ToriesOut #PoliceState #PoliceStateUK #MassSurveillance\\n#BehavioralScience #behavioraleconomics #NWO #RevolutionNow #Censorship #Stasi #endthelockdown #NoVaccineForMe https://t.co/wyPcvRkL1C</td>\n",
       "      <td>live different planet .... tories police state police state mass surveillance behavioral science behavioral economics revolution censorship stasi endthelockdown no vaccine</td>\n",
       "      <td>{'compound': -0.296}</td>\n",
       "      <td>{'neg': 0.099, 'neu': 0.901, 'pos': 0.0}</td>\n",
       "      <td>0.068</td>\n",
       "    </tr>\n",
       "    <tr>\n",
       "      <th>2</th>\n",
       "      <td>Ask leaders to make #BehavioralScience core #education RT @BriefcaseTweets: Behavioural Design to keep safe distance \\n\\n#coronavirus #COVIDー19 #socialdistancing #behavioralscience #nudge… https://t.co/OpraxDeqxb</td>\n",
       "      <td>ask leaders make behavioral science core education behavioural design keep safe distance social distancing behavioral science nudge</td>\n",
       "      <td>{'compound': 0.4404}</td>\n",
       "      <td>{'neg': 0.0, 'neu': 0.847, 'pos': 0.153}</td>\n",
       "      <td>0.267</td>\n",
       "    </tr>\n",
       "    <tr>\n",
       "      <th>3</th>\n",
       "      <td>Ask leaders to make #BehavioralScience core #education RT @pikachanyan: RT @DavidIHodgson: #COVID19 #Coronavirus #ToriesOut #PoliceState #PoliceStateUK #MassSurveillance\\n#BehavioralScience #behavioraleconomics #…</td>\n",
       "      <td>ask leaders make behavioral science core education tories police state police state mass surveillance behavioral science behavioral economics</td>\n",
       "      <td>{'compound': 0.0}</td>\n",
       "      <td>{'neg': 0.0, 'neu': 1.0, 'pos': 0.0}</td>\n",
       "      <td>0.000</td>\n",
       "    </tr>\n",
       "    <tr>\n",
       "      <th>4</th>\n",
       "      <td>Wake up world. You're being conned. Switch off #MSM &amp;amp; start thinking for yourselves.\\n\\n#COVID19 #Coronavirus #ToriesOut #PoliceState #PoliceStateUK #MassSurveillance\\n#BehavioralScience #behavioraleconomics #NWO https://t.co/1yOWt77vIE</td>\n",
       "      <td>wake world. conned. switch; start thinking. tories police state police state mass surveillance behavioral science behavioral economics</td>\n",
       "      <td>{'compound': 0.0}</td>\n",
       "      <td>{'neg': 0.0, 'neu': 1.0, 'pos': 0.0}</td>\n",
       "      <td>0.000</td>\n",
       "    </tr>\n",
       "    <tr>\n",
       "      <th>5</th>\n",
       "      <td>I have been critical re the behavioural science &amp;amp; public communication strategies but also willing to help and contribute, signed up below to help the government crowdsource expertise. It's on all aspects of the #COVID19 pandemic so scientists of all stripes do consider joining! https://t.co/bal8v0DFXv</td>\n",
       "      <td>critical behavioural science; public communication strategies also willing help contribute, signed help government crowdsource expertise. aspects scientists stripes consider joining!</td>\n",
       "      <td>{'compound': 0.5255}</td>\n",
       "      <td>{'neg': 0.092, 'neu': 0.68, 'pos': 0.228}</td>\n",
       "      <td>0.104</td>\n",
       "    </tr>\n",
       "    <tr>\n",
       "      <th>6</th>\n",
       "      <td>@BBCNews @itvnews @piersmorgan @GMB \\n\\nAny chance of a mention for the sake of balance?\\n\\n#COVID19 #Coronavirus #ToriesOut #PoliceState #PoliceStateUK #MassSurveillance\\n#BehavioralScience #behavioraleconomics #NWO #RevolutionNow #Censorship #Stasi #endthelockdown https://t.co/Nz0MyGl1gS</td>\n",
       "      <td>chance mention sake balance? tories police state police state mass surveillance behavioral science behavioral economics revolution censorship stasi endthelockdown</td>\n",
       "      <td>{'compound': 0.25}</td>\n",
       "      <td>{'neg': 0.0, 'neu': 0.9, 'pos': 0.1}</td>\n",
       "      <td>0.000</td>\n",
       "    </tr>\n",
       "    <tr>\n",
       "      <th>7</th>\n",
       "      <td>Ask leaders to make #BehavioralScience core #education RT @DavidIHodgson: @BBCNews @itvnews @piersmorgan @GMB \\n\\nAny chance of a mention for the sake of balance?\\n\\n#COVID19 #Coronavirus… https://t.co/kVtcI3OyeQ</td>\n",
       "      <td>ask leaders make behavioral science core education chance mention sake balance?</td>\n",
       "      <td>{'compound': 0.25}</td>\n",
       "      <td>{'neg': 0.0, 'neu': 0.833, 'pos': 0.167}</td>\n",
       "      <td>0.000</td>\n",
       "    </tr>\n",
       "    <tr>\n",
       "      <th>8</th>\n",
       "      <td>@BBCNews @itvnews @piersmorgan @GMB \\n\\nAny chance of a mention for the sake of balance?\\n\\n#COVID19 #Coronavirus #ToriesOut #PoliceState #PoliceStateUK #MassSurveillance\\n#BehavioralScience #behavioraleconomics #NWO #RevolutionNow #Censorship https://t.co/HDqdJQES7T</td>\n",
       "      <td>chance mention sake balance? tories police state police state mass surveillance behavioral science behavioral economics revolution censorship</td>\n",
       "      <td>{'compound': 0.25}</td>\n",
       "      <td>{'neg': 0.0, 'neu': 0.889, 'pos': 0.111}</td>\n",
       "      <td>0.000</td>\n",
       "    </tr>\n",
       "    <tr>\n",
       "      <th>9</th>\n",
       "      <td>The importance of Integrating hygiene behaviour change into routine immunisation programme is more important then ever in this COVID19 pandemic! #WASH #Vaccine #COVID19 #Hygiene https://t.co/uPrwSsBJWv</td>\n",
       "      <td>importance integrating hygiene behaviour change routine immunisation programme important ever! vaccine hygiene</td>\n",
       "      <td>{'compound': 0.5562}</td>\n",
       "      <td>{'neg': 0.0, 'neu': 0.685, 'pos': 0.315}</td>\n",
       "      <td>0.500</td>\n",
       "    </tr>\n",
       "  </tbody>\n",
       "</table>\n",
       "</div>"
      ],
      "text/plain": [
       "                                                                                                                                                                                                                                                                                                                  text  \\\n",
       "0                                                           As covid-19 sweeps the world, shoppers forced to change purchase behaviour.\\n#coronavirus #consumer #behaviorchange #restaurants #theatre #automobile #health #finance #COVID19 #CoronaVirusUpdate \\nLink: https://t.co/402gGrrCAA https://t.co/WUsB26ingV   \n",
       "1                                                        They live on a different planet....\\n\\n#COVID19 #Coronavirus #ToriesOut #PoliceState #PoliceStateUK #MassSurveillance\\n#BehavioralScience #behavioraleconomics #NWO #RevolutionNow #Censorship #Stasi #endthelockdown #NoVaccineForMe https://t.co/wyPcvRkL1C   \n",
       "2                                                                                                 Ask leaders to make #BehavioralScience core #education RT @BriefcaseTweets: Behavioural Design to keep safe distance \\n\\n#coronavirus #COVIDー19 #socialdistancing #behavioralscience #nudge… https://t.co/OpraxDeqxb   \n",
       "3                                                                                                Ask leaders to make #BehavioralScience core #education RT @pikachanyan: RT @DavidIHodgson: #COVID19 #Coronavirus #ToriesOut #PoliceState #PoliceStateUK #MassSurveillance\\n#BehavioralScience #behavioraleconomics #…   \n",
       "4                                                                     Wake up world. You're being conned. Switch off #MSM &amp; start thinking for yourselves.\\n\\n#COVID19 #Coronavirus #ToriesOut #PoliceState #PoliceStateUK #MassSurveillance\\n#BehavioralScience #behavioraleconomics #NWO https://t.co/1yOWt77vIE   \n",
       "5  I have been critical re the behavioural science &amp; public communication strategies but also willing to help and contribute, signed up below to help the government crowdsource expertise. It's on all aspects of the #COVID19 pandemic so scientists of all stripes do consider joining! https://t.co/bal8v0DFXv   \n",
       "6                   @BBCNews @itvnews @piersmorgan @GMB \\n\\nAny chance of a mention for the sake of balance?\\n\\n#COVID19 #Coronavirus #ToriesOut #PoliceState #PoliceStateUK #MassSurveillance\\n#BehavioralScience #behavioraleconomics #NWO #RevolutionNow #Censorship #Stasi #endthelockdown https://t.co/Nz0MyGl1gS   \n",
       "7                                                                                                 Ask leaders to make #BehavioralScience core #education RT @DavidIHodgson: @BBCNews @itvnews @piersmorgan @GMB \\n\\nAny chance of a mention for the sake of balance?\\n\\n#COVID19 #Coronavirus… https://t.co/kVtcI3OyeQ   \n",
       "8                                          @BBCNews @itvnews @piersmorgan @GMB \\n\\nAny chance of a mention for the sake of balance?\\n\\n#COVID19 #Coronavirus #ToriesOut #PoliceState #PoliceStateUK #MassSurveillance\\n#BehavioralScience #behavioraleconomics #NWO #RevolutionNow #Censorship https://t.co/HDqdJQES7T   \n",
       "9                                                                                                            The importance of Integrating hygiene behaviour change into routine immunisation programme is more important then ever in this COVID19 pandemic! #WASH #Vaccine #COVID19 #Hygiene https://t.co/uPrwSsBJWv   \n",
       "\n",
       "                                                                                                                                                                            tweet_cleaned  \\\n",
       "0                                                 sweeps world, shoppers forced change purchase behaviour. consumer behavior change restaurants theatre automobile health finance update:   \n",
       "1             live different planet .... tories police state police state mass surveillance behavioral science behavioral economics revolution censorship stasi endthelockdown no vaccine   \n",
       "2                                                     ask leaders make behavioral science core education behavioural design keep safe distance social distancing behavioral science nudge   \n",
       "3                                           ask leaders make behavioral science core education tories police state police state mass surveillance behavioral science behavioral economics   \n",
       "4                                                  wake world. conned. switch; start thinking. tories police state police state mass surveillance behavioral science behavioral economics   \n",
       "5  critical behavioural science; public communication strategies also willing help contribute, signed help government crowdsource expertise. aspects scientists stripes consider joining!   \n",
       "6                      chance mention sake balance? tories police state police state mass surveillance behavioral science behavioral economics revolution censorship stasi endthelockdown   \n",
       "7                                                                                                         ask leaders make behavioral science core education chance mention sake balance?   \n",
       "8                                           chance mention sake balance? tories police state police state mass surveillance behavioral science behavioral economics revolution censorship   \n",
       "9                                                                          importance integrating hygiene behaviour change routine immunisation programme important ever! vaccine hygiene   \n",
       "\n",
       "           VDR_sentiment                     VDR_detailed_sentiment  \\\n",
       "0  {'compound': -0.4588}   {'neg': 0.167, 'neu': 0.833, 'pos': 0.0}   \n",
       "1   {'compound': -0.296}   {'neg': 0.099, 'neu': 0.901, 'pos': 0.0}   \n",
       "2   {'compound': 0.4404}   {'neg': 0.0, 'neu': 0.847, 'pos': 0.153}   \n",
       "3      {'compound': 0.0}       {'neg': 0.0, 'neu': 1.0, 'pos': 0.0}   \n",
       "4      {'compound': 0.0}       {'neg': 0.0, 'neu': 1.0, 'pos': 0.0}   \n",
       "5   {'compound': 0.5255}  {'neg': 0.092, 'neu': 0.68, 'pos': 0.228}   \n",
       "6     {'compound': 0.25}       {'neg': 0.0, 'neu': 0.9, 'pos': 0.1}   \n",
       "7     {'compound': 0.25}   {'neg': 0.0, 'neu': 0.833, 'pos': 0.167}   \n",
       "8     {'compound': 0.25}   {'neg': 0.0, 'neu': 0.889, 'pos': 0.111}   \n",
       "9   {'compound': 0.5562}   {'neg': 0.0, 'neu': 0.685, 'pos': 0.315}   \n",
       "\n",
       "   TB_sentiment  \n",
       "0        -0.300  \n",
       "1         0.068  \n",
       "2         0.267  \n",
       "3         0.000  \n",
       "4         0.000  \n",
       "5         0.104  \n",
       "6         0.000  \n",
       "7         0.000  \n",
       "8         0.000  \n",
       "9         0.500  "
      ]
     },
     "execution_count": 49,
     "metadata": {},
     "output_type": "execute_result"
    }
   ],
   "source": [
    "tweets_df[['text', 'tweet_cleaned','VDR_sentiment', 'VDR_detailed_sentiment', 'TB_sentiment']][:10]"
   ]
  },
  {
   "cell_type": "code",
   "execution_count": null,
   "metadata": {},
   "outputs": [],
   "source": []
  },
  {
   "cell_type": "markdown",
   "metadata": {},
   "source": [
    "## Let's clean the text less"
   ]
  },
  {
   "cell_type": "markdown",
   "metadata": {},
   "source": [
    "Let's try not to clean the text as much as Vader should be sensitive to emoticons, capital letter that emphasise, etc... See: https://medium.com/analytics-vidhya/simplifying-social-media-sentiment-analysis-using-vader-in-python-f9e6ec6fc52f\n",
    "\n",
    "So, we will:\n",
    "\n",
    "- keep emojis and emoticons in as they are\n",
    "- not lemmatise\n",
    "- not lower-case\n",
    "- not remove stop-words "
   ]
  },
  {
   "cell_type": "markdown",
   "metadata": {},
   "source": [
    "#### New cleaning steps\n",
    "\n",
    "1. Replace URLs with word \"url\" or remove them\n",
    "2. Remove first name of users metioned or replace them with \"user_mentioned\"\n",
    "3. Replace all the hashtags with the words with the hash symbol (e.g., \"#hello\" -> \"hello\")\n"
   ]
  },
  {
   "cell_type": "markdown",
   "metadata": {},
   "source": [
    "4. Split compounded-by-upper-case strings\n",
    "5. Split compounded-by-underscore \"_\" strings (this is two get the words that make up the emojis descriptions)\n",
    "6. Remove digits\n",
    "7. Remove single-character words\n",
    "8. Split domain-specific compunded all-lower-case strings (e.g., behaviouraleconomics)"
   ]
  },
  {
   "cell_type": "code",
   "execution_count": 50,
   "metadata": {},
   "outputs": [],
   "source": [
    "tweets_2 = [clean_tweet_quibbles(tweet) for tweet in tweets_df.text]"
   ]
  },
  {
   "cell_type": "code",
   "execution_count": 51,
   "metadata": {
    "scrolled": true
   },
   "outputs": [
    {
     "data": {
      "text/plain": [
       "['As covid-19 sweeps the world, shoppers forced to change purchase behaviour. coronavirus consumer behaviorchange restaurants theatre automobile health finance COVID19 CoronaVirusUpdate Link:',\n",
       " 'They live on a different planet.... COVID19 Coronavirus ToriesOut PoliceState PoliceStateUK MassSurveillance BehavioralScience behavioraleconomics NWO RevolutionNow Censorship Stasi endthelockdown NoVaccineForMe',\n",
       " 'Ask leaders to make BehavioralScience core education RT Behavioural Design to keep safe distance coronavirus COVID19 socialdistancing behavioralscience nudge',\n",
       " 'Ask leaders to make BehavioralScience core education RT RT COVID19 Coronavirus ToriesOut PoliceState PoliceStateUK MassSurveillance BehavioralScience behavioraleconomics',\n",
       " \"Wake up world. You're being conned. Switch off MSM &amp; start thinking for yourselves. COVID19 Coronavirus ToriesOut PoliceState PoliceStateUK MassSurveillance BehavioralScience behavioraleconomics NWO\"]"
      ]
     },
     "execution_count": 51,
     "metadata": {},
     "output_type": "execute_result"
    }
   ],
   "source": [
    "tweets_2[:5]"
   ]
  },
  {
   "cell_type": "code",
   "execution_count": 52,
   "metadata": {},
   "outputs": [],
   "source": [
    "tweets_2 = [preproc_pipe1(tweet) for tweet in tweets_2]"
   ]
  },
  {
   "cell_type": "code",
   "execution_count": 53,
   "metadata": {},
   "outputs": [
    {
     "data": {
      "text/plain": [
       "['As covid- sweeps the world, shoppers forced to change purchase behaviour. coronavirus consumer behavior change restaurants theatre automobile health finance Corona Virus Update Link:',\n",
       " 'They live on different planet.... Coronavirus Tories Out Police State Police State Mass Surveillance Behavioral Science behavioral economics Revolution Now Censorship Stasi endthelockdown No Vaccine For Me',\n",
       " 'Ask leaders to make Behavioral Science core education Behavioural Design to keep safe distance coronavirus social distancing behavioral science nudge',\n",
       " 'Ask leaders to make Behavioral Science core education Coronavirus Tories Out Police State Police State Mass Surveillance Behavioral Science behavioral economics',\n",
       " \"Wake up world. You're being conned. Switch off &amp; start thinking for yourselves. Coronavirus Tories Out Police State Police State Mass Surveillance Behavioral Science behavioral economics\"]"
      ]
     },
     "execution_count": 53,
     "metadata": {},
     "output_type": "execute_result"
    }
   ],
   "source": [
    "tweets_2[:5]"
   ]
  },
  {
   "cell_type": "code",
   "execution_count": 54,
   "metadata": {},
   "outputs": [],
   "source": [
    "tweets_df['tweet_cleaned_less'] = tweets_2"
   ]
  },
  {
   "cell_type": "code",
   "execution_count": 55,
   "metadata": {},
   "outputs": [],
   "source": [
    "tweets_df['VDR_sentiment_2'] = [get_sentiment_score_VDR(tweet) for tweet in tweets_df.tweet_cleaned_less]"
   ]
  },
  {
   "cell_type": "code",
   "execution_count": 56,
   "metadata": {},
   "outputs": [],
   "source": [
    "tweets_df['VDR_detailed_sentiment_2'] = [get_sentiment_score_VDR(tweet, score_type='all') for tweet in tweets_df.tweet_cleaned_less]"
   ]
  },
  {
   "cell_type": "code",
   "execution_count": 57,
   "metadata": {},
   "outputs": [
    {
     "data": {
      "text/html": [
       "<div>\n",
       "<style scoped>\n",
       "    .dataframe tbody tr th:only-of-type {\n",
       "        vertical-align: middle;\n",
       "    }\n",
       "\n",
       "    .dataframe tbody tr th {\n",
       "        vertical-align: top;\n",
       "    }\n",
       "\n",
       "    .dataframe thead th {\n",
       "        text-align: right;\n",
       "    }\n",
       "</style>\n",
       "<table border=\"1\" class=\"dataframe\">\n",
       "  <thead>\n",
       "    <tr style=\"text-align: right;\">\n",
       "      <th></th>\n",
       "      <th>text</th>\n",
       "      <th>tweet_cleaned_less</th>\n",
       "      <th>VDR_sentiment</th>\n",
       "      <th>VDR_sentiment_2</th>\n",
       "      <th>VDR_detailed_sentiment</th>\n",
       "      <th>VDR_detailed_sentiment_2</th>\n",
       "    </tr>\n",
       "  </thead>\n",
       "  <tbody>\n",
       "    <tr>\n",
       "      <th>0</th>\n",
       "      <td>As covid-19 sweeps the world, shoppers forced to change purchase behaviour.\\n#coronavirus #consumer #behaviorchange #restaurants #theatre #automobile #health #finance #COVID19 #CoronaVirusUpdate \\nLink: https://t.co/402gGrrCAA https://t.co/WUsB26ingV</td>\n",
       "      <td>As covid- sweeps the world, shoppers forced to change purchase behaviour. coronavirus consumer behavior change restaurants theatre automobile health finance Corona Virus Update Link:</td>\n",
       "      <td>{'compound': -0.4588}</td>\n",
       "      <td>{'compound': -0.4588}</td>\n",
       "      <td>{'neg': 0.167, 'neu': 0.833, 'pos': 0.0}</td>\n",
       "      <td>{'neg': 0.115, 'neu': 0.885, 'pos': 0.0}</td>\n",
       "    </tr>\n",
       "    <tr>\n",
       "      <th>1</th>\n",
       "      <td>They live on a different planet....\\n\\n#COVID19 #Coronavirus #ToriesOut #PoliceState #PoliceStateUK #MassSurveillance\\n#BehavioralScience #behavioraleconomics #NWO #RevolutionNow #Censorship #Stasi #endthelockdown #NoVaccineForMe https://t.co/wyPcvRkL1C</td>\n",
       "      <td>They live on different planet.... Coronavirus Tories Out Police State Police State Mass Surveillance Behavioral Science behavioral economics Revolution Now Censorship Stasi endthelockdown No Vaccine For Me</td>\n",
       "      <td>{'compound': -0.296}</td>\n",
       "      <td>{'compound': -0.296}</td>\n",
       "      <td>{'neg': 0.099, 'neu': 0.901, 'pos': 0.0}</td>\n",
       "      <td>{'neg': 0.078, 'neu': 0.922, 'pos': 0.0}</td>\n",
       "    </tr>\n",
       "    <tr>\n",
       "      <th>2</th>\n",
       "      <td>Ask leaders to make #BehavioralScience core #education RT @BriefcaseTweets: Behavioural Design to keep safe distance \\n\\n#coronavirus #COVIDー19 #socialdistancing #behavioralscience #nudge… https://t.co/OpraxDeqxb</td>\n",
       "      <td>Ask leaders to make Behavioral Science core education Behavioural Design to keep safe distance coronavirus social distancing behavioral science nudge</td>\n",
       "      <td>{'compound': 0.4404}</td>\n",
       "      <td>{'compound': 0.4404}</td>\n",
       "      <td>{'neg': 0.0, 'neu': 0.847, 'pos': 0.153}</td>\n",
       "      <td>{'neg': 0.0, 'neu': 0.868, 'pos': 0.132}</td>\n",
       "    </tr>\n",
       "    <tr>\n",
       "      <th>3</th>\n",
       "      <td>Ask leaders to make #BehavioralScience core #education RT @pikachanyan: RT @DavidIHodgson: #COVID19 #Coronavirus #ToriesOut #PoliceState #PoliceStateUK #MassSurveillance\\n#BehavioralScience #behavioraleconomics #…</td>\n",
       "      <td>Ask leaders to make Behavioral Science core education Coronavirus Tories Out Police State Police State Mass Surveillance Behavioral Science behavioral economics</td>\n",
       "      <td>{'compound': 0.0}</td>\n",
       "      <td>{'compound': 0.0}</td>\n",
       "      <td>{'neg': 0.0, 'neu': 1.0, 'pos': 0.0}</td>\n",
       "      <td>{'neg': 0.0, 'neu': 1.0, 'pos': 0.0}</td>\n",
       "    </tr>\n",
       "    <tr>\n",
       "      <th>4</th>\n",
       "      <td>Wake up world. You're being conned. Switch off #MSM &amp;amp; start thinking for yourselves.\\n\\n#COVID19 #Coronavirus #ToriesOut #PoliceState #PoliceStateUK #MassSurveillance\\n#BehavioralScience #behavioraleconomics #NWO https://t.co/1yOWt77vIE</td>\n",
       "      <td>Wake up world. You're being conned. Switch off &amp;amp; start thinking for yourselves. Coronavirus Tories Out Police State Police State Mass Surveillance Behavioral Science behavioral economics</td>\n",
       "      <td>{'compound': 0.0}</td>\n",
       "      <td>{'compound': 0.0}</td>\n",
       "      <td>{'neg': 0.0, 'neu': 1.0, 'pos': 0.0}</td>\n",
       "      <td>{'neg': 0.0, 'neu': 1.0, 'pos': 0.0}</td>\n",
       "    </tr>\n",
       "    <tr>\n",
       "      <th>5</th>\n",
       "      <td>I have been critical re the behavioural science &amp;amp; public communication strategies but also willing to help and contribute, signed up below to help the government crowdsource expertise. It's on all aspects of the #COVID19 pandemic so scientists of all stripes do consider joining! https://t.co/bal8v0DFXv</td>\n",
       "      <td>have been critical re the behavioural science &amp;amp; public communication strategies but also willing to help and contribute, signed up below to help the government crowdsource expertise. It's on all aspects of the pandemic so scientists of all stripes do consider joining!</td>\n",
       "      <td>{'compound': 0.5255}</td>\n",
       "      <td>{'compound': 0.7745}</td>\n",
       "      <td>{'neg': 0.092, 'neu': 0.68, 'pos': 0.228}</td>\n",
       "      <td>{'neg': 0.034, 'neu': 0.812, 'pos': 0.154}</td>\n",
       "    </tr>\n",
       "    <tr>\n",
       "      <th>6</th>\n",
       "      <td>@BBCNews @itvnews @piersmorgan @GMB \\n\\nAny chance of a mention for the sake of balance?\\n\\n#COVID19 #Coronavirus #ToriesOut #PoliceState #PoliceStateUK #MassSurveillance\\n#BehavioralScience #behavioraleconomics #NWO #RevolutionNow #Censorship #Stasi #endthelockdown https://t.co/Nz0MyGl1gS</td>\n",
       "      <td>Any chance of mention for the sake of balance? Coronavirus Tories Out Police State Police State Mass Surveillance Behavioral Science behavioral economics Revolution Now Censorship Stasi endthelockdown</td>\n",
       "      <td>{'compound': 0.25}</td>\n",
       "      <td>{'compound': 0.25}</td>\n",
       "      <td>{'neg': 0.0, 'neu': 0.9, 'pos': 0.1}</td>\n",
       "      <td>{'neg': 0.0, 'neu': 0.929, 'pos': 0.071}</td>\n",
       "    </tr>\n",
       "    <tr>\n",
       "      <th>7</th>\n",
       "      <td>Ask leaders to make #BehavioralScience core #education RT @DavidIHodgson: @BBCNews @itvnews @piersmorgan @GMB \\n\\nAny chance of a mention for the sake of balance?\\n\\n#COVID19 #Coronavirus… https://t.co/kVtcI3OyeQ</td>\n",
       "      <td>Ask leaders to make Behavioral Science core education Any chance of mention for the sake of balance? Coronavirus</td>\n",
       "      <td>{'compound': 0.25}</td>\n",
       "      <td>{'compound': 0.25}</td>\n",
       "      <td>{'neg': 0.0, 'neu': 0.833, 'pos': 0.167}</td>\n",
       "      <td>{'neg': 0.0, 'neu': 0.895, 'pos': 0.105}</td>\n",
       "    </tr>\n",
       "    <tr>\n",
       "      <th>8</th>\n",
       "      <td>@BBCNews @itvnews @piersmorgan @GMB \\n\\nAny chance of a mention for the sake of balance?\\n\\n#COVID19 #Coronavirus #ToriesOut #PoliceState #PoliceStateUK #MassSurveillance\\n#BehavioralScience #behavioraleconomics #NWO #RevolutionNow #Censorship https://t.co/HDqdJQES7T</td>\n",
       "      <td>Any chance of mention for the sake of balance? Coronavirus Tories Out Police State Police State Mass Surveillance Behavioral Science behavioral economics Revolution Now Censorship</td>\n",
       "      <td>{'compound': 0.25}</td>\n",
       "      <td>{'compound': 0.25}</td>\n",
       "      <td>{'neg': 0.0, 'neu': 0.889, 'pos': 0.111}</td>\n",
       "      <td>{'neg': 0.0, 'neu': 0.923, 'pos': 0.077}</td>\n",
       "    </tr>\n",
       "    <tr>\n",
       "      <th>9</th>\n",
       "      <td>The importance of Integrating hygiene behaviour change into routine immunisation programme is more important then ever in this COVID19 pandemic! #WASH #Vaccine #COVID19 #Hygiene https://t.co/uPrwSsBJWv</td>\n",
       "      <td>The importance of Integrating hygiene behaviour change into routine immunisation programme is more important then ever in this pandemic! Vaccine Hygiene</td>\n",
       "      <td>{'compound': 0.5562}</td>\n",
       "      <td>{'compound': 0.5974}</td>\n",
       "      <td>{'neg': 0.0, 'neu': 0.685, 'pos': 0.315}</td>\n",
       "      <td>{'neg': 0.0, 'neu': 0.795, 'pos': 0.205}</td>\n",
       "    </tr>\n",
       "  </tbody>\n",
       "</table>\n",
       "</div>"
      ],
      "text/plain": [
       "                                                                                                                                                                                                                                                                                                                  text  \\\n",
       "0                                                           As covid-19 sweeps the world, shoppers forced to change purchase behaviour.\\n#coronavirus #consumer #behaviorchange #restaurants #theatre #automobile #health #finance #COVID19 #CoronaVirusUpdate \\nLink: https://t.co/402gGrrCAA https://t.co/WUsB26ingV   \n",
       "1                                                        They live on a different planet....\\n\\n#COVID19 #Coronavirus #ToriesOut #PoliceState #PoliceStateUK #MassSurveillance\\n#BehavioralScience #behavioraleconomics #NWO #RevolutionNow #Censorship #Stasi #endthelockdown #NoVaccineForMe https://t.co/wyPcvRkL1C   \n",
       "2                                                                                                 Ask leaders to make #BehavioralScience core #education RT @BriefcaseTweets: Behavioural Design to keep safe distance \\n\\n#coronavirus #COVIDー19 #socialdistancing #behavioralscience #nudge… https://t.co/OpraxDeqxb   \n",
       "3                                                                                                Ask leaders to make #BehavioralScience core #education RT @pikachanyan: RT @DavidIHodgson: #COVID19 #Coronavirus #ToriesOut #PoliceState #PoliceStateUK #MassSurveillance\\n#BehavioralScience #behavioraleconomics #…   \n",
       "4                                                                     Wake up world. You're being conned. Switch off #MSM &amp; start thinking for yourselves.\\n\\n#COVID19 #Coronavirus #ToriesOut #PoliceState #PoliceStateUK #MassSurveillance\\n#BehavioralScience #behavioraleconomics #NWO https://t.co/1yOWt77vIE   \n",
       "5  I have been critical re the behavioural science &amp; public communication strategies but also willing to help and contribute, signed up below to help the government crowdsource expertise. It's on all aspects of the #COVID19 pandemic so scientists of all stripes do consider joining! https://t.co/bal8v0DFXv   \n",
       "6                   @BBCNews @itvnews @piersmorgan @GMB \\n\\nAny chance of a mention for the sake of balance?\\n\\n#COVID19 #Coronavirus #ToriesOut #PoliceState #PoliceStateUK #MassSurveillance\\n#BehavioralScience #behavioraleconomics #NWO #RevolutionNow #Censorship #Stasi #endthelockdown https://t.co/Nz0MyGl1gS   \n",
       "7                                                                                                 Ask leaders to make #BehavioralScience core #education RT @DavidIHodgson: @BBCNews @itvnews @piersmorgan @GMB \\n\\nAny chance of a mention for the sake of balance?\\n\\n#COVID19 #Coronavirus… https://t.co/kVtcI3OyeQ   \n",
       "8                                          @BBCNews @itvnews @piersmorgan @GMB \\n\\nAny chance of a mention for the sake of balance?\\n\\n#COVID19 #Coronavirus #ToriesOut #PoliceState #PoliceStateUK #MassSurveillance\\n#BehavioralScience #behavioraleconomics #NWO #RevolutionNow #Censorship https://t.co/HDqdJQES7T   \n",
       "9                                                                                                            The importance of Integrating hygiene behaviour change into routine immunisation programme is more important then ever in this COVID19 pandemic! #WASH #Vaccine #COVID19 #Hygiene https://t.co/uPrwSsBJWv   \n",
       "\n",
       "                                                                                                                                                                                                                                                                 tweet_cleaned_less  \\\n",
       "0                                                                                            As covid- sweeps the world, shoppers forced to change purchase behaviour. coronavirus consumer behavior change restaurants theatre automobile health finance Corona Virus Update Link:   \n",
       "1                                                                     They live on different planet.... Coronavirus Tories Out Police State Police State Mass Surveillance Behavioral Science behavioral economics Revolution Now Censorship Stasi endthelockdown No Vaccine For Me   \n",
       "2                                                                                                                             Ask leaders to make Behavioral Science core education Behavioural Design to keep safe distance coronavirus social distancing behavioral science nudge   \n",
       "3                                                                                                                  Ask leaders to make Behavioral Science core education Coronavirus Tories Out Police State Police State Mass Surveillance Behavioral Science behavioral economics   \n",
       "4                                                                                    Wake up world. You're being conned. Switch off &amp; start thinking for yourselves. Coronavirus Tories Out Police State Police State Mass Surveillance Behavioral Science behavioral economics   \n",
       "5  have been critical re the behavioural science &amp; public communication strategies but also willing to help and contribute, signed up below to help the government crowdsource expertise. It's on all aspects of the pandemic so scientists of all stripes do consider joining!   \n",
       "6                                                                          Any chance of mention for the sake of balance? Coronavirus Tories Out Police State Police State Mass Surveillance Behavioral Science behavioral economics Revolution Now Censorship Stasi endthelockdown   \n",
       "7                                                                                                                                                                  Ask leaders to make Behavioral Science core education Any chance of mention for the sake of balance? Coronavirus   \n",
       "8                                                                                               Any chance of mention for the sake of balance? Coronavirus Tories Out Police State Police State Mass Surveillance Behavioral Science behavioral economics Revolution Now Censorship   \n",
       "9                                                                                                                          The importance of Integrating hygiene behaviour change into routine immunisation programme is more important then ever in this pandemic! Vaccine Hygiene   \n",
       "\n",
       "           VDR_sentiment        VDR_sentiment_2  \\\n",
       "0  {'compound': -0.4588}  {'compound': -0.4588}   \n",
       "1   {'compound': -0.296}   {'compound': -0.296}   \n",
       "2   {'compound': 0.4404}   {'compound': 0.4404}   \n",
       "3      {'compound': 0.0}      {'compound': 0.0}   \n",
       "4      {'compound': 0.0}      {'compound': 0.0}   \n",
       "5   {'compound': 0.5255}   {'compound': 0.7745}   \n",
       "6     {'compound': 0.25}     {'compound': 0.25}   \n",
       "7     {'compound': 0.25}     {'compound': 0.25}   \n",
       "8     {'compound': 0.25}     {'compound': 0.25}   \n",
       "9   {'compound': 0.5562}   {'compound': 0.5974}   \n",
       "\n",
       "                      VDR_detailed_sentiment  \\\n",
       "0   {'neg': 0.167, 'neu': 0.833, 'pos': 0.0}   \n",
       "1   {'neg': 0.099, 'neu': 0.901, 'pos': 0.0}   \n",
       "2   {'neg': 0.0, 'neu': 0.847, 'pos': 0.153}   \n",
       "3       {'neg': 0.0, 'neu': 1.0, 'pos': 0.0}   \n",
       "4       {'neg': 0.0, 'neu': 1.0, 'pos': 0.0}   \n",
       "5  {'neg': 0.092, 'neu': 0.68, 'pos': 0.228}   \n",
       "6       {'neg': 0.0, 'neu': 0.9, 'pos': 0.1}   \n",
       "7   {'neg': 0.0, 'neu': 0.833, 'pos': 0.167}   \n",
       "8   {'neg': 0.0, 'neu': 0.889, 'pos': 0.111}   \n",
       "9   {'neg': 0.0, 'neu': 0.685, 'pos': 0.315}   \n",
       "\n",
       "                     VDR_detailed_sentiment_2  \n",
       "0    {'neg': 0.115, 'neu': 0.885, 'pos': 0.0}  \n",
       "1    {'neg': 0.078, 'neu': 0.922, 'pos': 0.0}  \n",
       "2    {'neg': 0.0, 'neu': 0.868, 'pos': 0.132}  \n",
       "3        {'neg': 0.0, 'neu': 1.0, 'pos': 0.0}  \n",
       "4        {'neg': 0.0, 'neu': 1.0, 'pos': 0.0}  \n",
       "5  {'neg': 0.034, 'neu': 0.812, 'pos': 0.154}  \n",
       "6    {'neg': 0.0, 'neu': 0.929, 'pos': 0.071}  \n",
       "7    {'neg': 0.0, 'neu': 0.895, 'pos': 0.105}  \n",
       "8    {'neg': 0.0, 'neu': 0.923, 'pos': 0.077}  \n",
       "9    {'neg': 0.0, 'neu': 0.795, 'pos': 0.205}  "
      ]
     },
     "execution_count": 57,
     "metadata": {},
     "output_type": "execute_result"
    }
   ],
   "source": [
    "tweets_df[['text', 'tweet_cleaned_less','VDR_sentiment', 'VDR_sentiment_2', 'VDR_detailed_sentiment', 'VDR_detailed_sentiment_2']][:10]"
   ]
  },
  {
   "cell_type": "markdown",
   "metadata": {},
   "source": [
    "Not much difference, really."
   ]
  },
  {
   "cell_type": "code",
   "execution_count": null,
   "metadata": {},
   "outputs": [],
   "source": []
  },
  {
   "cell_type": "code",
   "execution_count": null,
   "metadata": {},
   "outputs": [],
   "source": []
  },
  {
   "cell_type": "markdown",
   "metadata": {},
   "source": [
    "## Save dataset with sentiment scores"
   ]
  },
  {
   "cell_type": "code",
   "execution_count": 58,
   "metadata": {},
   "outputs": [],
   "source": [
    "tweets_df_to_save = tweets_df[['id', 'created_at', 'favorite_count', 'retweet_count', \n",
    "           'text', 'tweet_cleaned', 'tweet_cleaned_less', 'VDR_sentiment', 'VDR_sentiment_2', 'TB_sentiment', 'VDR_detailed_sentiment', 'VDR_detailed_sentiment_2']]"
   ]
  },
  {
   "cell_type": "code",
   "execution_count": 59,
   "metadata": {},
   "outputs": [],
   "source": [
    "tweets_df_to_save.to_csv(os.path.join(DATA_DIR, \"tweets_en_lexicon_sentiments.csv\"))"
   ]
  },
  {
   "cell_type": "code",
   "execution_count": 60,
   "metadata": {},
   "outputs": [],
   "source": [
    "tweets_df_to_save.to_pickle(os.path.join(DATA_DIR, \"tweets_en_lexicon_sentiments.pickle\"))"
   ]
  },
  {
   "cell_type": "code",
   "execution_count": null,
   "metadata": {},
   "outputs": [],
   "source": []
  }
 ],
 "metadata": {
  "kernelspec": {
   "display_name": "Python 3",
   "language": "python",
   "name": "python3"
  },
  "language_info": {
   "codemirror_mode": {
    "name": "ipython",
    "version": 3
   },
   "file_extension": ".py",
   "mimetype": "text/x-python",
   "name": "python",
   "nbconvert_exporter": "python",
   "pygments_lexer": "ipython3",
   "version": "3.8.1"
  }
 },
 "nbformat": 4,
 "nbformat_minor": 4
}
